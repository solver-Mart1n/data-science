{
  "nbformat": 4,
  "nbformat_minor": 0,
  "metadata": {
    "colab": {
      "provenance": [],
      "toc_visible": true,
      "authorship_tag": "ABX9TyMDSjTyuq68wSG4Z7+vfcMu",
      "include_colab_link": true
    },
    "kernelspec": {
      "name": "python3",
      "display_name": "Python 3"
    },
    "language_info": {
      "name": "python"
    }
  },
  "cells": [
    {
      "cell_type": "markdown",
      "metadata": {
        "id": "view-in-github",
        "colab_type": "text"
      },
      "source": [
        "<a href=\"https://colab.research.google.com/github/solver-Mart1n/data-science/blob/solver-Martin-Datasource-Integration/activities/data_source/integration/1_Lab_datasource_integration_Kaggle.ipynb\" target=\"_parent\"><img src=\"https://colab.research.google.com/assets/colab-badge.svg\" alt=\"Open In Colab\"/></a>"
      ]
    },
    {
      "cell_type": "markdown",
      "source": [
        "# Import Datasets from Kaggle to Google Colab"
      ],
      "metadata": {
        "id": "bZRjYZgknO2A"
      }
    },
    {
      "cell_type": "markdown",
      "source": [
        "## Install the kaggle python 3 library"
      ],
      "metadata": {
        "id": "vysq_1iUow1u"
      }
    },
    {
      "cell_type": "code",
      "execution_count": null,
      "metadata": {
        "id": "Ky7WR4NskgGV"
      },
      "outputs": [],
      "source": [
        "! pip install kaggle"
      ]
    },
    {
      "cell_type": "markdown",
      "source": [
        "## Load Your Kaggle API Endpoint Key\n",
        "Next, you will need to provide access to Kaggle API endpoints to this notebook.\n",
        "\n",
        "This requires you to upload the kaggle.json file from your Kaggle Account to this notebook's session storage /content."
      ],
      "metadata": {
        "id": "xT_CFPPknZ3N"
      }
    },
    {
      "cell_type": "markdown",
      "source": [
        "### Option 1: Manually Uploading the Kaggle API Endpoint Key\n",
        "\n",
        "Refer to the [How to Load Kaggle Datasets Directly Into Google Colab?](https://www.analyticsvidhya.com/blog/2021/06/how-to-load-kaggle-datasets-directly-into-google-colab/)\n",
        "blog for more details with this method."
      ],
      "metadata": {
        "id": "OlfuTpLwHyNh"
      }
    },
    {
      "cell_type": "code",
      "source": [
        "! mkdir ~/.kaggle"
      ],
      "metadata": {
        "id": "Wd2l8RPgl2PX"
      },
      "execution_count": 2,
      "outputs": []
    },
    {
      "cell_type": "code",
      "source": [
        "! cp kaggle.json ~/.kaggle/"
      ],
      "metadata": {
        "id": "qMCTYh5Ll4S1"
      },
      "execution_count": 3,
      "outputs": []
    },
    {
      "cell_type": "code",
      "source": [
        "! chmod 600 ~/.kaggle/kaggle.json"
      ],
      "metadata": {
        "id": "WLE-5HSol7FW"
      },
      "execution_count": 4,
      "outputs": []
    },
    {
      "cell_type": "markdown",
      "source": [
        "### Option 2: Using Google Drive as Kaggle API Endpoint Key Storage\n",
        "Refer to the [Importing Datasets from Kaggle to Google Colab](https://saturncloud.io/blog/importing-datasets-from-kaggle-to-google-colab/) blog for more details with this method."
      ],
      "metadata": {
        "id": "UMM4jusIHFCJ"
      }
    },
    {
      "cell_type": "code",
      "source": [
        "from google.colab import drive\n",
        "drive.mount('/content/drive')"
      ],
      "metadata": {
        "id": "izSxomoyHGVg"
      },
      "execution_count": null,
      "outputs": []
    },
    {
      "cell_type": "code",
      "source": [
        "import os\n",
        "os.environ['KAGGLE_CONFIG_DIR'] = '/content/drive/MyDrive/kaggle'"
      ],
      "metadata": {
        "id": "Wgq1DZawHLby"
      },
      "execution_count": 5,
      "outputs": []
    },
    {
      "cell_type": "markdown",
      "source": [
        "## Load Your Kaggle Dataset\n",
        "You may now access the datasets or specific files within them as follows. The -f option flag takes in the specific file you want to access."
      ],
      "metadata": {
        "id": "dlx5fdreHSyx"
      }
    },
    {
      "cell_type": "code",
      "source": [
        "! kaggle datasets download martinjohnhborja/san-francisco-film-locations -f Film_Locations_in_San_Francisco_20240504.csv"
      ],
      "metadata": {
        "id": "yQcTTlVVl8ed"
      },
      "execution_count": null,
      "outputs": []
    },
    {
      "cell_type": "markdown",
      "source": [
        "## Conclusion\n",
        "Congratulations! You are now capable of loading datasets from Kaggle to Google Colab.\n",
        "<br>\n",
        "<br>\n",
        "<br>\n",
        "<hr>\n",
        "\n",
        "<h4 align=\"center\"> © Martin John Hilario Borja 2024. All rights reserved. </h4>\n",
        "\n",
        "<p>"
      ],
      "metadata": {
        "id": "nLsQO1TDI-Mh"
      }
    }
  ]
}