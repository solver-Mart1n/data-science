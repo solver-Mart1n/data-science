{
  "nbformat": 4,
  "nbformat_minor": 0,
  "metadata": {
    "colab": {
      "provenance": [],
      "collapsed_sections": [
        "f2yCwyTwh15o",
        "YovWuxg2pvqB",
        "ygHQXaYcp4Xo",
        "L-69ZjwLrLWw",
        "0HPmxCJfHxpX",
        "jsdtHR0LH2rX"
      ],
      "toc_visible": true,
      "authorship_tag": "ABX9TyPjzE/ASYslTkgD2V2k9D+d",
      "include_colab_link": true
    },
    "kernelspec": {
      "name": "python3",
      "display_name": "Python 3"
    },
    "language_info": {
      "name": "python"
    }
  },
  "cells": [
    {
      "cell_type": "markdown",
      "metadata": {
        "id": "view-in-github",
        "colab_type": "text"
      },
      "source": [
        "<a href=\"https://colab.research.google.com/github/solver-Mart1n/data-science/blob/solver-Mart1n-c06w1p2-basic-sql/3_Lab_INSERT_UPDATE_DELETE.ipynb\" target=\"_parent\"><img src=\"https://colab.research.google.com/assets/colab-badge.svg\" alt=\"Open In Colab\"/></a>"
      ]
    },
    {
      "cell_type": "markdown",
      "source": [
        "<h1> COUNT, DISTINCT, LIMIT in SQL using Jupyter Notebooks </h1>"
      ],
      "metadata": {
        "id": "o4aQl-JmexpI"
      }
    },
    {
      "cell_type": "markdown",
      "source": [
        "## Description\n",
        "In this lab, you will learn some commonly used DML (Data Manipulation Language) statements of SQL other than SELECT. First, you will learn the\n",
        "INSERT statement, which is used to insert new rows into a table. Next, you will learn the UPDATE statement which is used to update the data in\n",
        "existing rows in the table. Lastly, you will learn the DELETE statement which is used to remove rows from a table."
      ],
      "metadata": {
        "id": "x-XgP-DFfK6_"
      }
    },
    {
      "cell_type": "markdown",
      "source": [
        "<h3>Objectives</h3>\n",
        "<h4>After completing this lab, you will be able to:</h4>\n",
        "    <ul>\n",
        "        <li>Insert new rows into a table</li>\n",
        "        <li>Update data in existing rows of the table</li>\n",
        "        <li>Remove rows from a table</li>\n",
        "    </ul>\n"
      ],
      "metadata": {
        "id": "MDQsztBTp_VY"
      }
    },
    {
      "cell_type": "markdown",
      "source": [
        "<h3>Table of Contents</h3>\n",
        "    <ul>\n",
        "        <li>Building the Database from an Internet Source</li>\n",
        "        <li>Exploring the Database</li>\n",
        "        <li>Using INSERT Statement</li>\n",
        "        <li>Using UPDATE Statement</li>\n",
        "        <li>Using DELETE Statement</li>\n",
        "        <li>Practice Exercises INSERT, UPDATE, DELETE</li>\n",
        "    </ul>"
      ],
      "metadata": {
        "id": "y34wHBX2fZA3"
      }
    },
    {
      "cell_type": "markdown",
      "source": [
        "<p>Estimated Time Needed: <strong>30 min</strong></p>\n",
        "<hr>"
      ],
      "metadata": {
        "id": "TiPHZop7tWv4"
      }
    },
    {
      "cell_type": "markdown",
      "source": [
        "## Building the Database from an Internet Source\n",
        "The database used in this lab comes from the following dataset source: [Film Locations in San Francisco](https://data.sfgov.org/Culture-and-Recreation/Film-Locations-in-San-Francisco/yitu-d5am/about_data) under a [PDDL: Public Domain Dedication and License](http://opendatacommons.org/licenses/pddl/1.0/)."
      ],
      "metadata": {
        "id": "f2yCwyTwh15o"
      }
    },
    {
      "cell_type": "markdown",
      "source": [
        "### Ingesting a CSV from a Data Source Endpoint\n",
        "Three API parameters are used on top of the base URL for the data source. This data paging is in compliance with the row limit of the endpoint API."
      ],
      "metadata": {
        "id": "G3D-hoEUFBD_"
      }
    },
    {
      "cell_type": "code",
      "source": [
        "url1 = 'https://data.sfgov.org/resource/yitu-d5am.csv?$limit=1000&$offset=0'\n",
        "url2 = 'https://data.sfgov.org/resource/yitu-d5am.csv?$limit=1000&$offset=999'\n",
        "url3 = 'https://data.sfgov.org/resource/yitu-d5am.csv?$limit=49&$offset=1999'"
      ],
      "metadata": {
        "id": "POGujTivL96g"
      },
      "execution_count": 1,
      "outputs": []
    },
    {
      "cell_type": "markdown",
      "source": [
        "The three will be ingested as data frames and combined into one. And this will be used to generate a CSV."
      ],
      "metadata": {
        "id": "XE8BZ_UDFnmW"
      }
    },
    {
      "cell_type": "code",
      "source": [
        "!pip install pandas==1.3.3"
      ],
      "metadata": {
        "id": "D1u6wOWnOtlw"
      },
      "execution_count": null,
      "outputs": []
    },
    {
      "cell_type": "code",
      "source": [
        "import pandas as pd"
      ],
      "metadata": {
        "id": "a0JD-zfcZ-Wn"
      },
      "execution_count": 3,
      "outputs": []
    },
    {
      "cell_type": "code",
      "source": [
        "# Read the dataset from a csv file\n",
        "df1 = pd.read_csv(url1, header=0, sep=\",\")\n",
        "\n",
        "# Display the first few rows of the DataFrame\n",
        "df1.tail()"
      ],
      "metadata": {
        "id": "Va47-jchaEfP"
      },
      "execution_count": null,
      "outputs": []
    },
    {
      "cell_type": "code",
      "source": [
        "# Read the dataset from a csv file\n",
        "df2 = pd.read_csv(url2, header=0, sep=\",\")\n",
        "\n",
        "# Display the first few rows of the DataFrame\n",
        "df2.head()"
      ],
      "metadata": {
        "id": "ZcriUyYKaD8n"
      },
      "execution_count": null,
      "outputs": []
    },
    {
      "cell_type": "code",
      "source": [
        "df2.tail()"
      ],
      "metadata": {
        "id": "zqkwor1FaZEn"
      },
      "execution_count": null,
      "outputs": []
    },
    {
      "cell_type": "code",
      "execution_count": null,
      "metadata": {
        "id": "OJMBfjeoIwOO"
      },
      "outputs": [],
      "source": [
        "# Read the dataset from a csv file\n",
        "df3 = pd.read_csv(url3, header=0, sep=\",\")\n",
        "\n",
        "# Display the first few rows of the DataFrame\n",
        "df3.head()"
      ]
    },
    {
      "cell_type": "code",
      "source": [
        "df3.tail()"
      ],
      "metadata": {
        "id": "4eGhwaqOaf2I"
      },
      "execution_count": null,
      "outputs": []
    },
    {
      "cell_type": "markdown",
      "source": [
        "Visible from the tail() and head() print outs of the three data frames, indices start from 0 each time a CSV is loaded. The \"ignore_index\" attribute of the data frame append() function is set to _True_ in order to avoid copying repeating indices to the aggregated data frame."
      ],
      "metadata": {
        "id": "aXRNwLZBi0ew"
      }
    },
    {
      "cell_type": "code",
      "source": [
        "df = df1.append(df2,ignore_index=True)\n",
        "df = df.append(df3,ignore_index=True)\n",
        "len(df)"
      ],
      "metadata": {
        "id": "ZvjOy3rJMM7b"
      },
      "execution_count": null,
      "outputs": []
    },
    {
      "cell_type": "code",
      "source": [
        "df.columns"
      ],
      "metadata": {
        "id": "pQqVuNist5Mh"
      },
      "execution_count": null,
      "outputs": []
    },
    {
      "cell_type": "code",
      "source": [
        "df.drop(columns=[':@computed_region_6qbp_sg9q', ':@computed_region_ajp5_b2md', ':@computed_region_26cr_cadq'],inplace=True)"
      ],
      "metadata": {
        "id": "RkRkonVJt9wK"
      },
      "execution_count": 11,
      "outputs": []
    },
    {
      "cell_type": "code",
      "source": [
        "df.set_axis(['Title', 'ReleaseYear', 'Locations', 'FunFacts', 'ProductionCompany', 'Distributor', 'Director', 'Writer', 'Actor1', 'Actor2', 'Actor3'], axis='columns', inplace=True)"
      ],
      "metadata": {
        "id": "N8H6IVnitNWA"
      },
      "execution_count": 12,
      "outputs": []
    },
    {
      "cell_type": "markdown",
      "source": [
        "As a result, the index labels of the combined data frame starts from 0 and ends with 2048. This indicates a successful merge of the pages of data from the [Data SF](https://data.sfgov.org/resource/yitu-d5am.csv) source URL."
      ],
      "metadata": {
        "id": "DGwUqI8rj483"
      }
    },
    {
      "cell_type": "code",
      "source": [
        "df"
      ],
      "metadata": {
        "id": "fUDogcf9MaXi"
      },
      "execution_count": null,
      "outputs": []
    },
    {
      "cell_type": "markdown",
      "source": [
        "Store the combined data frame into one CSV file."
      ],
      "metadata": {
        "id": "udbdNGE7k8HY"
      }
    },
    {
      "cell_type": "code",
      "source": [
        "df.to_csv('san_francisco_film_locations.csv', index=False)"
      ],
      "metadata": {
        "id": "oI05szhNPAZa"
      },
      "execution_count": 14,
      "outputs": []
    },
    {
      "cell_type": "markdown",
      "source": [
        "### Create an SQL Database from the Pandas Data Frame\n",
        "You may create an SQL database from the pandas data frame using either of the two options provided here.\n",
        "\n",
        "***Note:*** Make sure to execute only one of the two options to avoid conflict in the succeeding sections."
      ],
      "metadata": {
        "id": "UL5PuQslcgJ_"
      }
    },
    {
      "cell_type": "markdown",
      "source": [
        "#### Option 1: Using Duck DB\n",
        "You can create a duck database using a CSV file and the **CREATE OR REPLACE TABLE** and **AS FROM** directives with the _read_csv_auto()_ method."
      ],
      "metadata": {
        "id": "YovWuxg2pvqB"
      }
    },
    {
      "cell_type": "code",
      "source": [
        "%pip install jupysql --upgrade duckdb-engine --quiet"
      ],
      "metadata": {
        "id": "ltyD2GRhcaEa"
      },
      "execution_count": null,
      "outputs": []
    },
    {
      "cell_type": "code",
      "source": [
        "%reload_ext sql"
      ],
      "metadata": {
        "id": "gsrXgMHBqMYY"
      },
      "execution_count": 52,
      "outputs": []
    },
    {
      "cell_type": "code",
      "source": [
        "%sql duckdb:///san_francisco_film_locations.duck.db"
      ],
      "metadata": {
        "id": "8oDtpypYc9Hp"
      },
      "execution_count": 53,
      "outputs": []
    },
    {
      "cell_type": "code",
      "source": [
        "%%sql\n",
        "CREATE OR REPLACE TABLE san_francisco_film_locations AS\n",
        "FROM read_csv_auto('san_francisco_film_locations.csv', header=True, sep=',')"
      ],
      "metadata": {
        "id": "DGfmcNzLdRN5"
      },
      "execution_count": null,
      "outputs": []
    },
    {
      "cell_type": "markdown",
      "source": [
        "This configuration directive will allow you to print all records in a table instead of being capped at 10 entries by default."
      ],
      "metadata": {
        "id": "NiMtoEycME0E"
      }
    },
    {
      "cell_type": "code",
      "source": [
        "%config SqlMagic.displaylimit = None"
      ],
      "metadata": {
        "id": "3XxIIlmcMD41"
      },
      "execution_count": 55,
      "outputs": []
    },
    {
      "cell_type": "markdown",
      "source": [
        "Proceed to the section: Exploring the Database"
      ],
      "metadata": {
        "id": "Gg1j1oHrr44o"
      }
    },
    {
      "cell_type": "markdown",
      "source": [
        "#### Option 2: Using SQL Alchemy"
      ],
      "metadata": {
        "id": "ygHQXaYcp4Xo"
      }
    },
    {
      "cell_type": "code",
      "source": [
        "import sqlite3 as sq3"
      ],
      "metadata": {
        "id": "eO9AXdIsbu3y"
      },
      "execution_count": 44,
      "outputs": []
    },
    {
      "cell_type": "code",
      "source": [
        "conn = sq3.connect('san_francisco_film_locations.db')\n",
        "#df.to_sql('san_francisco_film_locations', conn, if_exists='append', index=False)\n",
        "df.to_sql('san_francisco_film_locations', conn, if_exists='replace', index=False)"
      ],
      "metadata": {
        "id": "GL1y7pZWcAPO"
      },
      "execution_count": 45,
      "outputs": []
    },
    {
      "cell_type": "code",
      "source": [
        "!pip install sqlalchemy"
      ],
      "metadata": {
        "id": "-RG-CjAVl4Cy"
      },
      "execution_count": null,
      "outputs": []
    },
    {
      "cell_type": "code",
      "source": [
        "%reload_ext sql"
      ],
      "metadata": {
        "id": "IZ127wvWc4X6"
      },
      "execution_count": 47,
      "outputs": []
    },
    {
      "cell_type": "code",
      "source": [
        "%sql sqlite:///san_francisco_film_locations.db"
      ],
      "metadata": {
        "id": "z3cYwni_lXzo"
      },
      "execution_count": 48,
      "outputs": []
    },
    {
      "cell_type": "markdown",
      "source": [
        "## Exploring the Database\n",
        "Now that we have a database. We can start exploring it through the _SELECT_ command. _FROM_ specifies the database to query. And the '*' specifies all its contents.\n",
        "\n",
        "A value of 5 passed to the _LIMIT_ command limits the print out to only 5 records."
      ],
      "metadata": {
        "id": "L-69ZjwLrLWw"
      }
    },
    {
      "cell_type": "code",
      "source": [
        "%%sql\n",
        "SELECT *\n",
        "FROM san_francisco_film_locations\n",
        "LIMIT 5"
      ],
      "metadata": {
        "id": "RnzkL7y9eNvg"
      },
      "execution_count": null,
      "outputs": []
    },
    {
      "cell_type": "markdown",
      "source": [
        "These are the column attribute descriptions from the **san_francisco_film_locations** table:\n",
        "\n",
        "|Column|Description|\n",
        "|---|---|\n",
        "|   Title| titles of the films|\n",
        "|   ReleaseYear| time of public release of the films|\n",
        "|   Locations| locations of San Francisco where the films were shot|\n",
        "|   FunFacts| funny facts about the filming locations|\n",
        "|   ProductionCompany| companies who produced the films|\n",
        "|   Distributor| companies who distributed the films|\n",
        "|   Director| people who directed the films|\n",
        "|   Writer| people who wrote the films|\n",
        "|   Actor1| person 1 who acted in the films|\n",
        "|   Actor2| person 2 who acted in the films|\n",
        "|   Actor3| person 3 who acted in the films|\n",
        "\n",
        "\n",
        "\n",
        "\n"
      ],
      "metadata": {
        "id": "V4TPPbh1MKCv"
      }
    },
    {
      "cell_type": "markdown",
      "source": [
        "## Using INSERT Statement\n",
        "In this exercise, you will first go through some examples of using INSERT in queries and then solve some exercise problems by using it.\n"
      ],
      "metadata": {
        "id": "0HPmxCJfHxpX"
      }
    },
    {
      "cell_type": "markdown",
      "source": [
        "<h3>Example 1</h3>\n",
        "In this example, suppose we want to insert a new single row into the san_francisco_film_locations table.\n",
        "\n",
        "1. Problem:\n",
        "Insert a new location record with:\n",
        "* title **Some Fictitious Movie**\n",
        "* released on **2024**\n",
        "* filmed at **Some Street in San Francisco**\n",
        "* no fun facts\n",
        "* by **Some Production Inc.** production company\n",
        "* through **Some Distributor**\n",
        "* directed by **Mr. Director**\n",
        "* written by **Mr. Writer**\n",
        "* with three lead actors **Mrs. Actor**, **Mr. Actor**, and **Ms. Actor**, into the san_francisco_film_locations table."
      ],
      "metadata": {
        "id": "I3B454SJMkxe"
      }
    },
    {
      "cell_type": "markdown",
      "source": [
        "2. Solution:\n",
        "The following inserts the new record to the Instructor database."
      ],
      "metadata": {
        "id": "_4oQnO8qnSdA"
      }
    },
    {
      "cell_type": "code",
      "source": [
        "%%sql\n",
        "INSERT INTO san_francisco_film_locations(Title, ReleaseYear, Locations, FunFacts, ProductionCompany, Distributor, Director, Writer, Actor1, Actor2, Actor3)\n",
        "VALUES('Some Fictitious Movie', 2024, 'Some Street in San Francisco', 'None', 'Some Production Inc.', 'Some Distributor', 'Mr. Director', 'Mr. Writer', 'Mrs. Actor', 'Mr. Actor', 'Ms. Actor');"
      ],
      "metadata": {
        "id": "DoX9wPqGnEEm"
      },
      "execution_count": null,
      "outputs": []
    },
    {
      "cell_type": "markdown",
      "source": [
        "3. Check if the new entry was included."
      ],
      "metadata": {
        "id": "voHdHXocoJqG"
      }
    },
    {
      "cell_type": "code",
      "source": [
        "%%sql\n",
        "SELECT *\n",
        "FROM san_francisco_film_locations\n",
        "WHERE ProductionCompany = 'Some Production Inc.';"
      ],
      "metadata": {
        "id": "Oa2HKvmGH18u"
      },
      "execution_count": null,
      "outputs": []
    },
    {
      "cell_type": "markdown",
      "source": [
        "<h3>Example 2</h3>\n",
        "In this example, suppose we want to insert some new multiple rows into the san_francisco_film_locations table.\n",
        "\n",
        "1. Problem:\n",
        "Insert two new location records into the san_francisco_film_locations table.\n",
        "* First record with the title **Another Fictitious Movie**, released on **2025**, filmed at **Next Street in San Francisco**, no fun facts, by **Some Production Inc.** production company through **Some Distributor**, directed by **Mr. Director A**, written by **Mr. Writer B**, with three lead actors **Mr. Actor C**, **Ms. Actor D**, and **Mr. Actor E**.\n",
        "* Second record with the title **One Fictitious Movie**, released on **2026**, filmed at **That Street in San Francisco**, no fun facts, by **Some Production Inc.** production company through **Some Distributor**, directed by **Mr. Director N**, written by **Mr. Writer N+1**, with three lead actors **Mrs. Actor N+2**, **Mr. Actor N+3**, and **Ms. Actor N+4**.\n",
        "2. Solution:"
      ],
      "metadata": {
        "id": "SJzVyZ5QOUEP"
      }
    },
    {
      "cell_type": "code",
      "source": [
        "%%sql\n",
        "INSERT INTO san_francisco_film_locations(Title, ReleaseYear, Locations, FunFacts, ProductionCompany, Distributor, Director, Writer, Actor1, Actor2, Actor3)\n",
        "VALUES('Another Fictitious Movie', 2025, 'Next Street in San Francisco', 'None', 'Some Production Inc.', 'Some Distributor', 'Mr. Director A', 'Mr. Writer B', 'Mrs. Actor C', 'Mr. Actor D', 'Ms. Actor E'),('One Fictitious Movie', 2026, 'That Street in San Francisco', 'None', 'Some Production Inc.', 'Some Distributor', 'Mr. Director N', 'Mr. Writer N+1', 'Mrs. Actor N+2', 'Mr. Actor N+3', 'Ms. Actor N+4');"
      ],
      "metadata": {
        "id": "QuP1u3vTIMnv"
      },
      "execution_count": null,
      "outputs": []
    },
    {
      "cell_type": "markdown",
      "source": [
        "3. Check if the new entry was included."
      ],
      "metadata": {
        "id": "MfB4U3DtpzsK"
      }
    },
    {
      "cell_type": "code",
      "source": [
        "%%sql\n",
        "SELECT *\n",
        "FROM san_francisco_film_locations\n",
        "WHERE ProductionCompany = 'Some Production Inc.';"
      ],
      "metadata": {
        "id": "G-bcRrGzp8vs"
      },
      "execution_count": null,
      "outputs": []
    },
    {
      "cell_type": "markdown",
      "source": [
        "##Using UPDATE Statement\n",
        "Having completed Examples 1 and 2, let's now examine some examples of UPDATE-related queries:"
      ],
      "metadata": {
        "id": "d4aLfSNgBtqi"
      }
    },
    {
      "cell_type": "markdown",
      "source": [
        "<h3>Example 3</h3>\n",
        "\n",
        "In this example, we want to update one column of an existing row of the table.\n",
        "1. Problem:\n",
        "Update the Lead Actor, \"Actor1\" for Another Fictitious Movie to Stephanie.\n",
        "2. Solution:"
      ],
      "metadata": {
        "id": "HkhlcTaPPkBN"
      }
    },
    {
      "cell_type": "code",
      "source": [
        "%%sql\n",
        "UPDATE san_francisco_film_locations\n",
        "SET Actor1='Stephanie'\n",
        "WHERE Title='Another Fictitious Movie';\n",
        "\n",
        "SELECT *\n",
        "FROM san_francisco_film_locations\n",
        "WHERE Title='Another Fictitious Movie';"
      ],
      "metadata": {
        "id": "5K0b8V8oB1T5"
      },
      "execution_count": null,
      "outputs": []
    },
    {
      "cell_type": "markdown",
      "source": [
        "<h3>Example 4</h3>\n",
        "\n",
        "In this example, we want to update multiple columns of an existing row of the table.\n",
        "1. Problem:\n",
        "Update the fun facts, \"FunFacts\" column, and Support Actor, \"Actor3\" for Some Fictitious Movie to \"Dancing with hope on the street\" and Sabrina respectively.\n",
        "2. Solution:"
      ],
      "metadata": {
        "id": "2V31ifUeDcBJ"
      }
    },
    {
      "cell_type": "code",
      "source": [
        "%%sql\n",
        "UPDATE san_francisco_film_locations\n",
        "SET FunFacts = 'Dancing with hope on the street', Actor3='Sabrina'\n",
        "WHERE Title='Some Fictitious Movie';\n",
        "\n",
        "SELECT *\n",
        "FROM san_francisco_film_locations\n",
        "WHERE Title='Some Fictitious Movie';"
      ],
      "metadata": {
        "id": "KKAGM7smDcu6"
      },
      "execution_count": null,
      "outputs": []
    },
    {
      "cell_type": "markdown",
      "source": [
        "## Using DELETE Statement\n",
        "In this exercise, you will first go through an example of using DELETE in a query and then solve an exercise problem by using it.\n",
        "\n",
        "Let us go through an example of a DELETE related query:"
      ],
      "metadata": {
        "id": "XUPoRZRtB2Lp"
      }
    },
    {
      "cell_type": "markdown",
      "source": [
        "<h3>Example 5</h3>\n",
        "\n",
        "In this example, we want to remove a row from the table.\n",
        "1. Problem:\n",
        "Remove the san_francisco_film_locations records of the director, Mr. Director.\n",
        "2. Solution:"
      ],
      "metadata": {
        "id": "i6WslEhaRW6F"
      }
    },
    {
      "cell_type": "code",
      "source": [
        "%%sql\n",
        "DELETE FROM san_francisco_film_locations\n",
        "WHERE Director = 'Mr. Director';\n",
        "\n",
        "SELECT *\n",
        "FROM san_francisco_film_locations\n",
        "WHERE Director = 'Mr. Director';"
      ],
      "metadata": {
        "id": "PZZX5gSbB65I"
      },
      "execution_count": null,
      "outputs": []
    },
    {
      "cell_type": "markdown",
      "source": [
        "## Practice Exercises"
      ],
      "metadata": {
        "id": "jsdtHR0LH2rX"
      }
    },
    {
      "cell_type": "markdown",
      "source": [
        "### INSERT\n",
        "Now, let us practice creating and running some INSERT related queries."
      ],
      "metadata": {
        "id": "yuMagAIqEIHI"
      }
    },
    {
      "cell_type": "markdown",
      "source": [
        "<h4> Problem 1 </h4>\n",
        "\n",
        "Insert a new san_francisco_film_locations record with First record with the title **Movie 001**, released on\n",
        "**2027**, filmed at **1 Street in San Francisco**, no fun facts, by **Some Production Inc.** production company through **Some Distributor**, directed by **Director 1**, written by **Writer 1**, with three lead actors **Actor 10**, **Actor 20**, and **Actor 30** into the san_francisco_film_locations table.\n",
        "\n",
        "<details><summary>Hint</summary>\n",
        "\n",
        "\n",
        "```\n",
        "Follow example 1 of the INSERT exercise.\n",
        "%%sql\n",
        "INSERT INTO tablename([column1], [column2], [column3], [column4], [column5], [column6], [column7], [column8], [column9], [column10], [column11])\n",
        "VALUES('Movie 001', 2027, '1 Street in San Francisco', 'None', 'Some Production Inc.', 'Some Distributor', 'Director 1', 'Writer 1', 'Actor 10', 'Actor 20', 'Actor 30');\n",
        "\n",
        "SELECT *\n",
        "FROM tablename\n",
        "WHERE [column1] = 'Movie 001';\n",
        "```\n",
        "\n",
        "</details>"
      ],
      "metadata": {
        "id": "3bRWJGqAOa6f"
      }
    },
    {
      "cell_type": "markdown",
      "source": [
        "<details><summary>Query Solution</summary>\n",
        "\n",
        "```\n",
        "%%sql\n",
        "INSERT INTO san_francisco_film_locations(Title, ReleaseYear, Locations, FunFacts, ProductionCompany, Distributor, Director, Writer, Actor1, Actor2, Actor3)\n",
        "VALUES('Movie 001', 2027, '1 Street in San Francisco', 'None', 'Some Production Inc.', 'Some Distributor', 'Director 1', 'Writer 1', 'Actor 10', 'Actor 20', 'Actor 30');\n",
        "\n",
        "SELECT * FROM san_francisco_film_locations WHERE  Title='Movie 001';\n",
        "```\n",
        "\n",
        "</details>"
      ],
      "metadata": {
        "id": "RsNveWvbPzZv"
      }
    },
    {
      "cell_type": "code",
      "source": [],
      "metadata": {
        "id": "kW6g-sIBH97f"
      },
      "execution_count": null,
      "outputs": []
    },
    {
      "cell_type": "markdown",
      "source": [
        "<h4> Problem 2 </h4>\n",
        "\n",
        "Insert two new san_francisco_film_locations records into the san_francisco_film_locations table.\n",
        "* First record is a sequel of Another Fictitious Movie.\n",
        "* Second\n",
        "record is a sequel of One Fictitious Movie."
      ],
      "metadata": {
        "id": "E85x8v-1O73u"
      }
    },
    {
      "cell_type": "markdown",
      "source": [
        "<details><summary>Hint</summary>\n",
        "\n",
        "```\n",
        "Follow example 2 of the INSERT exercise.\n",
        "```\n",
        "\n",
        "</details>"
      ],
      "metadata": {
        "id": "8Ubh-KpkPcd3"
      }
    },
    {
      "cell_type": "markdown",
      "source": [
        "<details><summary>Query Solution</summary>\n",
        "\n",
        "```\n",
        "%%sql\n",
        "INSERT INTO san_francisco_film_locations(Title, ReleaseYear, Locations, FunFacts, ProductionCompany, Distributor, Director, Writer, Actor1, Actor2, Actor3)\n",
        "VALUES('Another Fictitious Movie Part 2', 2026, 'Next Street in San Francisco', 'None', 'Some Production Inc.', 'Some Distributor', 'Mr. Director A', 'Mr. Writer B', 'Mrs. Actor C', 'Mr. Actor D', 'Ms. Actor E'),('One Fictitious Movie Part 2', 2027, 'That Street in San Francisco', 'None', 'Some Production Inc.', 'Some Distributor', 'Mr. Director N', 'Mr. Writer N+1', 'Mrs. Actor N+2', 'Mr. Actor N+3', 'Ms. Actor N+4');\n",
        "\n",
        "-- Place the checks in the cells allocated for each\n",
        "%%sql\n",
        "SELECT * from san_francisco_film_locations WHERE  Title = 'Another Fictitious Movie Part 2';\n",
        "\n",
        "%%sql\n",
        "SELECT * from san_francisco_film_locations WHERE  Title = 'One Fictitious Movie Part 2';\n",
        "```\n",
        "\n",
        "</details>"
      ],
      "metadata": {
        "id": "t4YCx_HWPiLI"
      }
    },
    {
      "cell_type": "code",
      "source": [],
      "metadata": {
        "id": "qAB3T8SAIukW"
      },
      "execution_count": null,
      "outputs": []
    },
    {
      "cell_type": "markdown",
      "source": [
        "Check the entry for the record with Title, Another Fictitious Movie Part 2, here."
      ],
      "metadata": {
        "id": "c2MDAAq-_M-C"
      }
    },
    {
      "cell_type": "code",
      "source": [],
      "metadata": {
        "id": "U_qjYu8t_HXT"
      },
      "execution_count": null,
      "outputs": []
    },
    {
      "cell_type": "markdown",
      "source": [
        "Check the entry for the record with Title, One Fictitious Movie Part 2, here."
      ],
      "metadata": {
        "id": "jOSQJKzJ_YmM"
      }
    },
    {
      "cell_type": "code",
      "source": [],
      "metadata": {
        "id": "LIpKTyYW_K7Z"
      },
      "execution_count": null,
      "outputs": []
    },
    {
      "cell_type": "markdown",
      "source": [
        "### UPDATE\n",
        "After completing Problems 1 and 2, let us now practice creating and running some UPDATE related queries."
      ],
      "metadata": {
        "id": "WeFivCStFWtC"
      }
    },
    {
      "cell_type": "markdown",
      "source": [
        "<h4> Problem 3 </h4>\n",
        "\n",
        "Update the Lead Actor, \"Actor1\" for Movie 001 to Anastacia."
      ],
      "metadata": {
        "id": "qdxCsoQwFbOj"
      }
    },
    {
      "cell_type": "markdown",
      "source": [
        "<details><summary>Hint</summary>\n",
        "\n",
        "```\n",
        "Follow example 3 of the UPDATE exercise.\n",
        "```\n",
        "\n",
        "</details>"
      ],
      "metadata": {
        "id": "9Th2JhdSFkSo"
      }
    },
    {
      "cell_type": "markdown",
      "source": [
        "<details><summary>Query Solution</summary>\n",
        "\n",
        "```\n",
        "%%sql\n",
        "UPDATE san_francisco_film_locations\n",
        "SET Actor1='Anastacia'\n",
        "WHERE Title='Movie 001';\n",
        "\n",
        "-- Place the check in the cell allocated below\n",
        "%%sql\n",
        "SELECT *\n",
        "FROM san_francisco_film_locations\n",
        "WHERE Title='Movie 001';\n",
        "```\n",
        "\n",
        "</details>"
      ],
      "metadata": {
        "id": "z4OJi7_-FktQ"
      }
    },
    {
      "cell_type": "code",
      "source": [],
      "metadata": {
        "id": "B-N_99J1Fi7L"
      },
      "execution_count": null,
      "outputs": []
    },
    {
      "cell_type": "markdown",
      "source": [
        "Check the record with Title Movie 001 for the update in lead actor value."
      ],
      "metadata": {
        "id": "6w4RHCUHAVda"
      }
    },
    {
      "cell_type": "code",
      "source": [],
      "metadata": {
        "id": "doC9lDlMAev9"
      },
      "execution_count": null,
      "outputs": []
    },
    {
      "cell_type": "markdown",
      "source": [
        "<h4> Problem 4 </h4>\n",
        "\n",
        "Update the fun facts, \"FunFacts\" column, and Support Actor, \"Actor3\" for One Fictitious Movie Part 2 to \"Singing with hope on the street\" and Emily respectively."
      ],
      "metadata": {
        "id": "l3MqmDY0GD17"
      }
    },
    {
      "cell_type": "markdown",
      "source": [
        "<details><summary>Hint</summary>\n",
        "\n",
        "```\n",
        "Follow example 4 of the UPDATE exercise.\n",
        "```\n",
        "\n",
        "</details>"
      ],
      "metadata": {
        "id": "UleJF8XJGGlJ"
      }
    },
    {
      "cell_type": "markdown",
      "source": [
        "<details><summary>Query Solution</summary>\n",
        "\n",
        "```\n",
        "%%sql\n",
        "UPDATE san_francisco_film_locations\n",
        "SET FunFacts = 'Singing with hope on the street', Actor3='Emily'\n",
        "WHERE Title='One Fictitious Movie Part 2';\n",
        "\n",
        "-- Place the check in the cell allocated below\n",
        "%%sql\n",
        "SELECT *\n",
        "FROM san_francisco_film_locations\n",
        "WHERE Title='One Fictitious Movie Part 2';\n",
        "```\n",
        "\n",
        "</details>"
      ],
      "metadata": {
        "id": "aKIR9YqfGNZB"
      }
    },
    {
      "cell_type": "code",
      "source": [],
      "metadata": {
        "id": "VfcY84q5GZUk"
      },
      "execution_count": null,
      "outputs": []
    },
    {
      "cell_type": "markdown",
      "source": [
        "Check the updated record details for the FunFacts and Actor3 columns here."
      ],
      "metadata": {
        "id": "z1InhFMBBGPr"
      }
    },
    {
      "cell_type": "code",
      "source": [],
      "metadata": {
        "id": "2a-uvjRpBPIT"
      },
      "execution_count": null,
      "outputs": []
    },
    {
      "cell_type": "markdown",
      "source": [
        "### DELETE\n",
        "Now, let us practice creating and running a DELETE related query."
      ],
      "metadata": {
        "id": "S1mRE-LWFevY"
      }
    },
    {
      "cell_type": "markdown",
      "source": [
        "<h4> Problem 5 </h4>\n",
        "\n",
        "Remove the production company records of Some Production Inc."
      ],
      "metadata": {
        "id": "iao7hAh1FgRS"
      }
    },
    {
      "cell_type": "markdown",
      "source": [
        "<details><summary>Hint</summary>\n",
        "\n",
        "```\n",
        "Follow example 5 of the DELETE exercise.\n",
        "```\n",
        "\n",
        "</details>"
      ],
      "metadata": {
        "id": "tiqIAGS2G9tR"
      }
    },
    {
      "cell_type": "markdown",
      "source": [
        "<details><summary>Query Solution</summary>\n",
        "\n",
        "```\n",
        "%%sql\n",
        "DELETE FROM san_francisco_film_locations\n",
        "WHERE ProductionCompany = 'Some Production Inc.';\n",
        "\n",
        "SELECT *\n",
        "FROM san_francisco_film_locations;\n",
        "```\n",
        "\n",
        "</details>"
      ],
      "metadata": {
        "id": "vbCs5WWWHHz5"
      }
    },
    {
      "cell_type": "code",
      "source": [],
      "metadata": {
        "id": "6vsNkLrFHU3L"
      },
      "execution_count": null,
      "outputs": []
    },
    {
      "cell_type": "markdown",
      "source": [
        "## Conclusion\n",
        "Thank you for completing the lab! You are now able to perform operations on tables like:\n",
        "\n",
        "*   Inserting rows using the INSERT command\n",
        "*   Removing rows using DELETE\n",
        "*   Updating the data in existing rows with UPDATE\n"
      ],
      "metadata": {
        "id": "7mPnTmPrJG-m"
      }
    },
    {
      "cell_type": "markdown",
      "source": [
        "## Credit to the Source Content\n",
        "This python notebook uses the content of **Hands-on Lab : INSERT, UPDATE, DELETE** by IBM Skills Network from the [Databases and SQL for Data Science with Python](https://www.coursera.org/learn/sql-data-science) course. The source content uses a different platform, [Datasette](https://github.com/simonw/datasette), which does not utilize Jupyter notebooks.\n"
      ],
      "metadata": {
        "id": "zw-F8LUq9wiV"
      }
    },
    {
      "cell_type": "markdown",
      "source": [
        "### Change Log\n",
        "All versions prior to 2.0, are attributable to IBM Skills Network's version of the **Hands-on Lab : INSERT, UPDATE, DELETE** written for [Datasette](https://github.com/simonw/datasette).\n",
        "\n",
        "\n",
        "| Date (YYYY-MM-DD) | Version | Changed By    | Change Description        |\n",
        "| ----------------- | ------- | ------------- | ------------------------- |\n",
        "|2024-05-07|2.0|Martin Borja|Ported to Jupyter/Python Notebooks using San Francisco Film Locations database instead of the Instructors database|\n",
        "|2023-07-11| 1.6| Lakshmi Holla| Updated labs|\n",
        "|2023-05-11| 1.6| Eric Hao & Vladislav Boyko| Updated Page Frames|\n",
        "|2023-05-10| 1.5| Eric Hao & Vladislav Boyko| Updated Page Frames|\n",
        "|2023-05-05| 1.4| Benny Li| Republished|\n",
        "|2022-08-03| 1.3| Sathya Priya| updated HTML tag|\n",
        "|2022-07-27| 1.2| Lakshmi Holla| updated HTML tag|\n",
        "|2020-12-23| 1.1| Steve Ryan| ID Review|\n",
        "|2020-11-30| 1.0| Sandip Saha Joy| Initial version created|\n",
        "\n",
        "<hr>\n",
        "\n",
        "### <h4 align=\"center\"> **Hands-on Lab : INSERT, UPDATE, DELETE** © IBM Corporation 2023. All rights reserved. </h4>\n",
        "### <h4 align=\"center\"> **INSERT, UPDATE, DELETE in SQL using Jupyter Notebooks** © Martin John Hilario Borja 2024. All rights reserved. </h4>\n",
        "\n",
        "<p>"
      ],
      "metadata": {
        "id": "H8Gkw3ykGwg4"
      }
    }
  ]
}
