{
  "nbformat": 4,
  "nbformat_minor": 0,
  "metadata": {
    "colab": {
      "provenance": [],
      "collapsed_sections": [
        "f2yCwyTwh15o",
        "YovWuxg2pvqB",
        "ygHQXaYcp4Xo",
        "L-69ZjwLrLWw",
        "0HPmxCJfHxpX",
        "jsdtHR0LH2rX"
      ],
      "toc_visible": true,
      "authorship_tag": "ABX9TyNLS96u7T/SzQEA+y0jtft9",
      "include_colab_link": true
    },
    "kernelspec": {
      "name": "python3",
      "display_name": "Python 3"
    },
    "language_info": {
      "name": "python"
    }
  },
  "cells": [
    {
      "cell_type": "markdown",
      "metadata": {
        "id": "view-in-github",
        "colab_type": "text"
      },
      "source": [
        "<a href=\"https://colab.research.google.com/github/solver-Mart1n/data-science/blob/solver-Mart1n-c06w1p2-basic-sql/activities/relational_database/sql/basic_sql/2_Lab_COUNT_DISTINCT_LIMIT.ipynb\" target=\"_parent\"><img src=\"https://colab.research.google.com/assets/colab-badge.svg\" alt=\"Open In Colab\"/></a>"
      ]
    },
    {
      "cell_type": "markdown",
      "source": [
        "<h1> COUNT, DISTINCT, LIMIT in SQL using Jupyter Notebooks </h1>"
      ],
      "metadata": {
        "id": "o4aQl-JmexpI"
      }
    },
    {
      "cell_type": "markdown",
      "source": [
        "## Description\n",
        "In this lab, you will learn a few useful expressions that are used with SELECT statements. First, you will learn COUNT, which is an aggregate function that retrieves the number of rows that matches the query criteria. Next, you will learn DISTINCT, which is used to remove duplicate values from a specified result set and only return the unique values. Lastly, you will learn LIMIT, which is used for restricting the number of rows retrieved from the table."
      ],
      "metadata": {
        "id": "x-XgP-DFfK6_"
      }
    },
    {
      "cell_type": "markdown",
      "source": [
        "<h3>Objectives</h3>\n",
        "<h4>After completing this lab, you will be able to:</h4>\n",
        "    <ul>\n",
        "        <li>Retrieve the number of rows that match a query criteria</li>\n",
        "        <li>Remove duplicate values from a result set and return the unique values</li>\n",
        "        <li>Restrict the number of rows retrieved from a table</li>\n",
        "    </ul>\n"
      ],
      "metadata": {
        "id": "MDQsztBTp_VY"
      }
    },
    {
      "cell_type": "markdown",
      "source": [
        "<h3>Table of Contents</h3>\n",
        "    <ul>\n",
        "        <li>Building the Database from an Internet Source</li>\n",
        "        <li>Exploring the Database</li>\n",
        "        <li>Using COUNT Statement</li>\n",
        "        <li>Using DISTINCT Statement</li>\n",
        "        <li>Using LIMIT Statement</li>\n",
        "        <li>Practice Exercises COUNT, DISTINCT, LIMIT</li>\n",
        "    </ul>"
      ],
      "metadata": {
        "id": "y34wHBX2fZA3"
      }
    },
    {
      "cell_type": "markdown",
      "source": [
        "<p>Estimated Time Needed: <strong>30 min</strong></p>\n",
        "<hr>"
      ],
      "metadata": {
        "id": "TiPHZop7tWv4"
      }
    },
    {
      "cell_type": "markdown",
      "source": [
        "## Building the Database from an Internet Source\n",
        "The database used in this lab comes from the following dataset source: [Film Locations in San Francisco](https://data.sfgov.org/Culture-and-Recreation/Film-Locations-in-San-Francisco/yitu-d5am/about_data) under a [PDDL: Public Domain Dedication and License](http://opendatacommons.org/licenses/pddl/1.0/)."
      ],
      "metadata": {
        "id": "f2yCwyTwh15o"
      }
    },
    {
      "cell_type": "markdown",
      "source": [
        "### Ingesting a CSV from a Data Source Endpoint\n",
        "Three API parameters are used on top of the base URL for the data source. This data paging is in compliance with the row limit of the endpoint API."
      ],
      "metadata": {
        "id": "G3D-hoEUFBD_"
      }
    },
    {
      "cell_type": "code",
      "source": [
        "url1 = 'https://data.sfgov.org/resource/yitu-d5am.csv?$limit=1000&$offset=0'\n",
        "url2 = 'https://data.sfgov.org/resource/yitu-d5am.csv?$limit=1000&$offset=999'\n",
        "url3 = 'https://data.sfgov.org/resource/yitu-d5am.csv?$limit=49&$offset=1999'"
      ],
      "metadata": {
        "id": "POGujTivL96g"
      },
      "execution_count": null,
      "outputs": []
    },
    {
      "cell_type": "markdown",
      "source": [
        "The three will be ingested as data frames and combined into one. And this will be used to generate a CSV."
      ],
      "metadata": {
        "id": "XE8BZ_UDFnmW"
      }
    },
    {
      "cell_type": "code",
      "source": [
        "!pip install pandas==1.3.3"
      ],
      "metadata": {
        "id": "D1u6wOWnOtlw"
      },
      "execution_count": null,
      "outputs": []
    },
    {
      "cell_type": "code",
      "source": [
        "import pandas as pd"
      ],
      "metadata": {
        "id": "a0JD-zfcZ-Wn"
      },
      "execution_count": null,
      "outputs": []
    },
    {
      "cell_type": "code",
      "source": [
        "# Read the dataset from a csv file\n",
        "df1 = pd.read_csv(url1, header=0, sep=\",\")\n",
        "\n",
        "# Display the first few rows of the DataFrame\n",
        "df1.tail()"
      ],
      "metadata": {
        "id": "Va47-jchaEfP"
      },
      "execution_count": null,
      "outputs": []
    },
    {
      "cell_type": "code",
      "source": [
        "# Read the dataset from a csv file\n",
        "df2 = pd.read_csv(url2, header=0, sep=\",\")\n",
        "\n",
        "# Display the first few rows of the DataFrame\n",
        "df2.head()"
      ],
      "metadata": {
        "id": "ZcriUyYKaD8n"
      },
      "execution_count": null,
      "outputs": []
    },
    {
      "cell_type": "code",
      "source": [
        "df2.tail()"
      ],
      "metadata": {
        "id": "zqkwor1FaZEn"
      },
      "execution_count": null,
      "outputs": []
    },
    {
      "cell_type": "code",
      "execution_count": null,
      "metadata": {
        "id": "OJMBfjeoIwOO"
      },
      "outputs": [],
      "source": [
        "# Read the dataset from a csv file\n",
        "df3 = pd.read_csv(url3, header=0, sep=\",\")\n",
        "\n",
        "# Display the first few rows of the DataFrame\n",
        "df3.head()"
      ]
    },
    {
      "cell_type": "code",
      "source": [
        "df3.tail()"
      ],
      "metadata": {
        "id": "4eGhwaqOaf2I"
      },
      "execution_count": null,
      "outputs": []
    },
    {
      "cell_type": "markdown",
      "source": [
        "Visible from the tail() and head() print outs of the three data frames, indices start from 0 each time a CSV is loaded. The \"ignore_index\" attribute of the data frame append() function is set to _True_ in order to avoid copying repeating indices to the aggregated data frame."
      ],
      "metadata": {
        "id": "aXRNwLZBi0ew"
      }
    },
    {
      "cell_type": "code",
      "source": [
        "df = df1.append(df2,ignore_index=True)\n",
        "df = df.append(df3,ignore_index=True)\n",
        "len(df)"
      ],
      "metadata": {
        "id": "ZvjOy3rJMM7b"
      },
      "execution_count": null,
      "outputs": []
    },
    {
      "cell_type": "code",
      "source": [
        "df.columns"
      ],
      "metadata": {
        "id": "pQqVuNist5Mh"
      },
      "execution_count": null,
      "outputs": []
    },
    {
      "cell_type": "code",
      "source": [
        "df.drop(columns=[':@computed_region_6qbp_sg9q', ':@computed_region_ajp5_b2md', ':@computed_region_26cr_cadq'],inplace=True)"
      ],
      "metadata": {
        "id": "RkRkonVJt9wK"
      },
      "execution_count": null,
      "outputs": []
    },
    {
      "cell_type": "code",
      "source": [
        "df.set_axis(['Title', 'ReleaseYear', 'Locations', 'FunFacts', 'ProductionCompany', 'Distributor', 'Director', 'Writer', 'Actor1', 'Actor2', 'Actor3'], axis='columns', inplace=True)"
      ],
      "metadata": {
        "id": "N8H6IVnitNWA"
      },
      "execution_count": null,
      "outputs": []
    },
    {
      "cell_type": "markdown",
      "source": [
        "As a result, the index labels of the combined data frame starts from 0 and ends with 2048. This indicates a successful merge of the pages of data from the [Data SF](https://data.sfgov.org/resource/yitu-d5am.csv) source URL."
      ],
      "metadata": {
        "id": "DGwUqI8rj483"
      }
    },
    {
      "cell_type": "code",
      "source": [
        "df"
      ],
      "metadata": {
        "id": "fUDogcf9MaXi"
      },
      "execution_count": null,
      "outputs": []
    },
    {
      "cell_type": "markdown",
      "source": [
        "Store the combined data frame into one CSV file."
      ],
      "metadata": {
        "id": "udbdNGE7k8HY"
      }
    },
    {
      "cell_type": "code",
      "source": [
        "df.to_csv('san_francisco_film_locations.csv', index=False)"
      ],
      "metadata": {
        "id": "oI05szhNPAZa"
      },
      "execution_count": null,
      "outputs": []
    },
    {
      "cell_type": "markdown",
      "source": [
        "### Create an SQL Database from the Pandas Data Frame"
      ],
      "metadata": {
        "id": "UL5PuQslcgJ_"
      }
    },
    {
      "cell_type": "markdown",
      "source": [
        "#### Option 1: Using Duck DB\n",
        "You can create a duck database using a CSV file and the **CREATE OR REPLACE TABLE** and **AS FROM** directives with the _read_csv_auto()_ method."
      ],
      "metadata": {
        "id": "YovWuxg2pvqB"
      }
    },
    {
      "cell_type": "code",
      "source": [
        "%pip install jupysql --upgrade duckdb-engine --quiet"
      ],
      "metadata": {
        "id": "ltyD2GRhcaEa"
      },
      "execution_count": null,
      "outputs": []
    },
    {
      "cell_type": "code",
      "source": [
        "%reload_ext sql"
      ],
      "metadata": {
        "id": "gsrXgMHBqMYY"
      },
      "execution_count": null,
      "outputs": []
    },
    {
      "cell_type": "code",
      "source": [
        "%sql duckdb:///san_francisco_film_locations.duck.db"
      ],
      "metadata": {
        "id": "8oDtpypYc9Hp"
      },
      "execution_count": null,
      "outputs": []
    },
    {
      "cell_type": "code",
      "source": [
        "%%sql\n",
        "CREATE OR REPLACE TABLE san_francisco_film_locations AS\n",
        "FROM read_csv_auto('san_francisco_film_locations.csv', header=True, sep=',')"
      ],
      "metadata": {
        "id": "DGfmcNzLdRN5"
      },
      "execution_count": null,
      "outputs": []
    },
    {
      "cell_type": "markdown",
      "source": [
        "Proceed to the section: Exploring the Database"
      ],
      "metadata": {
        "id": "Gg1j1oHrr44o"
      }
    },
    {
      "cell_type": "markdown",
      "source": [
        "#### Option 2: Using SQL Alchemy"
      ],
      "metadata": {
        "id": "ygHQXaYcp4Xo"
      }
    },
    {
      "cell_type": "code",
      "source": [
        "import sqlite3 as sq3"
      ],
      "metadata": {
        "id": "eO9AXdIsbu3y"
      },
      "execution_count": null,
      "outputs": []
    },
    {
      "cell_type": "code",
      "source": [
        "conn = sq3.connect('san_francisco_film_locations.db')\n",
        "#df.to_sql('san_francisco_film_locations', conn, if_exists='append', index=False)\n",
        "df.to_sql('san_francisco_film_locations', conn, if_exists='replace', index=False)"
      ],
      "metadata": {
        "id": "GL1y7pZWcAPO"
      },
      "execution_count": null,
      "outputs": []
    },
    {
      "cell_type": "code",
      "source": [
        "!pip install sqlalchemy"
      ],
      "metadata": {
        "id": "-RG-CjAVl4Cy"
      },
      "execution_count": null,
      "outputs": []
    },
    {
      "cell_type": "code",
      "source": [
        "%reload_ext sql"
      ],
      "metadata": {
        "id": "IZ127wvWc4X6"
      },
      "execution_count": null,
      "outputs": []
    },
    {
      "cell_type": "code",
      "source": [
        "%sql sqlite:///san_francisco_film_locations.db"
      ],
      "metadata": {
        "id": "z3cYwni_lXzo"
      },
      "execution_count": null,
      "outputs": []
    },
    {
      "cell_type": "markdown",
      "source": [
        "## Exploring the Database\n",
        "Now that we have a database. We can start exploring it through the _SELECT_ command. _FROM_ specifies the database to query. And the '*' specifies all its contents.\n",
        "\n",
        "A value of 5 passed to the _LIMIT_ command limits the print out to only 5 records."
      ],
      "metadata": {
        "id": "L-69ZjwLrLWw"
      }
    },
    {
      "cell_type": "code",
      "source": [
        "%%sql\n",
        "SELECT *\n",
        "FROM san_francisco_film_locations\n",
        "LIMIT 5"
      ],
      "metadata": {
        "id": "RnzkL7y9eNvg"
      },
      "execution_count": null,
      "outputs": []
    },
    {
      "cell_type": "markdown",
      "source": [
        "These are the column attribute descriptions from the **san_francisco_film_locations** table:\n",
        "\n",
        "|Column|Description|\n",
        "|---|---|\n",
        "|   Title| titles of the films|\n",
        "|   ReleaseYear| time of public release of the films|\n",
        "|   Locations| locations of San Francisco where the films were shot|\n",
        "|   FunFacts| funny facts about the filming locations|\n",
        "|   ProductionCompany| companies who produced the films|\n",
        "|   Distributor| companies who distributed the films|\n",
        "|   Director| people who directed the films|\n",
        "|   Writer| people who wrote the films|\n",
        "|   Actor1| person 1 who acted in the films|\n",
        "|   Actor2| person 2 who acted in the films|\n",
        "|   Actor3| person 3 who acted in the films|\n",
        "\n",
        "\n",
        "\n",
        "\n"
      ],
      "metadata": {
        "id": "V4TPPbh1MKCv"
      }
    },
    {
      "cell_type": "markdown",
      "source": [
        "## Using COUNT Statement\n",
        "Now, let us go through some examples of COUNT-related queries.\n",
        "1. Suppose we want to count the number of records or rows of the \"san_francisco_film_locations\" table. The query for this would be:\n"
      ],
      "metadata": {
        "id": "0HPmxCJfHxpX"
      }
    },
    {
      "cell_type": "code",
      "source": [
        "%%sql\n",
        "SELECT COUNT(*) FROM san_francisco_film_locations"
      ],
      "metadata": {
        "id": "Oa2HKvmGH18u"
      },
      "execution_count": null,
      "outputs": []
    },
    {
      "cell_type": "markdown",
      "source": [
        "2. We want to count the number of locations of the films. But we also want to restrict the output result set so that we only retrieve the number of\n",
        "locations of the films written by a certain writer. The query for this can be written as:"
      ],
      "metadata": {
        "id": "SJzVyZ5QOUEP"
      }
    },
    {
      "cell_type": "code",
      "source": [
        "%%sql\n",
        "SELECT COUNT(Locations)\n",
        "FROM san_francisco_film_locations\n",
        "WHERE Writer = 'James Cameron';"
      ],
      "metadata": {
        "id": "QuP1u3vTIMnv"
      },
      "execution_count": null,
      "outputs": []
    },
    {
      "cell_type": "markdown",
      "source": [
        "##Using DISTINCT Statement\n",
        "In this exercise, you will go through some examples of using DISTINCT in queries.\n",
        "1. Assume that we want to retrieve the titles of all films in the table so that duplicates will be discarded in the output result set."
      ],
      "metadata": {
        "id": "d4aLfSNgBtqi"
      }
    },
    {
      "cell_type": "code",
      "source": [
        "%%sql\n",
        "SELECT DISTINCT Title\n",
        "FROM san_francisco_film_locations;"
      ],
      "metadata": {
        "id": "5K0b8V8oB1T5"
      },
      "execution_count": null,
      "outputs": []
    },
    {
      "cell_type": "markdown",
      "source": [
        "2. We want to retrieve the count of release years of the films produced by a specific company so that duplicate release years of those films will be\n",
        "discarded in the count."
      ],
      "metadata": {
        "id": "2V31ifUeDcBJ"
      }
    },
    {
      "cell_type": "code",
      "source": [
        "%%sql\n",
        "SELECT COUNT(DISTINCT ReleaseYear)\n",
        "FROM san_francisco_film_locations\n",
        "WHERE ProductionCompany='Warner Bros. Pictures';"
      ],
      "metadata": {
        "id": "KKAGM7smDcu6"
      },
      "execution_count": null,
      "outputs": []
    },
    {
      "cell_type": "markdown",
      "source": [
        "## Using LIMIT Statement\n",
        "In this exercise, you will first go through some examples of using LIMIT in queries.\n",
        "1. Retrieve only the first 25 rows from the table so that rows other than those are not in the output result set."
      ],
      "metadata": {
        "id": "XUPoRZRtB2Lp"
      }
    },
    {
      "cell_type": "code",
      "source": [
        "%%sql\n",
        "SELECT * FROM san_francisco_film_locations\n",
        "LIMIT 25"
      ],
      "metadata": {
        "id": "PZZX5gSbB65I"
      },
      "execution_count": null,
      "outputs": []
    },
    {
      "cell_type": "markdown",
      "source": [
        "2. Now, we want to retrieve 15 rows from the table starting from row 11."
      ],
      "metadata": {
        "id": "3VC1ZlXCD1qY"
      }
    },
    {
      "cell_type": "code",
      "source": [
        "%%sql\n",
        "SELECT *\n",
        "FROM san_francisco_film_locations\n",
        "LIMIT 15\n",
        "OFFSET 10"
      ],
      "metadata": {
        "id": "vmUzTDuED5fs"
      },
      "execution_count": null,
      "outputs": []
    },
    {
      "cell_type": "markdown",
      "source": [
        "## Practice Exercises"
      ],
      "metadata": {
        "id": "jsdtHR0LH2rX"
      }
    },
    {
      "cell_type": "markdown",
      "source": [
        "### COUNT"
      ],
      "metadata": {
        "id": "yuMagAIqEIHI"
      }
    },
    {
      "cell_type": "markdown",
      "source": [
        "1. Retrieve the number of locations of the films which are directed by Woody Allen.\n",
        "\n",
        "<details><summary>Hint</summary>\n",
        "\n",
        "```\n",
        "Follow example 2 of the COUNT exercise. Use the WHERE clause comparison operator =, which means Equal to.\n",
        "```\n",
        "\n",
        "</details>"
      ],
      "metadata": {
        "id": "3bRWJGqAOa6f"
      }
    },
    {
      "cell_type": "markdown",
      "source": [
        "<details><summary>Query Solution</summary>\n",
        "\n",
        "```\n",
        " %%sql\n",
        " SELECT COUNT(Locations) FROM san_francisco_film_locations WHERE Director=\"Woody Allen\"\n",
        "```\n",
        "\n",
        "</details>"
      ],
      "metadata": {
        "id": "RsNveWvbPzZv"
      }
    },
    {
      "cell_type": "code",
      "source": [
        " %%sql\n",
        " SELECT COUNT(Locations)\n",
        " FROM san_francisco_film_locations\n",
        " WHERE Director='Woody Allen'"
      ],
      "metadata": {
        "id": "kW6g-sIBH97f"
      },
      "execution_count": null,
      "outputs": []
    },
    {
      "cell_type": "markdown",
      "source": [
        "2. Retrieve the number of films shot at Russian Hill."
      ],
      "metadata": {
        "id": "E85x8v-1O73u"
      }
    },
    {
      "cell_type": "markdown",
      "source": [
        "<details><summary>Hint</summary>\n",
        "\n",
        "```\n",
        "Follow example 2 of the COUNT exercise. Use the WHERE clause comparison operator =, which means Equal to.\n",
        "```\n",
        "\n",
        "</details>"
      ],
      "metadata": {
        "id": "8Ubh-KpkPcd3"
      }
    },
    {
      "cell_type": "markdown",
      "source": [
        "<details><summary>Query Solution</summary>\n",
        "\n",
        "```\n",
        "%%sql\n",
        "SELECT Count(Title) FROM san_francisco_film_locations WHERE Locations=\"Russian Hill\"\n",
        "```\n",
        "\n",
        "</details>"
      ],
      "metadata": {
        "id": "t4YCx_HWPiLI"
      }
    },
    {
      "cell_type": "code",
      "source": [
        "%%sql\n",
        "SELECT Count(Title)\n",
        "FROM san_francisco_film_locations\n",
        "WHERE Locations='Russian Hill'"
      ],
      "metadata": {
        "id": "qAB3T8SAIukW"
      },
      "execution_count": null,
      "outputs": []
    },
    {
      "cell_type": "markdown",
      "source": [
        "3. Retrieve the number of rows having a release year older than 1950 from the \"FilmLocations\" table."
      ],
      "metadata": {
        "id": "BIkTaQDQP_y5"
      }
    },
    {
      "cell_type": "markdown",
      "source": [
        "<details><summary>Hint</summary>\n",
        "\n",
        "```\n",
        "Follow example 1 of the COUNT exercise. Use the WHERE clause comparison operator <, which means Less than.\n",
        "```\n",
        "\n",
        "</details>"
      ],
      "metadata": {
        "id": "7jm-EYI_QB53"
      }
    },
    {
      "cell_type": "markdown",
      "source": [
        "<details><summary>Query Solution</summary>\n",
        "\n",
        "```\n",
        "%%sql\n",
        "SELECT Count(*) FROM san_francisco_film_locations WHERE ReleaseYear<1950\n",
        "```\n",
        "\n",
        "</details>"
      ],
      "metadata": {
        "id": "YhyN8c4VQTBO"
      }
    },
    {
      "cell_type": "code",
      "source": [
        "%%sql\n",
        "SELECT Count(*)\n",
        "FROM san_francisco_film_locations\n",
        "WHERE ReleaseYear<1950"
      ],
      "metadata": {
        "id": "PcMcTsiaI6dO"
      },
      "execution_count": null,
      "outputs": []
    },
    {
      "cell_type": "markdown",
      "source": [],
      "metadata": {
        "id": "uFR3WoquEF2h"
      }
    },
    {
      "cell_type": "markdown",
      "source": [
        "### DISTINCT"
      ],
      "metadata": {
        "id": "WeFivCStFWtC"
      }
    },
    {
      "cell_type": "markdown",
      "source": [
        "1. Retrieve the names of all unique films released in the 21st century and onwards, along with their release years."
      ],
      "metadata": {
        "id": "qdxCsoQwFbOj"
      }
    },
    {
      "cell_type": "markdown",
      "source": [
        "<details><summary>Hint</summary>\n",
        "\n",
        "```\n",
        "Follow example 1 of DISTINCT. Use WHERE clause comparison operator >=, which means Greater than or equal to.\n",
        "```\n",
        "\n",
        "</details>"
      ],
      "metadata": {
        "id": "9Th2JhdSFkSo"
      }
    },
    {
      "cell_type": "markdown",
      "source": [
        "<details><summary>Query Solution</summary>\n",
        "\n",
        "```\n",
        "%%sql\n",
        "SELECT DISTINCT Title, ReleaseYear FROM san_francisco_film_locations WHERE ReleaseYear>=2001\n",
        "```\n",
        "\n",
        "</details>"
      ],
      "metadata": {
        "id": "z4OJi7_-FktQ"
      }
    },
    {
      "cell_type": "code",
      "source": [
        "%%sql\n",
        "SELECT DISTINCT Title, ReleaseYear FROM san_francisco_film_locations WHERE ReleaseYear>=2001"
      ],
      "metadata": {
        "id": "B-N_99J1Fi7L"
      },
      "execution_count": null,
      "outputs": []
    },
    {
      "cell_type": "markdown",
      "source": [
        "2. Retrieve the directors' names and their distinct films shot at City Hall."
      ],
      "metadata": {
        "id": "l3MqmDY0GD17"
      }
    },
    {
      "cell_type": "markdown",
      "source": [
        "<details><summary>Hint</summary>\n",
        "\n",
        "```\n",
        "Follow example 1 of DISTINCT. Use WHERE clause comparison operator =, which means Equal to.\n",
        "```\n",
        "\n",
        "</details>"
      ],
      "metadata": {
        "id": "UleJF8XJGGlJ"
      }
    },
    {
      "cell_type": "markdown",
      "source": [
        "<details><summary>Query Solution</summary>\n",
        "\n",
        "```\n",
        "%%sql\n",
        "SELECT DISTINCT Title, Director FROM san_francisco_film_locations WHERE Locations=\"City Hall\"\n",
        "```\n",
        "\n",
        "</details>"
      ],
      "metadata": {
        "id": "aKIR9YqfGNZB"
      }
    },
    {
      "cell_type": "code",
      "source": [
        "%%sql\n",
        "SELECT DISTINCT Title, Director FROM san_francisco_film_locations WHERE Locations='City Hall'"
      ],
      "metadata": {
        "id": "VfcY84q5GZUk"
      },
      "execution_count": null,
      "outputs": []
    },
    {
      "cell_type": "markdown",
      "source": [
        "3. Retrieve the number of distributors who distributed films with the 1st actor, Clint Eastwood."
      ],
      "metadata": {
        "id": "SC137774GjcK"
      }
    },
    {
      "cell_type": "markdown",
      "source": [
        "<details><summary>Hint</summary>\n",
        "\n",
        "```\n",
        "Follow example 2 of DISTINCT. Use the WHERE clause comparison operator =, which means Equal to.\n",
        "```\n",
        "\n",
        "</details>"
      ],
      "metadata": {
        "id": "L0sdjQgjGm2p"
      }
    },
    {
      "cell_type": "markdown",
      "source": [
        "<details><summary>Query Solution</summary>\n",
        "\n",
        "```\n",
        "%%sql\n",
        "SELECT COUNT(DISTINCT Distributor) FROM san_francisco_film_locations WHERE Actor1=\"Clint Eastwood\"\n",
        "```\n",
        "\n",
        "</details>"
      ],
      "metadata": {
        "id": "e4GxLfWoGxFi"
      }
    },
    {
      "cell_type": "code",
      "source": [
        "%%sql\n",
        "SELECT COUNT(DISTINCT Distributor) FROM san_francisco_film_locations WHERE Actor1='Clint Eastwood'"
      ],
      "metadata": {
        "id": "1iBGMstwHQ6_"
      },
      "execution_count": null,
      "outputs": []
    },
    {
      "cell_type": "markdown",
      "source": [
        "### LIMIT"
      ],
      "metadata": {
        "id": "S1mRE-LWFevY"
      }
    },
    {
      "cell_type": "markdown",
      "source": [
        "1. Retrieve the names of the first 50 films."
      ],
      "metadata": {
        "id": "iao7hAh1FgRS"
      }
    },
    {
      "cell_type": "markdown",
      "source": [
        "<details><summary>Hint</summary>\n",
        "\n",
        "```\n",
        "Follow example 1 of LIMIT. Use DISTINCT.\n",
        "```\n",
        "\n",
        "</details>"
      ],
      "metadata": {
        "id": "tiqIAGS2G9tR"
      }
    },
    {
      "cell_type": "markdown",
      "source": [
        "<details><summary>Query Solution</summary>\n",
        "\n",
        "```\n",
        "%%sql\n",
        "SELECT DISTINCT Title FROM san_francisco_film_locations LIMIT 50\n",
        "```\n",
        "\n",
        "</details>"
      ],
      "metadata": {
        "id": "vbCs5WWWHHz5"
      }
    },
    {
      "cell_type": "code",
      "source": [
        "%%sql\n",
        "SELECT DISTINCT Title FROM san_francisco_film_locations LIMIT 50\n"
      ],
      "metadata": {
        "id": "6vsNkLrFHU3L"
      },
      "execution_count": null,
      "outputs": []
    },
    {
      "cell_type": "markdown",
      "source": [
        "2. Retrieve the first 10 film names released in 2015."
      ],
      "metadata": {
        "id": "EuzGWpNsHiBh"
      }
    },
    {
      "cell_type": "markdown",
      "source": [
        "<details><summary>Hint</summary>\n",
        "\n",
        "```\n",
        "Follow example 1 of LIMIT. Use DISTINCT. Use WHERE clause comparison operator =, which means Equal to.\n",
        "```\n",
        "\n",
        "</details>"
      ],
      "metadata": {
        "id": "nWiWjC2jHi0S"
      }
    },
    {
      "cell_type": "markdown",
      "source": [
        "<details><summary>Query Solution</summary>\n",
        "\n",
        "```\n",
        "%%sql\n",
        "SELECT DISTINCT Title FROM san_francisco_film_locations WHERE ReleaseYear=2015 LIMIT 10\n",
        "```\n",
        "\n",
        "</details>"
      ],
      "metadata": {
        "id": "0b7wFzSYHmuI"
      }
    },
    {
      "cell_type": "code",
      "source": [
        "%%sql SELECT DISTINCT Title\n",
        "FROM san_francisco_film_locations\n",
        "WHERE ReleaseYear=2015\n",
        "LIMIT 10"
      ],
      "metadata": {
        "id": "rsCN8OGkHp8x"
      },
      "execution_count": null,
      "outputs": []
    },
    {
      "cell_type": "markdown",
      "source": [
        "3. Retrieve the next 3 film names that follow after the first 5 films released in 2015."
      ],
      "metadata": {
        "id": "revTjaESHyY5"
      }
    },
    {
      "cell_type": "markdown",
      "source": [
        "<details><summary>Hint</summary>\n",
        "\n",
        "```\n",
        "Follow example 2 of the LIMIT exercise to learn how to use OFFSET. Use DISTINCT and use the WHERE clause comparison operator =, which\n",
        "means Equal to.\n",
        "```\n",
        "\n",
        "</details>"
      ],
      "metadata": {
        "id": "WcZGh4qlH0kZ"
      }
    },
    {
      "cell_type": "markdown",
      "source": [
        "<details><summary>Query Solution</summary>\n",
        "\n",
        "```\n",
        "%%sql\n",
        "SELECT DISTINCT Title FROM san_francisco_film_locations WHERE ReleaseYear=2015 LIMIT 3 OFFSET 5\n",
        "```\n",
        "\n",
        "</details>"
      ],
      "metadata": {
        "id": "vckDkvTdH3oB"
      }
    },
    {
      "cell_type": "code",
      "source": [
        "%%sql\n",
        "SELECT DISTINCT Title FROM san_francisco_film_locations WHERE ReleaseYear=2015 LIMIT 3 OFFSET 5"
      ],
      "metadata": {
        "id": "1dt4CMI4H81T"
      },
      "execution_count": null,
      "outputs": []
    },
    {
      "cell_type": "markdown",
      "source": [
        "## Conclusion\n",
        "Congratulations on completing this lab!\n",
        "You are now able to:\n",
        "\n",
        "*   Build a database from Internet sources\n",
        "*   Query a database using SELECT statements\n",
        "*   Retrieve all or selected columns of data\n",
        "*   Filter the query response to meet a defined criteria\n"
      ],
      "metadata": {
        "id": "7mPnTmPrJG-m"
      }
    },
    {
      "cell_type": "markdown",
      "source": [
        "## Credit to the Source Content\n",
        "This python notebook uses the content of **Hands-on Lab: Simple SELECT Statements** by IBM Skills Network from the [Databases and SQL for Data Science with Python](https://www.coursera.org/learn/sql-data-science) course. The source content uses a different platform, [Datasette](https://github.com/simonw/datasette), which does not utilize Jupyter notebooks.\n"
      ],
      "metadata": {
        "id": "zw-F8LUq9wiV"
      }
    },
    {
      "cell_type": "markdown",
      "source": [
        "### Change Log\n",
        "All versions prior to 2.0, are attributable to IBM Skills Network's version of the **Hands-on Lab: Simple SELECT Statements** written for [Datasette](https://github.com/simonw/datasette).\n",
        "\n",
        "\n",
        "| Date (YYYY-MM-DD) | Version | Changed By    | Change Description        |\n",
        "| ----------------- | ------- | ------------- | ------------------------- |\n",
        "|2024-05-06|2.0|Martin Borja|Ported to Jupyter/Python Notebooks|\n",
        "|2023-10-11|1.8|Steve Hord| QA pass with edits|\n",
        "|2023-10-01| 1.7| Abhishek Gagneja| Updated instruction set|\n",
        "|2023-05-11| 1.6| Eric Hao & Vladislav Boyko| Updated Page Frames|\n",
        "|2023-05-10| 1.5| Eric Hao & Vladislav Boyko| Updated Page Frames|\n",
        "|2023-05-10| 1.4| Eric Hao & Vladislav Boyko| Updated Page Frames|\n",
        "|2023-05-05| 1.3| Benny Li| Reformatted and republished|\n",
        "|2022-07-27| 1.2| Lakshmi Holla| Updated html tag|\n",
        "|2020-12-23| 1.1| Steve Ryan| ID Review|\n",
        "|2020-11-24| 1.0| Sandip Saha Joy| Initial version created|\n",
        "\n",
        "<hr>\n",
        "\n",
        "### <h4 align=\"center\"> **Hands-on Lab: COUNT DISTINCT LIMIT** © IBM Corporation 2020. All rights reserved. <h4/>\n",
        "### <h4 align=\"center\"> **COUNT DISTINCT LIMIT in SQL using Jupyter Notebooks** © Martin John Hilario Borja 2024. All rights reserved. <h4/>\n",
        "\n",
        "<p>"
      ],
      "metadata": {
        "id": "H8Gkw3ykGwg4"
      }
    }
  ]
}