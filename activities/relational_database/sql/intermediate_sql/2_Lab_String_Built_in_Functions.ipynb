{
  "nbformat": 4,
  "nbformat_minor": 0,
  "metadata": {
    "colab": {
      "provenance": [],
      "authorship_tag": "ABX9TyM1SKksJbexb5waz6KLEfaL",
      "include_colab_link": true
    },
    "kernelspec": {
      "name": "python3",
      "display_name": "Python 3"
    },
    "language_info": {
      "name": "python"
    }
  },
  "cells": [
    {
      "cell_type": "markdown",
      "metadata": {
        "id": "view-in-github",
        "colab_type": "text"
      },
      "source": [
        "<a href=\"https://colab.research.google.com/github/solver-Mart1n/data-science/blob/main/activities/relational_database/sql/intermediate_sql/2_Lab_String_Built_in_Functions.ipynb\" target=\"_parent\"><img src=\"https://colab.research.google.com/assets/colab-badge.svg\" alt=\"Open In Colab\"/></a>"
      ]
    },
    {
      "cell_type": "markdown",
      "source": [
        "# Built-in functions - Aggregate, Scalar, String, Date and Time Functions in SQLite using Jupyter Notebooks\n",
        "\n",
        "In this lab, you will learn how to create tables and load data in the [SQLite](https://docs.python.org/3/library/sqlite3.html) database service using Jupyter Notebooks. This notebook supports and runs on Google Colab.\n",
        "\n",
        "<h2> Objectives </h2>\n",
        "\n",
        "After completing this lab, you will be able to:\n",
        "* Compose and run sub-queries with multiple tables\n",
        "* Check query results and view log files"
      ],
      "metadata": {
        "id": "-4di6MT0NvFW"
      }
    },
    {
      "cell_type": "markdown",
      "source": [
        "## Database Definition\n",
        "The database tables used in this lab activity are as follows.\n",
        "\n",
        "|ID| ANIMAL| QUANTITY| COST| RESCUEDATE|\n",
        "|---|---|---|---|---|\n",
        "|1| Cat| 9| 450.09| 5/29/2018|\n",
        "|2| Dog| 3| 666.66| 6/1/2018|\n",
        "|3| Dog| 1| 100| 6/4/2018|\n",
        "|4| Parrot| 2| 50| 6/4/2018|\n",
        "|5| Dog| 1| 75.75| 6/10/2018|\n",
        "|6| Hamster| 6| 60.6| 6/11/2018|\n",
        "|7| Cat| 1| 44.44| 6/11/2018|\n",
        "|8| Goldfish| 24| 48.48| 6/14/2018|\n",
        "|9| Dog| 2| 222.22| 6/15/2018|"
      ],
      "metadata": {
        "id": "lJLtBXwxWV0y"
      }
    },
    {
      "cell_type": "markdown",
      "source": [
        "## Exercise 1: Create and populate a table using SQL commands"
      ],
      "metadata": {
        "id": "owZHPnxaa-RT"
      }
    },
    {
      "cell_type": "markdown",
      "source": [
        "### Build the database structure"
      ],
      "metadata": {
        "id": "i69E4xv_Di6d"
      }
    },
    {
      "cell_type": "code",
      "source": [
        "import pandas as pd\n",
        "import sqlite3\n",
        "from sqlite3 import OperationalError\n",
        "\n",
        "conn = sqlite3.connect('pet.db', timeout=30)\n",
        "c = conn.cursor()"
      ],
      "metadata": {
        "id": "p9QdhEa3CBYU"
      },
      "execution_count": 1,
      "outputs": []
    },
    {
      "cell_type": "code",
      "source": [
        "!pip install sqlalchemy"
      ],
      "metadata": {
        "id": "NKoFoP8neYCr",
        "colab": {
          "base_uri": "https://localhost:8080/"
        },
        "outputId": "10a89f3a-e27a-4254-8f5d-38dda53e740d"
      },
      "execution_count": 2,
      "outputs": [
        {
          "output_type": "stream",
          "name": "stdout",
          "text": [
            "Requirement already satisfied: sqlalchemy in /usr/local/lib/python3.10/dist-packages (2.0.29)\n",
            "Requirement already satisfied: typing-extensions>=4.6.0 in /usr/local/lib/python3.10/dist-packages (from sqlalchemy) (4.11.0)\n",
            "Requirement already satisfied: greenlet!=0.4.17 in /usr/local/lib/python3.10/dist-packages (from sqlalchemy) (3.0.3)\n"
          ]
        }
      ]
    },
    {
      "cell_type": "code",
      "source": [
        "%reload_ext sql"
      ],
      "metadata": {
        "id": "70Ndq5GysEWQ"
      },
      "execution_count": 3,
      "outputs": []
    },
    {
      "cell_type": "code",
      "source": [
        "%sql sqlite:///pet.db"
      ],
      "metadata": {
        "id": "PP0k_VETsHsX"
      },
      "execution_count": 4,
      "outputs": []
    },
    {
      "cell_type": "markdown",
      "source": [
        "The following setup follows a\n",
        "\n",
        "DROP (IF EXISTS) -> CREATE -> INSERT\n",
        "\n",
        "sequence. Afterward, check tables using SQL SELECT queries."
      ],
      "metadata": {
        "id": "P4ipD4zh_Tg2"
      }
    },
    {
      "cell_type": "code",
      "source": [
        "%%sql\n",
        "drop table if exists PETRESCUE;\n",
        "-- Create the PETRESCUE table\n",
        "create table PETRESCUE (\n",
        "\tID INTEGER NOT NULL,\n",
        "\tANIMAL VARCHAR(20),\n",
        "\tQUANTITY INTEGER,\n",
        "\tCOST DECIMAL(6,2),\n",
        "\tRESCUEDATE DATE,\n",
        "\tPRIMARY KEY (ID)\n",
        "\t);\n",
        "-- Insert sample data into PETRESCUE table\n",
        "insert into PETRESCUE values\n",
        "\t(1,'Cat',9,450.09,'2018-05-29'),\n",
        "\t(2,'Dog',3,666.66,'2018-06-01'),\n",
        "\t(3,'Dog',1,100.00,'2018-06-04'),\n",
        "\t(4,'Parrot',2,50.00,'2018-06-04'),\n",
        "\t(5,'Dog',1,75.75,'2018-06-10'),\n",
        "\t(6,'Hamster',6,60.60,'2018-06-11'),\n",
        "\t(7,'Cat',1,44.44,'2018-06-11'),\n",
        "\t(8,'Goldfish',24,48.48,'2018-06-14'),\n",
        "\t(9,'Dog',2,222.22,'2018-06-15')\n",
        "\n",
        ";\n",
        "\n",
        "SELECT *\n",
        "FROM PETRESCUE;"
      ],
      "metadata": {
        "id": "HI4JC-dlsItX",
        "colab": {
          "base_uri": "https://localhost:8080/",
          "height": 0
        },
        "outputId": "1347b5da-355c-45ec-de5a-9688a20a3b2a"
      },
      "execution_count": 5,
      "outputs": [
        {
          "output_type": "stream",
          "name": "stdout",
          "text": [
            " * sqlite:///pet.db\n",
            "Done.\n",
            "Done.\n",
            "9 rows affected.\n",
            "Done.\n"
          ]
        },
        {
          "output_type": "execute_result",
          "data": {
            "text/plain": [
              "[(1, 'Cat', 9, 450.09, '2018-05-29'),\n",
              " (2, 'Dog', 3, 666.66, '2018-06-01'),\n",
              " (3, 'Dog', 1, 100, '2018-06-04'),\n",
              " (4, 'Parrot', 2, 50, '2018-06-04'),\n",
              " (5, 'Dog', 1, 75.75, '2018-06-10'),\n",
              " (6, 'Hamster', 6, 60.6, '2018-06-11'),\n",
              " (7, 'Cat', 1, 44.44, '2018-06-11'),\n",
              " (8, 'Goldfish', 24, 48.48, '2018-06-14'),\n",
              " (9, 'Dog', 2, 222.22, '2018-06-15')]"
            ],
            "text/html": [
              "<table>\n",
              "    <thead>\n",
              "        <tr>\n",
              "            <th>ID</th>\n",
              "            <th>ANIMAL</th>\n",
              "            <th>QUANTITY</th>\n",
              "            <th>COST</th>\n",
              "            <th>RESCUEDATE</th>\n",
              "        </tr>\n",
              "    </thead>\n",
              "    <tbody>\n",
              "        <tr>\n",
              "            <td>1</td>\n",
              "            <td>Cat</td>\n",
              "            <td>9</td>\n",
              "            <td>450.09</td>\n",
              "            <td>2018-05-29</td>\n",
              "        </tr>\n",
              "        <tr>\n",
              "            <td>2</td>\n",
              "            <td>Dog</td>\n",
              "            <td>3</td>\n",
              "            <td>666.66</td>\n",
              "            <td>2018-06-01</td>\n",
              "        </tr>\n",
              "        <tr>\n",
              "            <td>3</td>\n",
              "            <td>Dog</td>\n",
              "            <td>1</td>\n",
              "            <td>100</td>\n",
              "            <td>2018-06-04</td>\n",
              "        </tr>\n",
              "        <tr>\n",
              "            <td>4</td>\n",
              "            <td>Parrot</td>\n",
              "            <td>2</td>\n",
              "            <td>50</td>\n",
              "            <td>2018-06-04</td>\n",
              "        </tr>\n",
              "        <tr>\n",
              "            <td>5</td>\n",
              "            <td>Dog</td>\n",
              "            <td>1</td>\n",
              "            <td>75.75</td>\n",
              "            <td>2018-06-10</td>\n",
              "        </tr>\n",
              "        <tr>\n",
              "            <td>6</td>\n",
              "            <td>Hamster</td>\n",
              "            <td>6</td>\n",
              "            <td>60.6</td>\n",
              "            <td>2018-06-11</td>\n",
              "        </tr>\n",
              "        <tr>\n",
              "            <td>7</td>\n",
              "            <td>Cat</td>\n",
              "            <td>1</td>\n",
              "            <td>44.44</td>\n",
              "            <td>2018-06-11</td>\n",
              "        </tr>\n",
              "        <tr>\n",
              "            <td>8</td>\n",
              "            <td>Goldfish</td>\n",
              "            <td>24</td>\n",
              "            <td>48.48</td>\n",
              "            <td>2018-06-14</td>\n",
              "        </tr>\n",
              "        <tr>\n",
              "            <td>9</td>\n",
              "            <td>Dog</td>\n",
              "            <td>2</td>\n",
              "            <td>222.22</td>\n",
              "            <td>2018-06-15</td>\n",
              "        </tr>\n",
              "    </tbody>\n",
              "</table>"
            ]
          },
          "metadata": {},
          "execution_count": 5
        }
      ]
    },
    {
      "cell_type": "markdown",
      "source": [
        "# Aggregate, Scalar, String, Date and Time Functions\n",
        "\n"
      ],
      "metadata": {
        "id": "0YTIfTNVM_i-"
      }
    },
    {
      "cell_type": "markdown",
      "source": [
        "## Exercise 2: Aggregate Functions"
      ],
      "metadata": {
        "id": "GUDMLlE4SB-O"
      }
    },
    {
      "cell_type": "markdown",
      "source": [
        "Query A1:\n",
        "\n",
        "Enter a function that calculates the total cost of all animal rescues in the PETRESCUE table."
      ],
      "metadata": {
        "id": "fv0ircNHFj2l"
      }
    },
    {
      "cell_type": "code",
      "source": [
        "%%sql\n",
        "SELECT SUM(COST)\n",
        "FROM PETRESCUE;"
      ],
      "metadata": {
        "colab": {
          "base_uri": "https://localhost:8080/",
          "height": 96
        },
        "id": "9HUcGEm8QgW9",
        "outputId": "ad94c5ea-1b6c-4e80-d77c-f71da6bd7a64"
      },
      "execution_count": 6,
      "outputs": [
        {
          "output_type": "stream",
          "name": "stdout",
          "text": [
            " * sqlite:///pet.db\n",
            "Done.\n"
          ]
        },
        {
          "output_type": "execute_result",
          "data": {
            "text/plain": [
              "[(1718.24,)]"
            ],
            "text/html": [
              "<table>\n",
              "    <thead>\n",
              "        <tr>\n",
              "            <th>SUM(COST)</th>\n",
              "        </tr>\n",
              "    </thead>\n",
              "    <tbody>\n",
              "        <tr>\n",
              "            <td>1718.24</td>\n",
              "        </tr>\n",
              "    </tbody>\n",
              "</table>"
            ]
          },
          "metadata": {},
          "execution_count": 6
        }
      ]
    },
    {
      "cell_type": "markdown",
      "source": [
        "Query A2:\n",
        "\n",
        "Enter a function that displays the total cost of all animal rescues in the PETRESCUE table in a column called\n",
        "SUM_OF_COST.\n"
      ],
      "metadata": {
        "id": "649QSibhGY0s"
      }
    },
    {
      "cell_type": "code",
      "source": [
        "%%sql\n",
        "SELECT SUM(COST) AS SUM_OF_COST\n",
        "FROM PETRESCUE;"
      ],
      "metadata": {
        "colab": {
          "base_uri": "https://localhost:8080/",
          "height": 96
        },
        "id": "coz59x25Qk08",
        "outputId": "d8c4c2ca-ce70-4c50-af4e-dcf10a706d1a"
      },
      "execution_count": 7,
      "outputs": [
        {
          "output_type": "stream",
          "name": "stdout",
          "text": [
            " * sqlite:///pet.db\n",
            "Done.\n"
          ]
        },
        {
          "output_type": "execute_result",
          "data": {
            "text/plain": [
              "[(1718.24,)]"
            ],
            "text/html": [
              "<table>\n",
              "    <thead>\n",
              "        <tr>\n",
              "            <th>SUM_OF_COST</th>\n",
              "        </tr>\n",
              "    </thead>\n",
              "    <tbody>\n",
              "        <tr>\n",
              "            <td>1718.24</td>\n",
              "        </tr>\n",
              "    </tbody>\n",
              "</table>"
            ]
          },
          "metadata": {},
          "execution_count": 7
        }
      ]
    },
    {
      "cell_type": "markdown",
      "source": [
        "Query A3:\n",
        "\n",
        "Enter a function that displays the maximum quantity of animals rescued.\n"
      ],
      "metadata": {
        "id": "qUprTjD6GbFu"
      }
    },
    {
      "cell_type": "code",
      "source": [
        "%%sql\n",
        "SELECT MAX(QUANTITY)\n",
        "FROM PETRESCUE;"
      ],
      "metadata": {
        "colab": {
          "base_uri": "https://localhost:8080/",
          "height": 96
        },
        "id": "CBwIK3VFQve4",
        "outputId": "448aa16b-1e29-4121-c81b-7f4694475c68"
      },
      "execution_count": 8,
      "outputs": [
        {
          "output_type": "stream",
          "name": "stdout",
          "text": [
            " * sqlite:///pet.db\n",
            "Done.\n"
          ]
        },
        {
          "output_type": "execute_result",
          "data": {
            "text/plain": [
              "[(24,)]"
            ],
            "text/html": [
              "<table>\n",
              "    <thead>\n",
              "        <tr>\n",
              "            <th>MAX(QUANTITY)</th>\n",
              "        </tr>\n",
              "    </thead>\n",
              "    <tbody>\n",
              "        <tr>\n",
              "            <td>24</td>\n",
              "        </tr>\n",
              "    </tbody>\n",
              "</table>"
            ]
          },
          "metadata": {},
          "execution_count": 8
        }
      ]
    },
    {
      "cell_type": "markdown",
      "source": [
        "Query A4:\n",
        "\n",
        "Enter a function that displays the average cost of animals rescued.\n"
      ],
      "metadata": {
        "id": "1S6w7MEBGrXx"
      }
    },
    {
      "cell_type": "code",
      "source": [
        "%%sql\n",
        "SELECT AVG(COST)\n",
        "FROM PETRESCUE;"
      ],
      "metadata": {
        "colab": {
          "base_uri": "https://localhost:8080/",
          "height": 96
        },
        "id": "7iXyRwzfGq4t",
        "outputId": "78bcea48-4830-4fc6-8799-c474aa48a60c"
      },
      "execution_count": 9,
      "outputs": [
        {
          "output_type": "stream",
          "name": "stdout",
          "text": [
            " * sqlite:///pet.db\n",
            "Done.\n"
          ]
        },
        {
          "output_type": "execute_result",
          "data": {
            "text/plain": [
              "[(190.91555555555556,)]"
            ],
            "text/html": [
              "<table>\n",
              "    <thead>\n",
              "        <tr>\n",
              "            <th>AVG(COST)</th>\n",
              "        </tr>\n",
              "    </thead>\n",
              "    <tbody>\n",
              "        <tr>\n",
              "            <td>190.91555555555556</td>\n",
              "        </tr>\n",
              "    </tbody>\n",
              "</table>"
            ]
          },
          "metadata": {},
          "execution_count": 9
        }
      ]
    },
    {
      "cell_type": "markdown",
      "source": [
        "Query A5:\n",
        "\n",
        "Enter a function that displays the average cost of rescuing a dog."
      ],
      "metadata": {
        "id": "S9lgqy_VG2Yk"
      }
    },
    {
      "cell_type": "code",
      "source": [
        "%%sql\n",
        "SELECT AVG(COST)\n",
        "FROM PETRESCUE\n",
        "WHERE ANIMAL = 'Dog';"
      ],
      "metadata": {
        "colab": {
          "base_uri": "https://localhost:8080/",
          "height": 96
        },
        "id": "Ept5eWq-G211",
        "outputId": "d6743d60-1918-49da-dc2b-6dec68f8e9d8"
      },
      "execution_count": 10,
      "outputs": [
        {
          "output_type": "stream",
          "name": "stdout",
          "text": [
            " * sqlite:///pet.db\n",
            "Done.\n"
          ]
        },
        {
          "output_type": "execute_result",
          "data": {
            "text/plain": [
              "[(266.15749999999997,)]"
            ],
            "text/html": [
              "<table>\n",
              "    <thead>\n",
              "        <tr>\n",
              "            <th>AVG(COST)</th>\n",
              "        </tr>\n",
              "    </thead>\n",
              "    <tbody>\n",
              "        <tr>\n",
              "            <td>266.15749999999997</td>\n",
              "        </tr>\n",
              "    </tbody>\n",
              "</table>"
            ]
          },
          "metadata": {},
          "execution_count": 10
        }
      ]
    },
    {
      "cell_type": "markdown",
      "source": [
        "## Exercise 3: Scalar and String Functions"
      ],
      "metadata": {
        "id": "cRsk0vHXQ6TP"
      }
    },
    {
      "cell_type": "markdown",
      "source": [
        "Query B1:\n",
        "\n",
        "Enter a function that displays the rounded cost of each rescue.\n"
      ],
      "metadata": {
        "id": "nARegJJYHMwF"
      }
    },
    {
      "cell_type": "code",
      "source": [
        "%%sql\n",
        "SELECT CAST(ROUND(COST, 0) AS INTEGER)\n",
        "FROM PETRESCUE;"
      ],
      "metadata": {
        "colab": {
          "base_uri": "https://localhost:8080/",
          "height": 267
        },
        "id": "S1qSrpLBQzI_",
        "outputId": "2305d893-19b6-42db-8952-5e3ad9882196"
      },
      "execution_count": 11,
      "outputs": [
        {
          "output_type": "stream",
          "name": "stdout",
          "text": [
            " * sqlite:///pet.db\n",
            "Done.\n"
          ]
        },
        {
          "output_type": "execute_result",
          "data": {
            "text/plain": [
              "[(450,), (667,), (100,), (50,), (76,), (61,), (44,), (48,), (222,)]"
            ],
            "text/html": [
              "<table>\n",
              "    <thead>\n",
              "        <tr>\n",
              "            <th>CAST(ROUND(COST, 0) AS INTEGER)</th>\n",
              "        </tr>\n",
              "    </thead>\n",
              "    <tbody>\n",
              "        <tr>\n",
              "            <td>450</td>\n",
              "        </tr>\n",
              "        <tr>\n",
              "            <td>667</td>\n",
              "        </tr>\n",
              "        <tr>\n",
              "            <td>100</td>\n",
              "        </tr>\n",
              "        <tr>\n",
              "            <td>50</td>\n",
              "        </tr>\n",
              "        <tr>\n",
              "            <td>76</td>\n",
              "        </tr>\n",
              "        <tr>\n",
              "            <td>61</td>\n",
              "        </tr>\n",
              "        <tr>\n",
              "            <td>44</td>\n",
              "        </tr>\n",
              "        <tr>\n",
              "            <td>48</td>\n",
              "        </tr>\n",
              "        <tr>\n",
              "            <td>222</td>\n",
              "        </tr>\n",
              "    </tbody>\n",
              "</table>"
            ]
          },
          "metadata": {},
          "execution_count": 11
        }
      ]
    },
    {
      "cell_type": "markdown",
      "source": [
        "Query B2:\n",
        "\n",
        "Enter a function that displays the length of each animal name.\n"
      ],
      "metadata": {
        "id": "Kcn4SrlhIGwO"
      }
    },
    {
      "cell_type": "code",
      "source": [
        "%%sql\n",
        "SELECT LENGTH(ANIMAL)\n",
        "FROM PETRESCUE;"
      ],
      "metadata": {
        "colab": {
          "base_uri": "https://localhost:8080/",
          "height": 267
        },
        "id": "FUgn80YYIH1l",
        "outputId": "b698a2ce-16d7-4698-c6cc-805e55688567"
      },
      "execution_count": 12,
      "outputs": [
        {
          "output_type": "stream",
          "name": "stdout",
          "text": [
            " * sqlite:///pet.db\n",
            "Done.\n"
          ]
        },
        {
          "output_type": "execute_result",
          "data": {
            "text/plain": [
              "[(3,), (3,), (3,), (6,), (3,), (7,), (3,), (8,), (3,)]"
            ],
            "text/html": [
              "<table>\n",
              "    <thead>\n",
              "        <tr>\n",
              "            <th>LENGTH(ANIMAL)</th>\n",
              "        </tr>\n",
              "    </thead>\n",
              "    <tbody>\n",
              "        <tr>\n",
              "            <td>3</td>\n",
              "        </tr>\n",
              "        <tr>\n",
              "            <td>3</td>\n",
              "        </tr>\n",
              "        <tr>\n",
              "            <td>3</td>\n",
              "        </tr>\n",
              "        <tr>\n",
              "            <td>6</td>\n",
              "        </tr>\n",
              "        <tr>\n",
              "            <td>3</td>\n",
              "        </tr>\n",
              "        <tr>\n",
              "            <td>7</td>\n",
              "        </tr>\n",
              "        <tr>\n",
              "            <td>3</td>\n",
              "        </tr>\n",
              "        <tr>\n",
              "            <td>8</td>\n",
              "        </tr>\n",
              "        <tr>\n",
              "            <td>3</td>\n",
              "        </tr>\n",
              "    </tbody>\n",
              "</table>"
            ]
          },
          "metadata": {},
          "execution_count": 12
        }
      ]
    },
    {
      "cell_type": "markdown",
      "source": [
        "Query B3:\n",
        "\n",
        "Enter a function that displays the animal name in each rescue in uppercase.\n"
      ],
      "metadata": {
        "id": "ogo1CGHITn67"
      }
    },
    {
      "cell_type": "code",
      "source": [
        "%%sql\n",
        "SELECT UPPER(ANIMAL)\n",
        "FROM PETRESCUE;"
      ],
      "metadata": {
        "colab": {
          "base_uri": "https://localhost:8080/",
          "height": 267
        },
        "id": "7fpza1bxTqTK",
        "outputId": "7b9730df-fe9c-4d81-c1b2-4859e7a9ff6b"
      },
      "execution_count": 13,
      "outputs": [
        {
          "output_type": "stream",
          "name": "stdout",
          "text": [
            " * sqlite:///pet.db\n",
            "Done.\n"
          ]
        },
        {
          "output_type": "execute_result",
          "data": {
            "text/plain": [
              "[('CAT',),\n",
              " ('DOG',),\n",
              " ('DOG',),\n",
              " ('PARROT',),\n",
              " ('DOG',),\n",
              " ('HAMSTER',),\n",
              " ('CAT',),\n",
              " ('GOLDFISH',),\n",
              " ('DOG',)]"
            ],
            "text/html": [
              "<table>\n",
              "    <thead>\n",
              "        <tr>\n",
              "            <th>UPPER(ANIMAL)</th>\n",
              "        </tr>\n",
              "    </thead>\n",
              "    <tbody>\n",
              "        <tr>\n",
              "            <td>CAT</td>\n",
              "        </tr>\n",
              "        <tr>\n",
              "            <td>DOG</td>\n",
              "        </tr>\n",
              "        <tr>\n",
              "            <td>DOG</td>\n",
              "        </tr>\n",
              "        <tr>\n",
              "            <td>PARROT</td>\n",
              "        </tr>\n",
              "        <tr>\n",
              "            <td>DOG</td>\n",
              "        </tr>\n",
              "        <tr>\n",
              "            <td>HAMSTER</td>\n",
              "        </tr>\n",
              "        <tr>\n",
              "            <td>CAT</td>\n",
              "        </tr>\n",
              "        <tr>\n",
              "            <td>GOLDFISH</td>\n",
              "        </tr>\n",
              "        <tr>\n",
              "            <td>DOG</td>\n",
              "        </tr>\n",
              "    </tbody>\n",
              "</table>"
            ]
          },
          "metadata": {},
          "execution_count": 13
        }
      ]
    },
    {
      "cell_type": "markdown",
      "source": [
        "Query B4:\n",
        "\n",
        "Enter a function that displays the animal name in each rescue in uppercase without duplications.\n"
      ],
      "metadata": {
        "id": "H_MvFBViTqgz"
      }
    },
    {
      "cell_type": "code",
      "source": [
        "%%sql\n",
        "SELECT DISTINCT UPPER(ANIMAL)\n",
        "FROM PETRESCUE;"
      ],
      "metadata": {
        "colab": {
          "base_uri": "https://localhost:8080/",
          "height": 182
        },
        "id": "CxCerjucTnYK",
        "outputId": "214d56d9-e873-457b-d9c2-61f6a27c0d43"
      },
      "execution_count": 14,
      "outputs": [
        {
          "output_type": "stream",
          "name": "stdout",
          "text": [
            " * sqlite:///pet.db\n",
            "Done.\n"
          ]
        },
        {
          "output_type": "execute_result",
          "data": {
            "text/plain": [
              "[('CAT',), ('DOG',), ('PARROT',), ('HAMSTER',), ('GOLDFISH',)]"
            ],
            "text/html": [
              "<table>\n",
              "    <thead>\n",
              "        <tr>\n",
              "            <th>UPPER(ANIMAL)</th>\n",
              "        </tr>\n",
              "    </thead>\n",
              "    <tbody>\n",
              "        <tr>\n",
              "            <td>CAT</td>\n",
              "        </tr>\n",
              "        <tr>\n",
              "            <td>DOG</td>\n",
              "        </tr>\n",
              "        <tr>\n",
              "            <td>PARROT</td>\n",
              "        </tr>\n",
              "        <tr>\n",
              "            <td>HAMSTER</td>\n",
              "        </tr>\n",
              "        <tr>\n",
              "            <td>GOLDFISH</td>\n",
              "        </tr>\n",
              "    </tbody>\n",
              "</table>"
            ]
          },
          "metadata": {},
          "execution_count": 14
        }
      ]
    },
    {
      "cell_type": "markdown",
      "source": [
        "Query B5:\n",
        "\n",
        "Enter a query that displays all the columns from the PETRESCUE table, where the animal(s) rescued are cats.\n",
        "Use cat in lower case in the query.\n"
      ],
      "metadata": {
        "id": "VY6OLUFATnIp"
      }
    },
    {
      "cell_type": "code",
      "source": [
        "%%sql\n",
        "SELECT *\n",
        "FROM PETRESCUE\n",
        "WHERE ANIMAL = 'cat'\n",
        "COLLATE NOCASE;"
      ],
      "metadata": {
        "colab": {
          "base_uri": "https://localhost:8080/",
          "height": 118
        },
        "id": "fGR4KMwKTom7",
        "outputId": "d7b08c97-91e6-42d6-eb30-d517008fe17a"
      },
      "execution_count": 15,
      "outputs": [
        {
          "output_type": "stream",
          "name": "stdout",
          "text": [
            " * sqlite:///pet.db\n",
            "Done.\n"
          ]
        },
        {
          "output_type": "execute_result",
          "data": {
            "text/plain": [
              "[(1, 'Cat', 9, 450.09, '2018-05-29'), (7, 'Cat', 1, 44.44, '2018-06-11')]"
            ],
            "text/html": [
              "<table>\n",
              "    <thead>\n",
              "        <tr>\n",
              "            <th>ID</th>\n",
              "            <th>ANIMAL</th>\n",
              "            <th>QUANTITY</th>\n",
              "            <th>COST</th>\n",
              "            <th>RESCUEDATE</th>\n",
              "        </tr>\n",
              "    </thead>\n",
              "    <tbody>\n",
              "        <tr>\n",
              "            <td>1</td>\n",
              "            <td>Cat</td>\n",
              "            <td>9</td>\n",
              "            <td>450.09</td>\n",
              "            <td>2018-05-29</td>\n",
              "        </tr>\n",
              "        <tr>\n",
              "            <td>7</td>\n",
              "            <td>Cat</td>\n",
              "            <td>1</td>\n",
              "            <td>44.44</td>\n",
              "            <td>2018-06-11</td>\n",
              "        </tr>\n",
              "    </tbody>\n",
              "</table>"
            ]
          },
          "metadata": {},
          "execution_count": 15
        }
      ]
    },
    {
      "cell_type": "markdown",
      "source": [
        "## Exercise 4: Date and Time Functions"
      ],
      "metadata": {
        "id": "srLMDkVSStgc"
      }
    },
    {
      "cell_type": "markdown",
      "source": [
        "Query C1:\n",
        "\n",
        "Enter a function that displays the day of the month when cats have been rescued.\n"
      ],
      "metadata": {
        "id": "mCkauzv2To2F"
      }
    },
    {
      "cell_type": "code",
      "source": [
        "%%sql\n",
        "SELECT strftime('%d', RESCUEDATE)\n",
        "FROM PETRESCUE\n",
        "WHERE ANIMAL='Cat';"
      ],
      "metadata": {
        "colab": {
          "base_uri": "https://localhost:8080/",
          "height": 118
        },
        "id": "1Jtb6Q6bS-X1",
        "outputId": "8401f2b1-69c3-452e-bb41-0e4d5fd2189b"
      },
      "execution_count": 16,
      "outputs": [
        {
          "output_type": "stream",
          "name": "stdout",
          "text": [
            " * sqlite:///pet.db\n",
            "Done.\n"
          ]
        },
        {
          "output_type": "execute_result",
          "data": {
            "text/plain": [
              "[('29',), ('11',)]"
            ],
            "text/html": [
              "<table>\n",
              "    <thead>\n",
              "        <tr>\n",
              "            <th>strftime(&#x27;%d&#x27;, RESCUEDATE)</th>\n",
              "        </tr>\n",
              "    </thead>\n",
              "    <tbody>\n",
              "        <tr>\n",
              "            <td>29</td>\n",
              "        </tr>\n",
              "        <tr>\n",
              "            <td>11</td>\n",
              "        </tr>\n",
              "    </tbody>\n",
              "</table>"
            ]
          },
          "metadata": {},
          "execution_count": 16
        }
      ]
    },
    {
      "cell_type": "markdown",
      "source": [
        "Query C2:\n",
        "\n",
        "Enter a function that displays the number of rescues on the 5th month."
      ],
      "metadata": {
        "id": "Usjgsr83T1P8"
      }
    },
    {
      "cell_type": "code",
      "source": [
        "%%sql\n",
        "SELECT SUM(QUANTITY)\n",
        "FROM PETRESCUE\n",
        "WHERE strftime('%m', RESCUEDATE)='05';"
      ],
      "metadata": {
        "colab": {
          "base_uri": "https://localhost:8080/",
          "height": 96
        },
        "id": "eGQ-4K_SZwkF",
        "outputId": "5593c4cc-0a29-4e6c-f0dd-903b86802a46"
      },
      "execution_count": 17,
      "outputs": [
        {
          "output_type": "stream",
          "name": "stdout",
          "text": [
            " * sqlite:///pet.db\n",
            "Done.\n"
          ]
        },
        {
          "output_type": "execute_result",
          "data": {
            "text/plain": [
              "[(9,)]"
            ],
            "text/html": [
              "<table>\n",
              "    <thead>\n",
              "        <tr>\n",
              "            <th>SUM(QUANTITY)</th>\n",
              "        </tr>\n",
              "    </thead>\n",
              "    <tbody>\n",
              "        <tr>\n",
              "            <td>9</td>\n",
              "        </tr>\n",
              "    </tbody>\n",
              "</table>"
            ]
          },
          "metadata": {},
          "execution_count": 17
        }
      ]
    },
    {
      "cell_type": "markdown",
      "source": [
        "Query C3:\n",
        "\n",
        "Enter a function that displays the number of rescues on the 14th day of the month."
      ],
      "metadata": {
        "id": "MCYLl-pAag5M"
      }
    },
    {
      "cell_type": "code",
      "source": [
        "%%sql\n",
        "SELECT SUM(QUANTITY)\n",
        "FROM PETRESCUE\n",
        "WHERE strftime('%d', RESCUEDATE)='14';"
      ],
      "metadata": {
        "colab": {
          "base_uri": "https://localhost:8080/",
          "height": 96
        },
        "id": "0N_qVtzKTFfJ",
        "outputId": "614bc3be-4258-4a1b-9df4-fc1aa6217162"
      },
      "execution_count": 18,
      "outputs": [
        {
          "output_type": "stream",
          "name": "stdout",
          "text": [
            " * sqlite:///pet.db\n",
            "Done.\n"
          ]
        },
        {
          "output_type": "execute_result",
          "data": {
            "text/plain": [
              "[(24,)]"
            ],
            "text/html": [
              "<table>\n",
              "    <thead>\n",
              "        <tr>\n",
              "            <th>SUM(QUANTITY)</th>\n",
              "        </tr>\n",
              "    </thead>\n",
              "    <tbody>\n",
              "        <tr>\n",
              "            <td>24</td>\n",
              "        </tr>\n",
              "    </tbody>\n",
              "</table>"
            ]
          },
          "metadata": {},
          "execution_count": 18
        }
      ]
    },
    {
      "cell_type": "markdown",
      "source": [
        "Query C4:\n",
        "\n",
        "Animals rescued should see the vet within three days of arrivals. Enter a function that displays the third day from\n",
        "each rescue"
      ],
      "metadata": {
        "id": "ha-WSv6ZT9C1"
      }
    },
    {
      "cell_type": "code",
      "source": [
        "%%sql\n",
        "SELECT DATE(RESCUEDATE,'+3 days')\n",
        "FROM PETRESCUE;"
      ],
      "metadata": {
        "colab": {
          "base_uri": "https://localhost:8080/",
          "height": 267
        },
        "id": "EBBjxjhITKHY",
        "outputId": "f9b9ca77-0a62-4787-99d1-2226411c5f82"
      },
      "execution_count": 19,
      "outputs": [
        {
          "output_type": "stream",
          "name": "stdout",
          "text": [
            " * sqlite:///pet.db\n",
            "Done.\n"
          ]
        },
        {
          "output_type": "execute_result",
          "data": {
            "text/plain": [
              "[('2018-06-01',),\n",
              " ('2018-06-04',),\n",
              " ('2018-06-07',),\n",
              " ('2018-06-07',),\n",
              " ('2018-06-13',),\n",
              " ('2018-06-14',),\n",
              " ('2018-06-14',),\n",
              " ('2018-06-17',),\n",
              " ('2018-06-18',)]"
            ],
            "text/html": [
              "<table>\n",
              "    <thead>\n",
              "        <tr>\n",
              "            <th>DATE(RESCUEDATE,&#x27;+3 days&#x27;)</th>\n",
              "        </tr>\n",
              "    </thead>\n",
              "    <tbody>\n",
              "        <tr>\n",
              "            <td>2018-06-01</td>\n",
              "        </tr>\n",
              "        <tr>\n",
              "            <td>2018-06-04</td>\n",
              "        </tr>\n",
              "        <tr>\n",
              "            <td>2018-06-07</td>\n",
              "        </tr>\n",
              "        <tr>\n",
              "            <td>2018-06-07</td>\n",
              "        </tr>\n",
              "        <tr>\n",
              "            <td>2018-06-13</td>\n",
              "        </tr>\n",
              "        <tr>\n",
              "            <td>2018-06-14</td>\n",
              "        </tr>\n",
              "        <tr>\n",
              "            <td>2018-06-14</td>\n",
              "        </tr>\n",
              "        <tr>\n",
              "            <td>2018-06-17</td>\n",
              "        </tr>\n",
              "        <tr>\n",
              "            <td>2018-06-18</td>\n",
              "        </tr>\n",
              "    </tbody>\n",
              "</table>"
            ]
          },
          "metadata": {},
          "execution_count": 19
        }
      ]
    },
    {
      "cell_type": "markdown",
      "source": [
        "Query C5:\n",
        "\n",
        "Enter a function that displays the length of time the animals have been rescued; the difference between todays\n",
        "date and the rescue date."
      ],
      "metadata": {
        "id": "V-9omyZPbx-s"
      }
    },
    {
      "cell_type": "code",
      "source": [
        "%%sql\n",
        "SELECT CAST(julianday('NOW') - julianday(RESCUEDATE) AS INTEGER) AS DAYS\n",
        "FROM PETRESCUE;"
      ],
      "metadata": {
        "colab": {
          "base_uri": "https://localhost:8080/",
          "height": 267
        },
        "id": "7ck4CJjcb4Tc",
        "outputId": "ba46ed31-d378-4322-cba6-2687b220b4bd"
      },
      "execution_count": 20,
      "outputs": [
        {
          "output_type": "stream",
          "name": "stdout",
          "text": [
            " * sqlite:///pet.db\n",
            "Done.\n"
          ]
        },
        {
          "output_type": "execute_result",
          "data": {
            "text/plain": [
              "[(2172,),\n",
              " (2169,),\n",
              " (2166,),\n",
              " (2166,),\n",
              " (2160,),\n",
              " (2159,),\n",
              " (2159,),\n",
              " (2156,),\n",
              " (2155,)]"
            ],
            "text/html": [
              "<table>\n",
              "    <thead>\n",
              "        <tr>\n",
              "            <th>DAYS</th>\n",
              "        </tr>\n",
              "    </thead>\n",
              "    <tbody>\n",
              "        <tr>\n",
              "            <td>2172</td>\n",
              "        </tr>\n",
              "        <tr>\n",
              "            <td>2169</td>\n",
              "        </tr>\n",
              "        <tr>\n",
              "            <td>2166</td>\n",
              "        </tr>\n",
              "        <tr>\n",
              "            <td>2166</td>\n",
              "        </tr>\n",
              "        <tr>\n",
              "            <td>2160</td>\n",
              "        </tr>\n",
              "        <tr>\n",
              "            <td>2159</td>\n",
              "        </tr>\n",
              "        <tr>\n",
              "            <td>2159</td>\n",
              "        </tr>\n",
              "        <tr>\n",
              "            <td>2156</td>\n",
              "        </tr>\n",
              "        <tr>\n",
              "            <td>2155</td>\n",
              "        </tr>\n",
              "    </tbody>\n",
              "</table>"
            ]
          },
          "metadata": {},
          "execution_count": 20
        }
      ]
    },
    {
      "cell_type": "markdown",
      "source": [
        "## Conclusion\n",
        "\n",
        "Congratulations! You can now compose and run queries, check results and view the logs. You will use these skills in later labs."
      ],
      "metadata": {
        "id": "-HF9fvEebHvi"
      }
    },
    {
      "cell_type": "markdown",
      "source": [
        "## Credit to the Source Content\n",
        "This python notebook uses the content of **Hands-on Lab: Built-in functions - Aggregate, Scalar, String, Date and Time Functions** by IBM Skills Network from the [Databases and SQL for Data Science with Python](https://www.coursera.org/learn/sql-data-science) course. The source content uses the MySQL phpMyAdmin GUI tool for all SQL server interactions instead of SQLite and Jupyter Notebooks running on Google Colab."
      ],
      "metadata": {
        "id": "CVHkyRXDdvHd"
      }
    },
    {
      "cell_type": "markdown",
      "source": [
        "### Change Log\n",
        "All versions prior to 1.4, are attributable to IBM Skills Network's version of the **Hands-on Lab: Built-in functions - Aggregate, Scalar, String, Date and Time Functions** written for MySQL phpMyAdmin server GUI tool.\n",
        "\n",
        "\n",
        "| Date (YYYY-MM-DD) | Version | Changed By    | Change Description        |\n",
        "| ----------------- | ------- | ------------- | ------------------------- |\n",
        "|2024-05-09|1.5|Martin Borja|Ported to Jupyter/Python Notebooks; Restructured, and added solutions and comments to help capture concepts |\n",
        "|2021-07-15| 1.4 |Malika Added |hint to A5 solution|\n",
        "|2020-06-29| 1.3 |Rose Malcolm |Added new Ex.1 to create table form sql file. Renumbered remaining exercises and solutions.|\n",
        "|2020-06-26| 1.2 |Steve Hord| Replace quotes |\n",
        "|2020-06-25| 1.1 |Steve Hord |Revise Objectives section|\n",
        "|05-Jun-20| 1.0 |Rose Malcolm |Initial version created|\n",
        "\n",
        "<br>\n",
        "\n",
        "<hr>\n",
        "\n",
        "### <h4 align=\"center\"> **Hands-on Lab: Built-in functions - Aggregate, Scalar, String, Date and Time Functions** © IBM Corporation 2023. All rights reserved. </h4>\n",
        "### <h4 align=\"center\"> **Built-in functions - Aggregate, Scalar, String, Date and Time Functions in SQL using Jupyter Notebooks** © Martin John Hilario Borja 2024. All rights reserved. </h4>\n",
        "\n",
        "<p>"
      ],
      "metadata": {
        "id": "Q7zLOBq9bLYK"
      }
    }
  ]
}
