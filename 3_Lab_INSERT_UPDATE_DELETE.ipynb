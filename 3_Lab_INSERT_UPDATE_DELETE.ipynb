{
  "nbformat": 4,
  "nbformat_minor": 0,
  "metadata": {
    "colab": {
      "provenance": [],
      "collapsed_sections": [
        "f2yCwyTwh15o",
        "YovWuxg2pvqB",
        "ygHQXaYcp4Xo",
        "L-69ZjwLrLWw",
        "0HPmxCJfHxpX",
        "jsdtHR0LH2rX"
      ],
      "toc_visible": true,
      "authorship_tag": "ABX9TyMKrSFQCegcpnRI+ykcl0Lb",
      "include_colab_link": true
    },
    "kernelspec": {
      "name": "python3",
      "display_name": "Python 3"
    },
    "language_info": {
      "name": "python"
    }
  },
  "cells": [
    {
      "cell_type": "markdown",
      "metadata": {
        "id": "view-in-github",
        "colab_type": "text"
      },
      "source": [
        "<a href=\"https://colab.research.google.com/github/solver-Mart1n/data-science/blob/solver-Mart1n-c06w1p2-basic-sql/3_Lab_INSERT_UPDATE_DELETE.ipynb\" target=\"_parent\"><img src=\"https://colab.research.google.com/assets/colab-badge.svg\" alt=\"Open In Colab\"/></a>"
      ]
    },
    {
      "cell_type": "markdown",
      "source": [
        "<h1> COUNT, DISTINCT, LIMIT in SQL using Jupyter Notebooks </h1>"
      ],
      "metadata": {
        "id": "o4aQl-JmexpI"
      }
    },
    {
      "cell_type": "markdown",
      "source": [
        "## Description\n",
        "In this lab, you will learn some commonly used DML (Data Manipulation Language) statements of SQL other than SELECT. First, you will learn the\n",
        "INSERT statement, which is used to insert new rows into a table. Next, you will learn the UPDATE statement which is used to update the data in\n",
        "existing rows in the table. Lastly, you will learn the DELETE statement which is used to remove rows from a table."
      ],
      "metadata": {
        "id": "x-XgP-DFfK6_"
      }
    },
    {
      "cell_type": "markdown",
      "source": [
        "<h3>Objectives</h3>\n",
        "<h4>After completing this lab, you will be able to:</h4>\n",
        "    <ul>\n",
        "        <li>Insert new rows into a table</li>\n",
        "        <li>Update data in existing rows of the table</li>\n",
        "        <li>Remove rows from a table</li>\n",
        "    </ul>\n"
      ],
      "metadata": {
        "id": "MDQsztBTp_VY"
      }
    },
    {
      "cell_type": "markdown",
      "source": [
        "<h3>Table of Contents</h3>\n",
        "    <ul>\n",
        "        <li>Building the Database from an Internet Source</li>\n",
        "        <li>Exploring the Database</li>\n",
        "        <li>Using INSERT Statement</li>\n",
        "        <li>Using UPDATE Statement</li>\n",
        "        <li>Using DELETE Statement</li>\n",
        "        <li>Practice Exercises INSERT, UPDATE, DELETE</li>\n",
        "    </ul>"
      ],
      "metadata": {
        "id": "y34wHBX2fZA3"
      }
    },
    {
      "cell_type": "markdown",
      "source": [
        "<p>Estimated Time Needed: <strong>30 min</strong></p>\n",
        "<hr>"
      ],
      "metadata": {
        "id": "TiPHZop7tWv4"
      }
    },
    {
      "cell_type": "markdown",
      "source": [
        "## Building the Database from an Internet Source\n",
        "The database used in this lab comes from the following dataset source: [Film Locations in San Francisco](https://data.sfgov.org/Culture-and-Recreation/Film-Locations-in-San-Francisco/yitu-d5am/about_data) under a [PDDL: Public Domain Dedication and License](http://opendatacommons.org/licenses/pddl/1.0/)."
      ],
      "metadata": {
        "id": "f2yCwyTwh15o"
      }
    },
    {
      "cell_type": "markdown",
      "source": [
        "### Ingesting a CSV from a Data Source Endpoint\n",
        "Three API parameters are used on top of the base URL for the data source. This data paging is in compliance with the row limit of the endpoint API."
      ],
      "metadata": {
        "id": "G3D-hoEUFBD_"
      }
    },
    {
      "cell_type": "code",
      "source": [
        "url1 = 'https://data.sfgov.org/resource/yitu-d5am.csv?$limit=1000&$offset=0'\n",
        "url2 = 'https://data.sfgov.org/resource/yitu-d5am.csv?$limit=1000&$offset=999'\n",
        "url3 = 'https://data.sfgov.org/resource/yitu-d5am.csv?$limit=49&$offset=1999'"
      ],
      "metadata": {
        "id": "POGujTivL96g"
      },
      "execution_count": 1,
      "outputs": []
    },
    {
      "cell_type": "markdown",
      "source": [
        "The three will be ingested as data frames and combined into one. And this will be used to generate a CSV."
      ],
      "metadata": {
        "id": "XE8BZ_UDFnmW"
      }
    },
    {
      "cell_type": "code",
      "source": [
        "!pip install pandas==1.3.3"
      ],
      "metadata": {
        "id": "D1u6wOWnOtlw"
      },
      "execution_count": null,
      "outputs": []
    },
    {
      "cell_type": "code",
      "source": [
        "import pandas as pd"
      ],
      "metadata": {
        "id": "a0JD-zfcZ-Wn"
      },
      "execution_count": 3,
      "outputs": []
    },
    {
      "cell_type": "code",
      "source": [
        "# Read the dataset from a csv file\n",
        "df1 = pd.read_csv(url1, header=0, sep=\",\")\n",
        "\n",
        "# Display the first few rows of the DataFrame\n",
        "df1.tail()"
      ],
      "metadata": {
        "id": "Va47-jchaEfP"
      },
      "execution_count": null,
      "outputs": []
    },
    {
      "cell_type": "code",
      "source": [
        "# Read the dataset from a csv file\n",
        "df2 = pd.read_csv(url2, header=0, sep=\",\")\n",
        "\n",
        "# Display the first few rows of the DataFrame\n",
        "df2.head()"
      ],
      "metadata": {
        "id": "ZcriUyYKaD8n"
      },
      "execution_count": null,
      "outputs": []
    },
    {
      "cell_type": "code",
      "source": [
        "df2.tail()"
      ],
      "metadata": {
        "id": "zqkwor1FaZEn"
      },
      "execution_count": null,
      "outputs": []
    },
    {
      "cell_type": "code",
      "execution_count": null,
      "metadata": {
        "id": "OJMBfjeoIwOO"
      },
      "outputs": [],
      "source": [
        "# Read the dataset from a csv file\n",
        "df3 = pd.read_csv(url3, header=0, sep=\",\")\n",
        "\n",
        "# Display the first few rows of the DataFrame\n",
        "df3.head()"
      ]
    },
    {
      "cell_type": "code",
      "source": [
        "df3.tail()"
      ],
      "metadata": {
        "id": "4eGhwaqOaf2I"
      },
      "execution_count": null,
      "outputs": []
    },
    {
      "cell_type": "markdown",
      "source": [
        "Visible from the tail() and head() print outs of the three data frames, indices start from 0 each time a CSV is loaded. The \"ignore_index\" attribute of the data frame append() function is set to _True_ in order to avoid copying repeating indices to the aggregated data frame."
      ],
      "metadata": {
        "id": "aXRNwLZBi0ew"
      }
    },
    {
      "cell_type": "code",
      "source": [
        "df = df1.append(df2,ignore_index=True)\n",
        "df = df.append(df3,ignore_index=True)\n",
        "len(df)"
      ],
      "metadata": {
        "id": "ZvjOy3rJMM7b"
      },
      "execution_count": null,
      "outputs": []
    },
    {
      "cell_type": "code",
      "source": [
        "df.columns"
      ],
      "metadata": {
        "id": "pQqVuNist5Mh"
      },
      "execution_count": null,
      "outputs": []
    },
    {
      "cell_type": "code",
      "source": [
        "df.drop(columns=[':@computed_region_6qbp_sg9q', ':@computed_region_ajp5_b2md', ':@computed_region_26cr_cadq'],inplace=True)"
      ],
      "metadata": {
        "id": "RkRkonVJt9wK"
      },
      "execution_count": 11,
      "outputs": []
    },
    {
      "cell_type": "code",
      "source": [
        "df.set_axis(['Title', 'ReleaseYear', 'Locations', 'FunFacts', 'ProductionCompany', 'Distributor', 'Director', 'Writer', 'Actor1', 'Actor2', 'Actor3'], axis='columns', inplace=True)"
      ],
      "metadata": {
        "id": "N8H6IVnitNWA"
      },
      "execution_count": 12,
      "outputs": []
    },
    {
      "cell_type": "markdown",
      "source": [
        "As a result, the index labels of the combined data frame starts from 0 and ends with 2048. This indicates a successful merge of the pages of data from the [Data SF](https://data.sfgov.org/resource/yitu-d5am.csv) source URL."
      ],
      "metadata": {
        "id": "DGwUqI8rj483"
      }
    },
    {
      "cell_type": "code",
      "source": [
        "df"
      ],
      "metadata": {
        "id": "fUDogcf9MaXi"
      },
      "execution_count": null,
      "outputs": []
    },
    {
      "cell_type": "markdown",
      "source": [
        "Store the combined data frame into one CSV file."
      ],
      "metadata": {
        "id": "udbdNGE7k8HY"
      }
    },
    {
      "cell_type": "code",
      "source": [
        "df.to_csv('san_francisco_film_locations.csv', index=False)"
      ],
      "metadata": {
        "id": "oI05szhNPAZa"
      },
      "execution_count": 14,
      "outputs": []
    },
    {
      "cell_type": "markdown",
      "source": [
        "### Create an SQL Database from the Pandas Data Frame"
      ],
      "metadata": {
        "id": "UL5PuQslcgJ_"
      }
    },
    {
      "cell_type": "markdown",
      "source": [
        "#### Option 1: Using Duck DB\n",
        "You can create a duck database using a CSV file and the **CREATE OR REPLACE TABLE** and **AS FROM** directives with the _read_csv_auto()_ method."
      ],
      "metadata": {
        "id": "YovWuxg2pvqB"
      }
    },
    {
      "cell_type": "code",
      "source": [
        "%pip install jupysql --upgrade duckdb-engine --quiet"
      ],
      "metadata": {
        "id": "ltyD2GRhcaEa"
      },
      "execution_count": null,
      "outputs": []
    },
    {
      "cell_type": "code",
      "source": [
        "%reload_ext sql"
      ],
      "metadata": {
        "id": "gsrXgMHBqMYY"
      },
      "execution_count": null,
      "outputs": []
    },
    {
      "cell_type": "code",
      "source": [
        "%sql duckdb:///san_francisco_film_locations.duck.db"
      ],
      "metadata": {
        "id": "8oDtpypYc9Hp"
      },
      "execution_count": null,
      "outputs": []
    },
    {
      "cell_type": "code",
      "source": [
        "%%sql\n",
        "CREATE OR REPLACE TABLE san_francisco_film_locations AS\n",
        "FROM read_csv_auto('san_francisco_film_locations.csv', header=True, sep=',')"
      ],
      "metadata": {
        "id": "DGfmcNzLdRN5"
      },
      "execution_count": null,
      "outputs": []
    },
    {
      "cell_type": "markdown",
      "source": [
        "Proceed to the section: Exploring the Database"
      ],
      "metadata": {
        "id": "Gg1j1oHrr44o"
      }
    },
    {
      "cell_type": "markdown",
      "source": [
        "#### Option 2: Using SQL Alchemy"
      ],
      "metadata": {
        "id": "ygHQXaYcp4Xo"
      }
    },
    {
      "cell_type": "code",
      "source": [
        "import sqlite3 as sq3"
      ],
      "metadata": {
        "id": "eO9AXdIsbu3y"
      },
      "execution_count": 15,
      "outputs": []
    },
    {
      "cell_type": "code",
      "source": [
        "conn = sq3.connect('san_francisco_film_locations.db')\n",
        "#df.to_sql('san_francisco_film_locations', conn, if_exists='append', index=False)\n",
        "df.to_sql('san_francisco_film_locations', conn, if_exists='replace', index=False)"
      ],
      "metadata": {
        "id": "GL1y7pZWcAPO"
      },
      "execution_count": 16,
      "outputs": []
    },
    {
      "cell_type": "code",
      "source": [
        "!pip install sqlalchemy"
      ],
      "metadata": {
        "id": "-RG-CjAVl4Cy",
        "colab": {
          "base_uri": "https://localhost:8080/"
        },
        "outputId": "46fd8e2f-ab09-444d-fb40-8bd9cb49bcb2"
      },
      "execution_count": 17,
      "outputs": [
        {
          "output_type": "stream",
          "name": "stdout",
          "text": [
            "Requirement already satisfied: sqlalchemy in /usr/local/lib/python3.10/dist-packages (2.0.29)\n",
            "Requirement already satisfied: typing-extensions>=4.6.0 in /usr/local/lib/python3.10/dist-packages (from sqlalchemy) (4.11.0)\n",
            "Requirement already satisfied: greenlet!=0.4.17 in /usr/local/lib/python3.10/dist-packages (from sqlalchemy) (3.0.3)\n"
          ]
        }
      ]
    },
    {
      "cell_type": "code",
      "source": [
        "%reload_ext sql"
      ],
      "metadata": {
        "id": "IZ127wvWc4X6"
      },
      "execution_count": 18,
      "outputs": []
    },
    {
      "cell_type": "code",
      "source": [
        "%sql sqlite:///san_francisco_film_locations.db"
      ],
      "metadata": {
        "id": "z3cYwni_lXzo"
      },
      "execution_count": 19,
      "outputs": []
    },
    {
      "cell_type": "markdown",
      "source": [
        "## Exploring the Database\n",
        "Now that we have a database. We can start exploring it through the _SELECT_ command. _FROM_ specifies the database to query. And the '*' specifies all its contents.\n",
        "\n",
        "A value of 5 passed to the _LIMIT_ command limits the print out to only 5 records."
      ],
      "metadata": {
        "id": "L-69ZjwLrLWw"
      }
    },
    {
      "cell_type": "code",
      "source": [
        "%%sql\n",
        "SELECT *\n",
        "FROM san_francisco_film_locations\n",
        "LIMIT 5"
      ],
      "metadata": {
        "id": "RnzkL7y9eNvg",
        "colab": {
          "base_uri": "https://localhost:8080/",
          "height": 269
        },
        "outputId": "17b7f2ee-8a22-4c06-c91b-a7f4e8f76619"
      },
      "execution_count": 20,
      "outputs": [
        {
          "output_type": "stream",
          "name": "stdout",
          "text": [
            " * sqlite:///san_francisco_film_locations.db\n",
            "Done.\n"
          ]
        },
        {
          "output_type": "execute_result",
          "data": {
            "text/plain": [
              "[('Experiment in Terror', 1962, \"The Sea Captain's Chest (Fisherman's Wharf)\", None, 'Columbia Pictures Corporation', 'Columbia Pictures', 'Blake Edwards', 'The Gordons', 'Glenn Ford', 'Lee Remick', 'Stefanie Powers'),\n",
              " ('Experiment in Terror', 1962, '100 St. Germain Avenue', None, 'Columbia Pictures Corporation', 'Columbia Pictures', 'Blake Edwards', 'The Gordons', 'Glenn Ford', 'Lee Remick', 'Stefanie Powers'),\n",
              " ('Chan is Missing', 1982, 'Li Po (916 Grant Avenue at Washington, Chinatown)', None, 'New Yorker Films', 'New Yorker Films', 'Wayne Wang', 'Wayne Wang', 'Wood Moy', 'Marc Hayashi', 'Lauren Chew'),\n",
              " ('A View to a Kill', 1985, \"Taylor and Jefferson Streets (Fisherman's Wharf)\", None, 'Metro-Goldwyn Mayer', 'MGM/UA Entertainment Company', 'John Glen', 'Richard Maibaum', 'Roger Moore', 'Christopher Walken', 'Tanya Roberts'),\n",
              " ('The Californians', 2005, None, None, 'Parker Film Company', 'Fabrication Films', 'Jonathan Parker', 'Jonathan Parker & Catherine DiNapoli', 'Noah Wyle', None, None)]"
            ],
            "text/html": [
              "<table>\n",
              "    <thead>\n",
              "        <tr>\n",
              "            <th>Title</th>\n",
              "            <th>ReleaseYear</th>\n",
              "            <th>Locations</th>\n",
              "            <th>FunFacts</th>\n",
              "            <th>ProductionCompany</th>\n",
              "            <th>Distributor</th>\n",
              "            <th>Director</th>\n",
              "            <th>Writer</th>\n",
              "            <th>Actor1</th>\n",
              "            <th>Actor2</th>\n",
              "            <th>Actor3</th>\n",
              "        </tr>\n",
              "    </thead>\n",
              "    <tbody>\n",
              "        <tr>\n",
              "            <td>Experiment in Terror</td>\n",
              "            <td>1962</td>\n",
              "            <td>The Sea Captain&#x27;s Chest (Fisherman&#x27;s Wharf)</td>\n",
              "            <td>None</td>\n",
              "            <td>Columbia Pictures Corporation</td>\n",
              "            <td>Columbia Pictures</td>\n",
              "            <td>Blake Edwards</td>\n",
              "            <td>The Gordons</td>\n",
              "            <td>Glenn Ford</td>\n",
              "            <td>Lee Remick</td>\n",
              "            <td>Stefanie Powers</td>\n",
              "        </tr>\n",
              "        <tr>\n",
              "            <td>Experiment in Terror</td>\n",
              "            <td>1962</td>\n",
              "            <td>100 St. Germain Avenue</td>\n",
              "            <td>None</td>\n",
              "            <td>Columbia Pictures Corporation</td>\n",
              "            <td>Columbia Pictures</td>\n",
              "            <td>Blake Edwards</td>\n",
              "            <td>The Gordons</td>\n",
              "            <td>Glenn Ford</td>\n",
              "            <td>Lee Remick</td>\n",
              "            <td>Stefanie Powers</td>\n",
              "        </tr>\n",
              "        <tr>\n",
              "            <td>Chan is Missing</td>\n",
              "            <td>1982</td>\n",
              "            <td>Li Po (916 Grant Avenue at Washington, Chinatown)</td>\n",
              "            <td>None</td>\n",
              "            <td>New Yorker Films</td>\n",
              "            <td>New Yorker Films</td>\n",
              "            <td>Wayne Wang</td>\n",
              "            <td>Wayne Wang</td>\n",
              "            <td>Wood Moy</td>\n",
              "            <td>Marc Hayashi</td>\n",
              "            <td>Lauren Chew</td>\n",
              "        </tr>\n",
              "        <tr>\n",
              "            <td>A View to a Kill</td>\n",
              "            <td>1985</td>\n",
              "            <td>Taylor and Jefferson Streets (Fisherman&#x27;s Wharf)</td>\n",
              "            <td>None</td>\n",
              "            <td>Metro-Goldwyn Mayer</td>\n",
              "            <td>MGM/UA Entertainment Company</td>\n",
              "            <td>John Glen</td>\n",
              "            <td>Richard Maibaum</td>\n",
              "            <td>Roger Moore</td>\n",
              "            <td>Christopher Walken</td>\n",
              "            <td>Tanya Roberts</td>\n",
              "        </tr>\n",
              "        <tr>\n",
              "            <td>The Californians</td>\n",
              "            <td>2005</td>\n",
              "            <td>None</td>\n",
              "            <td>None</td>\n",
              "            <td>Parker Film Company</td>\n",
              "            <td>Fabrication Films</td>\n",
              "            <td>Jonathan Parker</td>\n",
              "            <td>Jonathan Parker &amp; Catherine DiNapoli</td>\n",
              "            <td>Noah Wyle</td>\n",
              "            <td>None</td>\n",
              "            <td>None</td>\n",
              "        </tr>\n",
              "    </tbody>\n",
              "</table>"
            ]
          },
          "metadata": {},
          "execution_count": 20
        }
      ]
    },
    {
      "cell_type": "markdown",
      "source": [
        "These are the column attribute descriptions from the **san_francisco_film_locations** table:\n",
        "\n",
        "|Column|Description|\n",
        "|---|---|\n",
        "|   Title| titles of the films|\n",
        "|   ReleaseYear| time of public release of the films|\n",
        "|   Locations| locations of San Francisco where the films were shot|\n",
        "|   FunFacts| funny facts about the filming locations|\n",
        "|   ProductionCompany| companies who produced the films|\n",
        "|   Distributor| companies who distributed the films|\n",
        "|   Director| people who directed the films|\n",
        "|   Writer| people who wrote the films|\n",
        "|   Actor1| person 1 who acted in the films|\n",
        "|   Actor2| person 2 who acted in the films|\n",
        "|   Actor3| person 3 who acted in the films|\n",
        "\n",
        "\n",
        "\n",
        "\n"
      ],
      "metadata": {
        "id": "V4TPPbh1MKCv"
      }
    },
    {
      "cell_type": "markdown",
      "source": [
        "## Using INSERT Statement\n",
        "In this exercise, you will first go through some examples of using INSERT in queries and then solve some exercise problems by using it.\n"
      ],
      "metadata": {
        "id": "0HPmxCJfHxpX"
      }
    },
    {
      "cell_type": "markdown",
      "source": [
        "### Example 1\n",
        "In this example, suppose we want to insert a new single row into the Instructor table.\n",
        "\n",
        "1. Problem:\n",
        "Insert a new location record with:\n",
        "* the title **Some Fictitious Movie**, released on **2024**, filmed at **Some Street in San Francisco**, no fun facts, by **Some Production Inc.** production company through **Some Distributor**, directed by **Mr. Director**, written by **Mr. Writer**, with three lead actors **Mrs. Actor**, **Mr. Actor**, and **Ms. Actor**, into the san_francisco_film_locations table."
      ],
      "metadata": {
        "id": "I3B454SJMkxe"
      }
    },
    {
      "cell_type": "markdown",
      "source": [
        "2. Solution:\n",
        "The following inserts the new record to the Instructor database."
      ],
      "metadata": {
        "id": "_4oQnO8qnSdA"
      }
    },
    {
      "cell_type": "code",
      "source": [
        "%%sql\n",
        "INSERT INTO san_francisco_film_locations(Title, ReleaseYear, Locations, FunFacts, ProductionCompany, Distributor, Director, Writer, Actor1, Actor2, Actor3)\n",
        "VALUES('Some Fictitious Movie', 2024, 'Some Street in San Francisco', 'None', 'Some Production Inc.', 'Some Distributor', 'Mr. Director', 'Mr. Writer', 'Mrs. Actor', 'Mr. Actor', 'Ms. Actor');"
      ],
      "metadata": {
        "id": "DoX9wPqGnEEm"
      },
      "execution_count": null,
      "outputs": []
    },
    {
      "cell_type": "markdown",
      "source": [
        "3. Check if the new entry was included."
      ],
      "metadata": {
        "id": "voHdHXocoJqG"
      }
    },
    {
      "cell_type": "code",
      "source": [
        "%%sql\n",
        "SELECT * FROM san_francisco_film_locations;"
      ],
      "metadata": {
        "id": "Oa2HKvmGH18u"
      },
      "execution_count": null,
      "outputs": []
    },
    {
      "cell_type": "markdown",
      "source": [
        "### Example 2\n",
        "In this example, suppose we want to insert some new multiple rows into the Instructor table.\n",
        "1. Problem:\n",
        "Insert two new location records into the san_francisco_film_locations table.\n",
        "* First record with the title **Another Fictitious Movie**, released on **2025**, filmed at **Next Street in San Francisco**, no fun facts, by **Some Production Inc.** production company through **Some Distributor**, directed by **Mr. Director A**, written by **Mr. Writer B**, with three lead actors **Mr. Actor C**, **Ms. Actor D**, and **Mr. Actor E**.\n",
        "* Second record with the title **One Fictitious Movie**, released on **2026**, filmed at **That Street in San Francisco**, no fun facts, by **Some Production Inc.** production company through **Some Distributor**, directed by **Mr. Director N**, written by **Mr. Writer N+1**, with three lead actors **Mrs. Actor N+2**, **Mr. Actor N+3**, and **Ms. Actor N+4**.\n",
        "2. Solution:"
      ],
      "metadata": {
        "id": "SJzVyZ5QOUEP"
      }
    },
    {
      "cell_type": "code",
      "source": [
        "%%sql\n",
        "INSERT INTO san_francisco_film_locations(Title, ReleaseYear, Locations, FunFacts, ProductionCompany, Distributor, Director, Writer, Actor1, Actor2, Actor3)\n",
        "VALUES('Another Fictitious Movie', 2025, 'Next Street in San Francisco', 'None', 'Some Production Inc.', 'Some Distributor', 'Mr. Director A', 'Mr. Writer B', 'Mrs. Actor C', 'Mr. Actor D', 'Ms. Actor E'),('One Fictitious Movie', 2026, 'That Street in San Francisco', 'None', 'Some Production Inc.', 'Some Distributor', 'Mr. Director N', 'Mr. Writer N+1', 'Mrs. Actor N+2', 'Mr. Actor N+3', 'Ms. Actor N+4');"
      ],
      "metadata": {
        "id": "QuP1u3vTIMnv"
      },
      "execution_count": null,
      "outputs": []
    },
    {
      "cell_type": "markdown",
      "source": [
        "3. Check if the new entry was included."
      ],
      "metadata": {
        "id": "MfB4U3DtpzsK"
      }
    },
    {
      "cell_type": "code",
      "source": [
        "%%sql\n",
        "SELECT *\n",
        "FROM san_francisco_film_locations"
      ],
      "metadata": {
        "id": "G-bcRrGzp8vs"
      },
      "execution_count": null,
      "outputs": []
    },
    {
      "cell_type": "markdown",
      "source": [
        "##Using UPDATE Statement\n",
        "Let us go through some examples of UPDATE related queries:"
      ],
      "metadata": {
        "id": "d4aLfSNgBtqi"
      }
    },
    {
      "cell_type": "markdown",
      "source": [
        "### Example 3\n",
        "In this example, we want to update one column of an existing row of the table.\n",
        "1. Problem:\n",
        "Update the city for Sandip to Toronto.\n",
        "2. Solution:\n",
        "UPDATE Instructor\n",
        "SET city='Toronto'\n",
        "WHERE firstname=\"Sandip\";\n",
        "3. Copy the solution code above by clicking on the little copy button on the bottom right of the codeblock below and paste it to the textbox\n",
        "of the Datasette tool. Then click Submit query.\n",
        "4. Copy the code below by clicking on the little copy button on the bottom right of the codeblock below and paste it to the textbox of the\n",
        "Datasette tool. Then click Submit query.\n",
        "SELECT * FROM Instructor;"
      ],
      "metadata": {
        "id": "HkhlcTaPPkBN"
      }
    },
    {
      "cell_type": "code",
      "source": [],
      "metadata": {
        "id": "5K0b8V8oB1T5"
      },
      "execution_count": null,
      "outputs": []
    },
    {
      "cell_type": "markdown",
      "source": [
        "### Example 4\n",
        "In this example, we want to update multiple columns of an existing row of the table.\n",
        "1. Problem:\n",
        "Update the city and country for Doe with id 5 to Dubai and AE respectively.\n",
        "2. Solution:\n",
        "UPDATE Instructor\n",
        "SET city='Dubai', country='AE'\n",
        "WHERE ins_id=5;\n",
        "3. Copy the solution code above by clicking on the little copy button on the bottom right of the codeblock below and paste it to the textbox\n",
        "of the Datasette tool. Then click Submit query.\n",
        "4. Copy the code below by clicking on the little copy button on the bottom right of the codeblock below and paste it to the textbox of the\n",
        "Datasette tool. Then click Submit query.\n",
        "SELECT * FROM Instructor;"
      ],
      "metadata": {
        "id": "2V31ifUeDcBJ"
      }
    },
    {
      "cell_type": "code",
      "source": [],
      "metadata": {
        "id": "KKAGM7smDcu6"
      },
      "execution_count": null,
      "outputs": []
    },
    {
      "cell_type": "markdown",
      "source": [
        "## Using DELETE Statement\n",
        "In this exercise, you will first go through an example of using DELETE in a query and then solve an exercise problem by using it.\n",
        "\n",
        "Let us go through an example of a DELETE related query:"
      ],
      "metadata": {
        "id": "XUPoRZRtB2Lp"
      }
    },
    {
      "cell_type": "markdown",
      "source": [
        "### Example 5\n",
        "In this example, we want to remove a row from the table.\n",
        "1. Problem:\n",
        "Remove the instructor record of Doe whose id is 6.\n",
        "2. Solution:\n",
        "DELETE FROM instructor\n",
        "WHERE ins_id = 6;\n",
        "3. Copy the solution code above by clicking on the little copy button on the bottom right of the codeblock below and paste it to the textbox\n",
        "of Custom SQL query of the Datasette tool. Then click Submit query.\n",
        "4. Copy the code below by clicking on the little copy button on the bottom right of the codeblock below and paste it to the textbox of the\n",
        "Datasette tool. Then click Submit query.\n",
        "SELECT * FROM Instructor;"
      ],
      "metadata": {
        "id": "i6WslEhaRW6F"
      }
    },
    {
      "cell_type": "code",
      "source": [],
      "metadata": {
        "id": "PZZX5gSbB65I"
      },
      "execution_count": null,
      "outputs": []
    },
    {
      "cell_type": "markdown",
      "source": [
        "## Practice Exercises"
      ],
      "metadata": {
        "id": "jsdtHR0LH2rX"
      }
    },
    {
      "cell_type": "markdown",
      "source": [
        "### INSERT\n",
        "Now, let us practice creating and running some INSERT related queries."
      ],
      "metadata": {
        "id": "yuMagAIqEIHI"
      }
    },
    {
      "cell_type": "markdown",
      "source": [
        "#### Problem 1\n",
        "Insert a new instructor record with First record with the title **Movie 001**, released on\n",
        "**2027**, filmed at **1 Street in San Francisco**, no fun facts, by **Some Production Inc.** production company through **Some Distributor**, directed by **Director 1**, written by **Writer 1**, with three lead actors **Actor 10**, **Actor 20**, and **Actor 30** into the san_francisco_film_locations table.\n",
        "\n",
        "<details><summary>Hint</summary>\n",
        "\n",
        "\n",
        "```\n",
        "Follow example 1 of the INSERT exercise.\n",
        "%%sql\n",
        "INSERT INTO tablename([column1], [column2], [column3], [column4], [column5], [column6], [column7], [column8], [column9], [column10], [column11])\n",
        "VALUES('Movie 001', 2027, '1 Street in San Francisco', 'None', 'Some Production Inc.', 'Some Distributor', 'Director 1', 'Writer 1', 'Actor 10', 'Actor 20', 'Actor 30');\n",
        "\n",
        "SELECT * FROM tablename;\n",
        "```\n",
        "\n",
        "</details>"
      ],
      "metadata": {
        "id": "3bRWJGqAOa6f"
      }
    },
    {
      "cell_type": "markdown",
      "source": [
        "<details><summary>Query Solution</summary>\n",
        "\n",
        "```\n",
        "%%sql\n",
        "INSERT INTO san_francisco_film_locations(Title, ReleaseYear, Locations, FunFacts, ProductionCompany, Distributor, Director, Writer, Actor1, Actor2, Actor3)\n",
        "VALUES('Movie 001', 2027, '1 Street in San Francisco', 'None', 'Some Production Inc.', 'Some Distributor', 'Director 1', 'Writer 1', 'Actor 10', 'Actor 20', 'Actor 30');\n",
        "\n",
        "SELECT * FROM san_francisco_film_locations\n",
        "```\n",
        "\n",
        "</details>"
      ],
      "metadata": {
        "id": "RsNveWvbPzZv"
      }
    },
    {
      "cell_type": "code",
      "source": [
        "%%sql\n",
        "INSERT INTO san_francisco_film_locations(Title, ReleaseYear, Locations, FunFacts, ProductionCompany, Distributor, Director, Writer, Actor1, Actor2, Actor3)\n",
        "VALUES('Movie 001', 2027, '1 Street in San Francisco', 'None', 'Some Production Inc.', 'Some Distributor', 'Director 1', 'Writer 1', 'Actor 10', 'Actor 20', 'Actor 30');\n",
        "\n",
        "SELECT * FROM san_francisco_film_locations"
      ],
      "metadata": {
        "id": "kW6g-sIBH97f"
      },
      "execution_count": null,
      "outputs": []
    },
    {
      "cell_type": "markdown",
      "source": [
        "#### Problem 2\n",
        "Insert two new instructor records into the “Instructor” table.\n",
        "* First record is a sequel of Another Fictitious Movie.\n",
        "* Second\n",
        "record is a sequel of One Fictitious Movie."
      ],
      "metadata": {
        "id": "E85x8v-1O73u"
      }
    },
    {
      "cell_type": "markdown",
      "source": [
        "<details><summary>Hint</summary>\n",
        "\n",
        "```\n",
        "Follow example 2 of the INSERT exercise.\n",
        "```\n",
        "\n",
        "</details>"
      ],
      "metadata": {
        "id": "8Ubh-KpkPcd3"
      }
    },
    {
      "cell_type": "markdown",
      "source": [
        "<details><summary>Query Solution</summary>\n",
        "\n",
        "```\n",
        "%%sql\n",
        "INSERT INTO san_francisco_film_locations(Title, ReleaseYear, Locations, FunFacts, ProductionCompany, Distributor, Director, Writer, Actor1, Actor2, Actor3)\n",
        "VALUES('Another Fictitious Movie Part 2', 2026, 'Next Street in San Francisco', 'None', 'Some Production Inc.', 'Some Distributor', 'Mr. Director A', 'Mr. Writer B', 'Mrs. Actor C', 'Mr. Actor D', 'Ms. Actor E'),('One Fictitious Movie Part 2', 2027, 'That Street in San Francisco', 'None', 'Some Production Inc.', 'Some Distributor', 'Mr. Director N', 'Mr. Writer N+1', 'Mrs. Actor N+2', 'Mr. Actor N+3', 'Ms. Actor N+4');\n",
        "\n",
        "SELECT * from san_francisco_film_locations;\n",
        "```\n",
        "\n",
        "</details>"
      ],
      "metadata": {
        "id": "t4YCx_HWPiLI"
      }
    },
    {
      "cell_type": "code",
      "source": [
        "%%sql\n",
        "INSERT INTO san_francisco_film_locations(Title, ReleaseYear, Locations, FunFacts, ProductionCompany, Distributor, Director, Writer, Actor1, Actor2, Actor3)\n",
        "VALUES('Another Fictitious Movie Part 2', 2026, 'Next Street in San Francisco', 'None', 'Some Production Inc.', 'Some Distributor', 'Mr. Director A', 'Mr. Writer B', 'Mrs. Actor C', 'Mr. Actor D', 'Ms. Actor E'),('One Fictitious Movie Part 2', 2027, 'That Street in San Francisco', 'None', 'Some Production Inc.', 'Some Distributor', 'Mr. Director N', 'Mr. Writer N+1', 'Mrs. Actor N+2', 'Mr. Actor N+3', 'Ms. Actor N+4');\n",
        "\n",
        "SELECT * from san_francisco_film_locations;"
      ],
      "metadata": {
        "id": "qAB3T8SAIukW"
      },
      "execution_count": null,
      "outputs": []
    },
    {
      "cell_type": "markdown",
      "source": [
        "### UPDATE\n",
        "Now, let us practice creating and running some UPDATE related queries."
      ],
      "metadata": {
        "id": "WeFivCStFWtC"
      }
    },
    {
      "cell_type": "markdown",
      "source": [
        "#### Problem 3\n",
        "Update the city of the instructor record to Markham whose id is 1."
      ],
      "metadata": {
        "id": "qdxCsoQwFbOj"
      }
    },
    {
      "cell_type": "markdown",
      "source": [
        "<details><summary>Hint</summary>\n",
        "\n",
        "```\n",
        "Follow example 1 of the UPDATE exercise.\n",
        "%%sql\n",
        "UPDATE table_name\n",
        "SET [column1]='Markham'\n",
        "WHERE [specifiedcolumn]=1;\n",
        "SELECT * FROM tablename;\n",
        "```\n",
        "\n",
        "</details>"
      ],
      "metadata": {
        "id": "9Th2JhdSFkSo"
      }
    },
    {
      "cell_type": "markdown",
      "source": [
        "<details><summary>Query Solution</summary>\n",
        "\n",
        "```\n",
        "%%sql\n",
        "UPDATE Instructor\n",
        "SET city='Markham'\n",
        "WHERE ins_id=1;\n",
        "SELECT * FROM Instructor;\n",
        "\n",
        "```\n",
        "\n",
        "</details>"
      ],
      "metadata": {
        "id": "z4OJi7_-FktQ"
      }
    },
    {
      "cell_type": "code",
      "source": [],
      "metadata": {
        "id": "B-N_99J1Fi7L"
      },
      "execution_count": null,
      "outputs": []
    },
    {
      "cell_type": "markdown",
      "source": [
        "#### Problem 4\n",
        "Update the city and country for Sandip with id 4 to Dhaka and BD respectively."
      ],
      "metadata": {
        "id": "l3MqmDY0GD17"
      }
    },
    {
      "cell_type": "markdown",
      "source": [
        "<details><summary>Hint</summary>\n",
        "\n",
        "```\n",
        "Follow example 2 of the UPDATE exercise.\n",
        "UPDATE table_name\n",
        "SET [column1]='Dhaka', [column2]='BD'\n",
        "WHERE [specifiedcolumn]=4;\n",
        "SELECT * FROM tablename;\n",
        "```\n",
        "\n",
        "</details>"
      ],
      "metadata": {
        "id": "UleJF8XJGGlJ"
      }
    },
    {
      "cell_type": "markdown",
      "source": [
        "<details><summary>Query Solution</summary>\n",
        "\n",
        "```\n",
        "%%sql\n",
        "UPDATE Instructor\n",
        "SET city='Dhaka', country='BD'\n",
        "WHERE ins_id=4;\n",
        "SELECT * FROM Instructor;\n",
        "```\n",
        "\n",
        "</details>"
      ],
      "metadata": {
        "id": "aKIR9YqfGNZB"
      }
    },
    {
      "cell_type": "code",
      "source": [],
      "metadata": {
        "id": "VfcY84q5GZUk"
      },
      "execution_count": null,
      "outputs": []
    },
    {
      "cell_type": "markdown",
      "source": [
        "### DELETE\n",
        "Now, let us practice creating and running a DELETE related query."
      ],
      "metadata": {
        "id": "S1mRE-LWFevY"
      }
    },
    {
      "cell_type": "markdown",
      "source": [
        "#### Problem 5\n",
        "Remove the instructor record of Hima."
      ],
      "metadata": {
        "id": "iao7hAh1FgRS"
      }
    },
    {
      "cell_type": "markdown",
      "source": [
        "<details><summary>Hint</summary>\n",
        "\n",
        "```\n",
        "Follow example 1 of the DELETE exercise.\n",
        "DELETE FROM tablename\n",
        "WHERE [columnanme1] = 'Hima';\n",
        "SELECT * FROM tablename;\n",
        "```\n",
        "\n",
        "</details>"
      ],
      "metadata": {
        "id": "tiqIAGS2G9tR"
      }
    },
    {
      "cell_type": "markdown",
      "source": [
        "<details><summary>Query Solution</summary>\n",
        "\n",
        "```\n",
        "%%sql\n",
        "DELETE FROM instructor\n",
        "WHERE firstname = 'Hima';\n",
        "SELECT * FROM Instructor;\n",
        "```\n",
        "\n",
        "</details>"
      ],
      "metadata": {
        "id": "vbCs5WWWHHz5"
      }
    },
    {
      "cell_type": "code",
      "source": [],
      "metadata": {
        "id": "6vsNkLrFHU3L"
      },
      "execution_count": null,
      "outputs": []
    },
    {
      "cell_type": "markdown",
      "source": [
        "2. Retrieve the first 10 film names released in 2015."
      ],
      "metadata": {
        "id": "EuzGWpNsHiBh"
      }
    },
    {
      "cell_type": "markdown",
      "source": [
        "<details><summary>Hint</summary>\n",
        "\n",
        "```\n",
        "Follow example 1 of LIMIT. Use DISTINCT. Use WHERE clause comparison operator =, which means Equal to.\n",
        "```\n",
        "\n",
        "</details>"
      ],
      "metadata": {
        "id": "nWiWjC2jHi0S"
      }
    },
    {
      "cell_type": "markdown",
      "source": [
        "<details><summary>Query Solution</summary>\n",
        "\n",
        "```\n",
        "%%sql\n",
        "SELECT DISTINCT Title FROM san_francisco_film_locations WHERE ReleaseYear=2015 LIMIT 10\n",
        "```\n",
        "\n",
        "</details>"
      ],
      "metadata": {
        "id": "0b7wFzSYHmuI"
      }
    },
    {
      "cell_type": "code",
      "source": [],
      "metadata": {
        "id": "rsCN8OGkHp8x"
      },
      "execution_count": null,
      "outputs": []
    },
    {
      "cell_type": "markdown",
      "source": [
        "3. Retrieve the next 3 film names that follow after the first 5 films released in 2015."
      ],
      "metadata": {
        "id": "revTjaESHyY5"
      }
    },
    {
      "cell_type": "markdown",
      "source": [
        "<details><summary>Hint</summary>\n",
        "\n",
        "```\n",
        "Follow example 2 of the LIMIT exercise to learn how to use OFFSET. Use DISTINCT and use the WHERE clause comparison operator =, which\n",
        "means Equal to.\n",
        "```\n",
        "\n",
        "</details>"
      ],
      "metadata": {
        "id": "WcZGh4qlH0kZ"
      }
    },
    {
      "cell_type": "markdown",
      "source": [
        "<details><summary>Query Solution</summary>\n",
        "\n",
        "```\n",
        "%%sql\n",
        "SELECT DISTINCT Title FROM san_francisco_film_locations WHERE ReleaseYear=2015 LIMIT 3 OFFSET 5\n",
        "```\n",
        "\n",
        "</details>"
      ],
      "metadata": {
        "id": "vckDkvTdH3oB"
      }
    },
    {
      "cell_type": "code",
      "source": [],
      "metadata": {
        "id": "1dt4CMI4H81T"
      },
      "execution_count": null,
      "outputs": []
    },
    {
      "cell_type": "markdown",
      "source": [
        "## Conclusion\n",
        "Thank you for completing the lab! You are now able to perform operations on tables like:\n",
        "\n",
        "*   Inserting rows using the INSERT command\n",
        "*   Removing rows using DELETE\n",
        "*   Updating the data in existing rows with UPDATE\n"
      ],
      "metadata": {
        "id": "7mPnTmPrJG-m"
      }
    },
    {
      "cell_type": "markdown",
      "source": [
        "## Credit to the Source Content\n",
        "This python notebook uses the content of **Hands-on Lab : INSERT, UPDATE, DELETE** by IBM Skills Network from the [Databases and SQL for Data Science with Python](https://www.coursera.org/learn/sql-data-science) course. The source content uses a different platform, [Datasette](https://github.com/simonw/datasette), which does not utilize Jupyter notebooks.\n"
      ],
      "metadata": {
        "id": "zw-F8LUq9wiV"
      }
    },
    {
      "cell_type": "markdown",
      "source": [
        "### Change Log\n",
        "All versions prior to 2.0, are attributable to IBM Skills Network's version of the **Hands-on Lab : INSERT, UPDATE, DELETE** written for [Datasette](https://github.com/simonw/datasette).\n",
        "\n",
        "\n",
        "| Date (YYYY-MM-DD) | Version | Changed By    | Change Description        |\n",
        "| ----------------- | ------- | ------------- | ------------------------- |\n",
        "|2024-05-xy|2.0|Martin Borja|Ported to Jupyter/Python Notebooks|\n",
        "|2023-07-11| 1.6| Lakshmi Holla| Updated labs|\n",
        "|2023-05-11| 1.6| Eric Hao & Vladislav Boyko| Updated Page Frames|\n",
        "|2023-05-10| 1.5| Eric Hao & Vladislav Boyko| Updated Page Frames|\n",
        "|2023-05-05| 1.4| Benny Li| Republished|\n",
        "|2022-08-03| 1.3| Sathya Priya| updated HTML tag|\n",
        "|2022-07-27| 1.2| Lakshmi Holla| updated HTML tag|\n",
        "|2020-12-23| 1.1| Steve Ryan| ID Review|\n",
        "|2020-11-30| 1.0| Sandip Saha Joy| Initial version created|\n",
        "\n",
        "<hr>\n",
        "\n",
        "### <h4 align=\"center\"> **Hands-on Lab : INSERT, UPDATE, DELETE** © IBM Corporation 2023. All rights reserved. <h4/>\n",
        "### <h4 align=\"center\"> **INSERT, UPDATE, DELETE in SQL using Jupyter Notebooks** © Martin John Hilario Borja 2024. All rights reserved. <h4/>\n",
        "\n",
        "<p>"
      ],
      "metadata": {
        "id": "H8Gkw3ykGwg4"
      }
    }
  ]
}