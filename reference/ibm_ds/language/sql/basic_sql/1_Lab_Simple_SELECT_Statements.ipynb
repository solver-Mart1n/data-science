{
  "nbformat": 4,
  "nbformat_minor": 0,
  "metadata": {
    "colab": {
      "provenance": [],
      "toc_visible": true,
      "include_colab_link": true
    },
    "kernelspec": {
      "name": "python3",
      "display_name": "Python 3"
    },
    "language_info": {
      "name": "python"
    }
  },
  "cells": [
    {
      "cell_type": "markdown",
      "metadata": {
        "id": "view-in-github",
        "colab_type": "text"
      },
      "source": [
        "<a href=\"https://colab.research.google.com/github/solver-Mart1n/data-science/blob/solver-Mart1n-c06w1p2-basic-sql/reference/ibm_ds/language/sql/basic_sql/1_Lab_Simple_SELECT_Statements.ipynb\" target=\"_parent\"><img src=\"https://colab.research.google.com/assets/colab-badge.svg\" alt=\"Open In Colab\"/></a>"
      ]
    },
    {
      "cell_type": "markdown",
      "source": [
        "<h1> Simple SELECT Statements in SQL using Jupyter Notebooks </h1>"
      ],
      "metadata": {
        "id": "o4aQl-JmexpI"
      }
    },
    {
      "cell_type": "markdown",
      "source": [
        "## Description\n",
        "In this lab, you will learn one of the most commonly used statements of SQL (Structured Query Language), the SELECT statement. The SELECT statement is used to select data from a database."
      ],
      "metadata": {
        "id": "x-XgP-DFfK6_"
      }
    },
    {
      "cell_type": "markdown",
      "source": [
        "<h3>Objectives<h3>\n",
        "<h4> After completing this lab, you will be able to: </h4>\n",
        "\n",
        "\n",
        "*   Query a database to obtain a response as a result set\n",
        "*   Retrieve all or selected columns of a dataset\n",
        "*   Apply criteria commands to filter the result set\n",
        "\n",
        "\n",
        "\n"
      ],
      "metadata": {
        "id": "DQicyMorshve"
      }
    },
    {
      "cell_type": "markdown",
      "source": [
        "<h3>Table of Contents</h3>\n",
        "    <ul>\n",
        "        <li>Building the Database from an Internet Source</li>\n",
        "        <li>Exploring the Database</li>\n",
        "        <li>Using SELECT Statement</li>\n",
        "        <li>Practice Exercises on the SELECT Statement</li>\n",
        "    </ul>"
      ],
      "metadata": {
        "id": "y34wHBX2fZA3"
      }
    },
    {
      "cell_type": "markdown",
      "source": [
        "<p>Estimated Time Needed: <strong>30 min</strong></p>\n",
        "<hr>"
      ],
      "metadata": {
        "id": "Z1DJDVeJtPwv"
      }
    },
    {
      "cell_type": "markdown",
      "source": [
        "## Building the Database from an Internet Source\n",
        "The database used in this lab comes from the following dataset source: [Film Locations in San Francisco](https://data.sfgov.org/Culture-and-Recreation/Film-Locations-in-San-Francisco/yitu-d5am/about_data) under a [PDDL: Public Domain Dedication and License](http://opendatacommons.org/licenses/pddl/1.0/)."
      ],
      "metadata": {
        "id": "f2yCwyTwh15o"
      }
    },
    {
      "cell_type": "markdown",
      "source": [
        "### Ingesting a CSV from a Data Source Endpoint\n",
        "Three API parameters are used on top of the base URL for the data source. This data paging is in compliance with the row limit of the endpoint API."
      ],
      "metadata": {
        "id": "G3D-hoEUFBD_"
      }
    },
    {
      "cell_type": "code",
      "source": [
        "url1 = 'https://data.sfgov.org/resource/yitu-d5am.csv?$limit=1000&$offset=0'\n",
        "url2 = 'https://data.sfgov.org/resource/yitu-d5am.csv?$limit=1000&$offset=999'\n",
        "url3 = 'https://data.sfgov.org/resource/yitu-d5am.csv?$limit=49&$offset=1999'"
      ],
      "metadata": {
        "id": "POGujTivL96g"
      },
      "execution_count": null,
      "outputs": []
    },
    {
      "cell_type": "markdown",
      "source": [
        "The three will be ingested as data frames and combined into one. And this will be used to generate a CSV."
      ],
      "metadata": {
        "id": "XE8BZ_UDFnmW"
      }
    },
    {
      "cell_type": "code",
      "source": [
        "!pip install pandas==1.3.3"
      ],
      "metadata": {
        "id": "D1u6wOWnOtlw"
      },
      "execution_count": null,
      "outputs": []
    },
    {
      "cell_type": "code",
      "source": [
        "import pandas as pd"
      ],
      "metadata": {
        "id": "a0JD-zfcZ-Wn"
      },
      "execution_count": null,
      "outputs": []
    },
    {
      "cell_type": "code",
      "source": [
        "# Read the dataset from a csv file\n",
        "df1 = pd.read_csv(url1, header=0, sep=\",\")\n",
        "\n",
        "# Display the first few rows of the DataFrame\n",
        "df1.tail()"
      ],
      "metadata": {
        "id": "Va47-jchaEfP"
      },
      "execution_count": null,
      "outputs": []
    },
    {
      "cell_type": "code",
      "source": [
        "# Read the dataset from a csv file\n",
        "df2 = pd.read_csv(url2, header=0, sep=\",\")\n",
        "\n",
        "# Display the first few rows of the DataFrame\n",
        "df2.head()"
      ],
      "metadata": {
        "id": "ZcriUyYKaD8n"
      },
      "execution_count": null,
      "outputs": []
    },
    {
      "cell_type": "code",
      "source": [
        "df2.tail()"
      ],
      "metadata": {
        "id": "zqkwor1FaZEn"
      },
      "execution_count": null,
      "outputs": []
    },
    {
      "cell_type": "code",
      "execution_count": null,
      "metadata": {
        "id": "OJMBfjeoIwOO"
      },
      "outputs": [],
      "source": [
        "# Read the dataset from a csv file\n",
        "df3 = pd.read_csv(url3, header=0, sep=\",\")\n",
        "\n",
        "# Display the first few rows of the DataFrame\n",
        "df3.head()"
      ]
    },
    {
      "cell_type": "code",
      "source": [
        "df3.tail()"
      ],
      "metadata": {
        "id": "4eGhwaqOaf2I"
      },
      "execution_count": null,
      "outputs": []
    },
    {
      "cell_type": "markdown",
      "source": [
        "Visible from the tail() and head() print outs of the three data frames, indices start from 0 each time a CSV is loaded. The \"ignore_index\" attribute of the data frame append() function is set to _True_ in order to avoid copying repeating indices to the aggregated data frame."
      ],
      "metadata": {
        "id": "aXRNwLZBi0ew"
      }
    },
    {
      "cell_type": "code",
      "source": [
        "df = df1.append(df2,ignore_index=True)\n",
        "df = df.append(df3,ignore_index=True)\n",
        "len(df)"
      ],
      "metadata": {
        "id": "ZvjOy3rJMM7b"
      },
      "execution_count": null,
      "outputs": []
    },
    {
      "cell_type": "code",
      "source": [
        "df.columns"
      ],
      "metadata": {
        "id": "pQqVuNist5Mh"
      },
      "execution_count": null,
      "outputs": []
    },
    {
      "cell_type": "code",
      "source": [
        "df.drop(columns=[':@computed_region_6qbp_sg9q', ':@computed_region_ajp5_b2md', ':@computed_region_26cr_cadq'],inplace=True)"
      ],
      "metadata": {
        "id": "RkRkonVJt9wK"
      },
      "execution_count": null,
      "outputs": []
    },
    {
      "cell_type": "code",
      "source": [
        "df.set_axis(['Title', 'ReleaseYear', 'Locations', 'FunFacts', 'ProductionCompany', 'Distributor', 'Director', 'Writer', 'Actor1', 'Actor2', 'Actor3'], axis='columns', inplace=True)"
      ],
      "metadata": {
        "id": "N8H6IVnitNWA"
      },
      "execution_count": null,
      "outputs": []
    },
    {
      "cell_type": "markdown",
      "source": [
        "As a result, the index labels of the combined data frame starts from 0 and ends with 2048. This indicates a successful merge of the pages of data from the [Data SF](https://data.sfgov.org/resource/yitu-d5am.csv) source URL."
      ],
      "metadata": {
        "id": "DGwUqI8rj483"
      }
    },
    {
      "cell_type": "code",
      "source": [
        "df"
      ],
      "metadata": {
        "id": "fUDogcf9MaXi"
      },
      "execution_count": null,
      "outputs": []
    },
    {
      "cell_type": "markdown",
      "source": [
        "Store the combined data frame into one CSV file."
      ],
      "metadata": {
        "id": "udbdNGE7k8HY"
      }
    },
    {
      "cell_type": "code",
      "source": [
        "df.to_csv('san_francisco_film_locations.csv', index=False)"
      ],
      "metadata": {
        "id": "oI05szhNPAZa"
      },
      "execution_count": null,
      "outputs": []
    },
    {
      "cell_type": "markdown",
      "source": [
        "### Create an SQL Database from the Pandas Data Frame"
      ],
      "metadata": {
        "id": "UL5PuQslcgJ_"
      }
    },
    {
      "cell_type": "markdown",
      "source": [
        "#### Option 1: Using Duck DB\n",
        "You can create a duck database using a CSV file and the **CREATE OR REPLACE TABLE** and **AS FROM** directives with the _read_csv_auto()_ method."
      ],
      "metadata": {
        "id": "YovWuxg2pvqB"
      }
    },
    {
      "cell_type": "code",
      "source": [
        "%pip install jupysql --upgrade duckdb-engine --quiet"
      ],
      "metadata": {
        "id": "ltyD2GRhcaEa"
      },
      "execution_count": null,
      "outputs": []
    },
    {
      "cell_type": "code",
      "source": [
        "%reload_ext sql"
      ],
      "metadata": {
        "id": "gsrXgMHBqMYY"
      },
      "execution_count": null,
      "outputs": []
    },
    {
      "cell_type": "code",
      "source": [
        "%sql duckdb:///san_francisco_film_locations.duck.db"
      ],
      "metadata": {
        "id": "8oDtpypYc9Hp"
      },
      "execution_count": null,
      "outputs": []
    },
    {
      "cell_type": "code",
      "source": [
        "%%sql\n",
        "CREATE OR REPLACE TABLE san_francisco_film_locations AS\n",
        "FROM read_csv_auto('san_francisco_film_locations.csv', header=True, sep=',')"
      ],
      "metadata": {
        "id": "DGfmcNzLdRN5"
      },
      "execution_count": null,
      "outputs": []
    },
    {
      "cell_type": "markdown",
      "source": [
        "Proceed to the section: Exploring the Database"
      ],
      "metadata": {
        "id": "Gg1j1oHrr44o"
      }
    },
    {
      "cell_type": "markdown",
      "source": [
        "#### Option 2: Using SQL Alchemy"
      ],
      "metadata": {
        "id": "ygHQXaYcp4Xo"
      }
    },
    {
      "cell_type": "code",
      "source": [
        "import sqlite3 as sq3"
      ],
      "metadata": {
        "id": "eO9AXdIsbu3y"
      },
      "execution_count": null,
      "outputs": []
    },
    {
      "cell_type": "code",
      "source": [
        "conn = sq3.connect('san_francisco_film_locations.db')\n",
        "#df.to_sql('san_francisco_film_locations', conn, if_exists='append', index=False)\n",
        "df.to_sql('san_francisco_film_locations', conn, if_exists='replace', index=False)"
      ],
      "metadata": {
        "id": "GL1y7pZWcAPO"
      },
      "execution_count": null,
      "outputs": []
    },
    {
      "cell_type": "code",
      "source": [
        "!pip install sqlalchemy"
      ],
      "metadata": {
        "id": "-RG-CjAVl4Cy"
      },
      "execution_count": null,
      "outputs": []
    },
    {
      "cell_type": "code",
      "source": [
        "%reload_ext sql"
      ],
      "metadata": {
        "id": "IZ127wvWc4X6"
      },
      "execution_count": null,
      "outputs": []
    },
    {
      "cell_type": "code",
      "source": [
        "%sql sqlite:///san_francisco_film_locations.db"
      ],
      "metadata": {
        "id": "z3cYwni_lXzo"
      },
      "execution_count": null,
      "outputs": []
    },
    {
      "cell_type": "markdown",
      "source": [
        "## Exploring the Database\n",
        "Now that we have a database. We can start exploring it through the _SELECT_ command. _FROM_ specifies the database to query. And the '*' specifies all its contents.\n",
        "\n",
        "A value of 5 passed to the _LIMIT_ command limits the print out to only 5 records."
      ],
      "metadata": {
        "id": "L-69ZjwLrLWw"
      }
    },
    {
      "cell_type": "code",
      "source": [
        "%%sql\n",
        "SELECT *\n",
        "FROM san_francisco_film_locations\n",
        "LIMIT 5"
      ],
      "metadata": {
        "id": "RnzkL7y9eNvg"
      },
      "execution_count": null,
      "outputs": []
    },
    {
      "cell_type": "markdown",
      "source": [
        "These are the column attribute descriptions from the **san_francisco_film_locations** table:\n",
        "\n",
        "|Column|Description|\n",
        "|---|---|\n",
        "|   Title| titles of the films|\n",
        "|   ReleaseYear| time of public release of the films|\n",
        "|   Locations| locations of San Francisco where the films were shot|\n",
        "|   FunFacts| funny facts about the filming locations|\n",
        "|   ProductionCompany| companies who produced the films|\n",
        "|   Distributor| companies who distributed the films|\n",
        "|   Director| people who directed the films|\n",
        "|   Writer| people who wrote the films|\n",
        "|   Actor1| person 1 who acted in the films|\n",
        "|   Actor2| person 2 who acted in the films|\n",
        "|   Actor3| person 3 who acted in the films|\n",
        "\n",
        "\n",
        "\n",
        "\n"
      ],
      "metadata": {
        "id": "V4TPPbh1MKCv"
      }
    },
    {
      "cell_type": "markdown",
      "source": [
        "## Using SELECT Statement\n",
        "Now, let's go through some examples of SELECT queries.\n",
        "1. Suppose we want to retrieve details of all the films from the san_francisco_film_locations table. The details of each film record should contain all the columns. The query statement for this is:\n"
      ],
      "metadata": {
        "id": "0HPmxCJfHxpX"
      }
    },
    {
      "cell_type": "code",
      "source": [
        "%%sql\n",
        "SELECT *\n",
        "FROM san_francisco_film_locations"
      ],
      "metadata": {
        "id": "Oa2HKvmGH18u"
      },
      "execution_count": null,
      "outputs": []
    },
    {
      "cell_type": "markdown",
      "source": [
        "2. We want to retrieve the film names and director and writer names. The query now would be:"
      ],
      "metadata": {
        "id": "SJzVyZ5QOUEP"
      }
    },
    {
      "cell_type": "code",
      "source": [
        "%%sql\n",
        "SELECT Title, Director, Writer\n",
        "FROM san_francisco_film_locations"
      ],
      "metadata": {
        "id": "QuP1u3vTIMnv"
      },
      "execution_count": null,
      "outputs": []
    },
    {
      "cell_type": "markdown",
      "source": [
        "3. We want to retrieve film names along with filming locations and release years. But we also want to restrict the output resultset to retrieve only the film records released in 2001 and onwards (release years after 2001,\n",
        "including 2001)."
      ],
      "metadata": {
        "id": "uspto4xiOWqu"
      }
    },
    {
      "cell_type": "code",
      "source": [
        "%%sql\n",
        "SELECT Title, ReleaseYear, Locations\n",
        "FROM san_francisco_film_locations\n",
        "WHERE ReleaseYear>=2001"
      ],
      "metadata": {
        "id": "_CNH7qXuIV4h"
      },
      "execution_count": null,
      "outputs": []
    },
    {
      "cell_type": "markdown",
      "source": [
        "## Practice Exercises on the SELECT Statement"
      ],
      "metadata": {
        "id": "jsdtHR0LH2rX"
      }
    },
    {
      "cell_type": "markdown",
      "source": [
        "1. Retrieve the fun facts and filming locations of all films.\n",
        "\n",
        "<details><summary>Click here if you need help locating the table</summary>\n",
        "\n",
        "```\n",
        "Follow example 2 of SELECT, where records containing details of some particular columns have been retrieved.\n",
        "```\n",
        "\n",
        "</details>"
      ],
      "metadata": {
        "id": "3bRWJGqAOa6f"
      }
    },
    {
      "cell_type": "markdown",
      "source": [
        "<details><summary>Click here for the solution</summary>\n",
        "\n",
        "```\n",
        " %%sql\n",
        " SELECT Locations, FunFacts\n",
        " FROM san_francisco_film_locations\n",
        "```\n",
        "\n",
        "</details>"
      ],
      "metadata": {
        "id": "RsNveWvbPzZv"
      }
    },
    {
      "cell_type": "code",
      "source": [],
      "metadata": {
        "id": "kW6g-sIBH97f"
      },
      "execution_count": null,
      "outputs": []
    },
    {
      "cell_type": "markdown",
      "source": [
        "2. Retrieve the names of all films released in the 20th century and before (release years before 2000 including 2000), along with filming locations and release years."
      ],
      "metadata": {
        "id": "E85x8v-1O73u"
      }
    },
    {
      "cell_type": "markdown",
      "source": [
        "<details><summary>Click here if you need help locating the table</summary>\n",
        "\n",
        "```\n",
        "Follow example 3 of SELECT, where we restricted the output resultset to retrieve only the film records with certain release years. Use WHERE clause comparison operator <=, which means Less than or equal to.\n",
        "```\n",
        "\n",
        "</details>"
      ],
      "metadata": {
        "id": "8Ubh-KpkPcd3"
      }
    },
    {
      "cell_type": "markdown",
      "source": [
        "<details><summary>Click here for the solution</summary>\n",
        "\n",
        "```\n",
        "%%sql\n",
        "SELECT Title, ReleaseYear, Locations\n",
        "FROM san_francisco_film_locations\n",
        "WHERE ReleaseYear<=2000\n",
        "```\n",
        "\n",
        "</details>"
      ],
      "metadata": {
        "id": "t4YCx_HWPiLI"
      }
    },
    {
      "cell_type": "code",
      "source": [],
      "metadata": {
        "id": "qAB3T8SAIukW"
      },
      "execution_count": null,
      "outputs": []
    },
    {
      "cell_type": "markdown",
      "source": [
        "3. Retrieve the names, production company names, filming locations, and release years of the films not written by James Cameron."
      ],
      "metadata": {
        "id": "BIkTaQDQP_y5"
      }
    },
    {
      "cell_type": "markdown",
      "source": [
        "<details><summary>Click for a Hint</summary>\n",
        "\n",
        "```\n",
        "Use WHERE clause comparison operator <>, which means Not equal to.\n",
        "```\n",
        "\n",
        "</details>"
      ],
      "metadata": {
        "id": "7jm-EYI_QB53"
      }
    },
    {
      "cell_type": "markdown",
      "source": [
        "<details><summary>Click here for the solution</summary>\n",
        "\n",
        "```\n",
        "%%sql\n",
        "SELECT Title, ProductionCompany, Locations, ReleaseYear\n",
        "FROM san_francisco_film_locations\n",
        "WHERE Writer<>\"James Cameron\"\n",
        "```\n",
        "\n",
        "</details>"
      ],
      "metadata": {
        "id": "YhyN8c4VQTBO"
      }
    },
    {
      "cell_type": "code",
      "source": [],
      "metadata": {
        "id": "PcMcTsiaI6dO"
      },
      "execution_count": null,
      "outputs": []
    },
    {
      "cell_type": "markdown",
      "source": [
        "## Conclusion\n",
        "Congratulations on completing this lab!\n",
        "You are now able to:\n",
        "\n",
        "*   Build a database from Internet sources\n",
        "*   Query a database using SELECT statements\n",
        "*   Retrieve all or selected columns of data\n",
        "*   Filter the query response to meet a defined criteria\n"
      ],
      "metadata": {
        "id": "7mPnTmPrJG-m"
      }
    },
    {
      "cell_type": "markdown",
      "source": [
        "## Credit to the Source Content\n",
        "This python notebook uses the content of **Hands-on Lab: Simple SELECT Statements** by IBM Skills Network from the [Databases and SQL for Data Science with Python](https://www.coursera.org/learn/sql-data-science) course. The source content uses a different platform, [Datasette](https://github.com/simonw/datasette), which does not utilize Jupyter notebooks.\n"
      ],
      "metadata": {
        "id": "zw-F8LUq9wiV"
      }
    },
    {
      "cell_type": "markdown",
      "source": [
        "### Change Log\n",
        "All versions prior to 2.0, are attributable to IBM Skills Network's version of the **Hands-on Lab: Simple SELECT Statements** written for [Datasette](https://github.com/simonw/datasette).\n",
        "\n",
        "\n",
        "| Date (YYYY-MM-DD) | Version | Changed By    | Change Description        |\n",
        "| ----------------- | ------- | ------------- | ------------------------- |\n",
        "|2024-05-05|2.0|Martin Borja|Ported to Jupyter/Python Notebooks|\n",
        "| 2023-10-12 | 1.9 |Mercedes Schneider| QA Pass w/Edits|\n",
        "|2023-10-11 |1.8 |Misty Taylor| ID Check|\n",
        "|2023-10-01 |1.7 |Abhishek Gagneja |Updated Lab instructions|\n",
        "|2023-07-11 |1.6 |Lakshmi Holla |Updated labs|\n",
        "|2023-06-02 |1.5 |Eric Hao |Fixed Page Styles|\n",
        "|2023-05-10 |1.4 |Eric Hao & Vladislav Boyko| Updated Page Frames|\n",
        "|2023-05-04 |1.3 |Benny Li| Republished|\n",
        "|2022-07-27 |1.2 |Lakshmi Holla| Updated html tag|\n",
        "|2020-11-23 |1.1 |Steve Ryan |ID Review|\n",
        "|2020-11-20 |1.0| Sandip Saha Joy| Initial version created|\n",
        "\n",
        "<hr>\n",
        "\n",
        "### <h4 align=\"center\"> **Hands-on Lab: Simple SELECT Statements** © IBM Corporation 2020. All rights reserved. <h4/>\n",
        "### <h4 align=\"center\"> **Simple SELECT Statements in SQL using Jupyter Notebooks** © Martin John Hilario Borja 2024. All rights reserved. <h4/>\n",
        "\n",
        "<p>"
      ],
      "metadata": {
        "id": "H8Gkw3ykGwg4"
      }
    }
  ]
}