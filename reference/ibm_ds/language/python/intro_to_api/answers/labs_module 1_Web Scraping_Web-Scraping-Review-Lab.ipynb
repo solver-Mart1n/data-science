{
  "cells": [
    {
      "cell_type": "markdown",
      "metadata": {
        "id": "view-in-github",
        "colab_type": "text"
      },
      "source": [
        "<a href=\"https://colab.research.google.com/github/solver-Mart1n/data-science/blob/main/reference/ibm_ds/language/python/intro_to_api/answers/labs_module%201_Web%20Scraping_Web-Scraping-Review-Lab.ipynb\" target=\"_parent\"><img src=\"https://colab.research.google.com/assets/colab-badge.svg\" alt=\"Open In Colab\"/></a>"
      ]
    },
    {
      "cell_type": "markdown",
      "metadata": {
        "id": "af222e8d-5553-4de9-bf9c-6c9b646178e3"
      },
      "source": [
        "<center>\n",
        "    <img src=\"https://cf-courses-data.s3.us.cloud-object-storage.appdomain.cloud/IBMDeveloperSkillsNetwork-PY0101EN-SkillsNetwork/IDSNlogo.png\" width=\"300\" alt=\"cognitiveclass.ai logo\">\n",
        "</center>\n"
      ]
    },
    {
      "cell_type": "markdown",
      "metadata": {
        "id": "3cbc0686-7fe0-4267-85c5-78ff82364eb2"
      },
      "source": [
        "# **Web Scraping Lab**\n"
      ]
    },
    {
      "cell_type": "markdown",
      "metadata": {
        "id": "b1ae61d9-c65f-42db-bf6d-a1fc8dd157ba"
      },
      "source": [
        "Estimated time needed: **40** minutes\n"
      ]
    },
    {
      "cell_type": "markdown",
      "metadata": {
        "id": "fbfc663d-9cb5-4667-9dbd-9b586c55deef"
      },
      "source": [
        "## Objectives\n"
      ]
    },
    {
      "cell_type": "markdown",
      "metadata": {
        "id": "fbb8656d-a897-4079-bf3a-6fbcc2c19112"
      },
      "source": [
        "After completing this lab you will be:\n",
        "\n",
        "*   Familiar with the basics of the `BeautifulSoup` Python library\n",
        "*   Be able to scrape webpages for data and filter the data\n"
      ]
    },
    {
      "cell_type": "markdown",
      "metadata": {
        "id": "c8b792ec-4d59-4230-8476-bdbe52ff931c"
      },
      "source": [
        "<h2>Table of Contents</h2>\n",
        "<div class=\"alert alert-block alert-info\" style=\"margin-top: 20px\">\n",
        "    <ul>\n",
        "        <li>\n",
        "            <a href=\"#Beautiful-Soup-Object\">Beautiful Soup Object</a>\n",
        "            <ul>\n",
        "                <li><a href=\"#Tags\">Tags</a></li>\n",
        "                <li><a href=\"#Children,-Parents,-and-Siblings\">Children, Parents, and Siblings</a></li>\n",
        "                <li><a href=\"#HTML-Attributes\">HTML Attributes</a></li>\n",
        "                <li><a href=\"#Navigable-String\">Navigable String</a></li>\n",
        "            </ul>\n",
        "        </li>\n",
        "     </ul>\n",
        "    <ul>\n",
        "        <li>\n",
        "            <a href=\"#Filter\">Filter</a>\n",
        "            <ul>\n",
        "                <li><a href=\"#find_All\">find_All</a></li>\n",
        "                <li><a href=\"#find\">find</a></li>\n",
        "            </ul>\n",
        "        </li>\n",
        "     </ul>\n",
        "     <ul>\n",
        "        <li>\n",
        "            <a href=\"#Downloading-And-Scraping-The-Contents-Of-A-Web-Page\">Downloading And Scraping The Contents Of A Web Page</a></li>\n",
        "         <li> <a href=\"#Scraping-tables-from-a-Web-page-using-Pandas\">Scraping tables from a Web page using Pandas</a></li>\n",
        "    </ul>\n",
        "\n",
        "</div>\n",
        "\n",
        "<hr>\n"
      ]
    },
    {
      "cell_type": "markdown",
      "metadata": {
        "id": "7da0b671-9209-4440-90e6-730d53bde85e"
      },
      "source": [
        "For this lab, we are going to be using Python and several Python libraries. Some of these libraries might be installed in your lab environment or in SN Labs. Others may need to be installed by you. The cells below will install these libraries when executed.\n"
      ]
    },
    {
      "cell_type": "code",
      "metadata": {
        "id": "d2751dac-8a35-4d3f-a3c0-c3e1cfa6090f",
        "outputId": "64ca9928-4acb-42c0-db2b-6ce4e7f6acab",
        "colab": {
          "base_uri": "https://localhost:8080/"
        }
      },
      "outputs": [
        {
          "output_type": "stream",
          "name": "stdout",
          "text": [
            "Requirement already satisfied: html5lib in /usr/local/lib/python3.10/dist-packages (1.1)\n",
            "Requirement already satisfied: six>=1.9 in /usr/local/lib/python3.10/dist-packages (from html5lib) (1.16.0)\n",
            "Requirement already satisfied: webencodings in /usr/local/lib/python3.10/dist-packages (from html5lib) (0.5.1)\n"
          ]
        }
      ],
      "source": [
        "!pip install html5lib"
      ],
      "execution_count": 1
    },
    {
      "cell_type": "markdown",
      "metadata": {
        "id": "6b57a39e-e654-42ba-b31e-dfd0f7997f03"
      },
      "source": [
        "**Note:- After running the above code cell, restart the kernel and don't run the above code cell after restarting the kernel.**\n"
      ]
    },
    {
      "cell_type": "code",
      "metadata": {
        "id": "78539817-bb83-4dff-9949-8a6afd60028e",
        "outputId": "e48f9384-bb0e-497c-e346-59bed7dd6915",
        "colab": {
          "base_uri": "https://localhost:8080/"
        }
      },
      "outputs": [
        {
          "output_type": "stream",
          "name": "stdout",
          "text": [
            "Collecting bs4\n",
            "  Downloading bs4-0.0.2-py2.py3-none-any.whl (1.2 kB)\n",
            "Requirement already satisfied: beautifulsoup4 in /usr/local/lib/python3.10/dist-packages (from bs4) (4.12.3)\n",
            "Requirement already satisfied: soupsieve>1.2 in /usr/local/lib/python3.10/dist-packages (from beautifulsoup4->bs4) (2.5)\n",
            "Installing collected packages: bs4\n",
            "Successfully installed bs4-0.0.2\n"
          ]
        }
      ],
      "source": [
        "# !pip install requests\n",
        "!pip install bs4"
      ],
      "execution_count": 2
    },
    {
      "cell_type": "markdown",
      "metadata": {
        "id": "890fc740-0db7-4a05-88e0-d3a060776b5d"
      },
      "source": [
        "Import the required modules and functions\n"
      ]
    },
    {
      "cell_type": "code",
      "metadata": {
        "id": "ffe406c5-75e9-4e37-aaba-6f65b4978916"
      },
      "outputs": [],
      "source": [
        "from bs4 import BeautifulSoup # this module helps in web scrapping.\n",
        "import requests  # this module helps us to download a web page"
      ],
      "execution_count": 3
    },
    {
      "cell_type": "markdown",
      "metadata": {
        "id": "7d91daac-01d7-4930-9d50-bbe99dc91f6b"
      },
      "source": [
        "## Beautiful Soup Object\n"
      ]
    },
    {
      "cell_type": "markdown",
      "metadata": {
        "id": "cbbc289b-8ac1-41cf-9798-02abfb15b447"
      },
      "source": [
        "Beautiful Soup is a Python library for pulling data out of HTML and XML files, we will focus on HTML files. This is accomplished by representing the HTML as a set of objects with methods used to parse the HTML.  We can navigate the HTML as a tree, and/or filter out what we are looking for.\n",
        "\n",
        "Consider the following HTML:\n"
      ]
    },
    {
      "cell_type": "code",
      "metadata": {
        "id": "29c28100-635c-4f9d-9abd-e6c48835187e",
        "outputId": "ae547c5e-27c7-47a8-fa3d-6a1647d64eb4",
        "colab": {
          "base_uri": "https://localhost:8080/",
          "height": 203
        }
      },
      "outputs": [
        {
          "output_type": "display_data",
          "data": {
            "text/plain": [
              "<IPython.core.display.HTML object>"
            ],
            "text/html": [
              "<!DOCTYPE html>\n",
              "<html>\n",
              "<head>\n",
              "<title>Page Title</title>\n",
              "</head>\n",
              "<body>\n",
              "<h3><b id='boldest'>Lebron James</b></h3>\n",
              "<p> Salary: $ 92,000,000 </p>\n",
              "<h3> Stephen Curry</h3>\n",
              "<p> Salary: $85,000, 000 </p>\n",
              "<h3> Kevin Durant </h3>\n",
              "<p> Salary: $73,200, 000</p>\n",
              "</body>\n",
              "</html>\n"
            ]
          },
          "metadata": {}
        }
      ],
      "source": [
        "%%html\n",
        "<!DOCTYPE html>\n",
        "<html>\n",
        "<head>\n",
        "<title>Page Title</title>\n",
        "</head>\n",
        "<body>\n",
        "<h3><b id='boldest'>Lebron James</b></h3>\n",
        "<p> Salary: $ 92,000,000 </p>\n",
        "<h3> Stephen Curry</h3>\n",
        "<p> Salary: $85,000, 000 </p>\n",
        "<h3> Kevin Durant </h3>\n",
        "<p> Salary: $73,200, 000</p>\n",
        "</body>\n",
        "</html>"
      ],
      "execution_count": 4
    },
    {
      "cell_type": "markdown",
      "metadata": {
        "id": "af52e898-ead6-4b90-9937-141716530c50"
      },
      "source": [
        "We can store it as a string in the variable HTML:\n"
      ]
    },
    {
      "cell_type": "code",
      "metadata": {
        "id": "36823593-faf7-4efc-a6a8-c65f73e25122"
      },
      "outputs": [],
      "source": [
        "html = \"<!DOCTYPE html><html><head><title>Page Title</title></head><body><h3> \\\n",
        "<b id='boldest'>Lebron James</b></h3><p> Salary: $ 92,000,000 </p> \\\n",
        "<h3>Stephen Curry</h3><p> Salary: $85,000,000</p> \\\n",
        "<h3>Kevin Durant</h3><p> Salary: $73,200,000</p></body></html>\""
      ],
      "execution_count": 5
    },
    {
      "cell_type": "markdown",
      "metadata": {
        "id": "00c12646-e3c4-457a-833d-ef6473e0d2cc"
      },
      "source": [
        "To parse a document, pass it into the <code>BeautifulSoup</code> constructor. The <code>BeautifulSoup</code> object represents the document as a nested data structure:\n"
      ]
    },
    {
      "cell_type": "code",
      "metadata": {
        "id": "46448d3f-2c41-4a32-bffb-8b07336bdc62"
      },
      "outputs": [],
      "source": [
        "soup = BeautifulSoup(html, 'html5lib')"
      ],
      "execution_count": 6
    },
    {
      "cell_type": "markdown",
      "metadata": {
        "id": "dfce93c7-1f00-47a4-b9ad-6b54a92657b9"
      },
      "source": [
        "First, the document is converted to Unicode (similar to ASCII) and HTML entities are converted to Unicode characters. Beautiful Soup transforms a complex HTML document into a complex tree of Python objects. The <code>BeautifulSoup</code> object can create other types of objects. In this lab, we will cover <code>BeautifulSoup</code> and <code>Tag</code> objects, that for the purposes of this lab are identical. Finally, we will look at <code>NavigableString</code> objects.\n"
      ]
    },
    {
      "cell_type": "markdown",
      "metadata": {
        "id": "c91dfe6a-9b39-48b6-8bf2-4c2079e13142"
      },
      "source": [
        "We can use the method <code>prettify()</code> to display the HTML in the nested structure:\n"
      ]
    },
    {
      "cell_type": "code",
      "metadata": {
        "id": "55d7c237-ee6a-41ac-9cd4-530b43b53477",
        "outputId": "5aafab8e-02f6-4891-d4b5-ada1f6fad2e1",
        "colab": {
          "base_uri": "https://localhost:8080/"
        }
      },
      "outputs": [
        {
          "output_type": "stream",
          "name": "stdout",
          "text": [
            "<!DOCTYPE html>\n",
            "<html>\n",
            " <head>\n",
            "  <title>\n",
            "   Page Title\n",
            "  </title>\n",
            " </head>\n",
            " <body>\n",
            "  <h3>\n",
            "   <b id=\"boldest\">\n",
            "    Lebron James\n",
            "   </b>\n",
            "  </h3>\n",
            "  <p>\n",
            "   Salary: $ 92,000,000\n",
            "  </p>\n",
            "  <h3>\n",
            "   Stephen Curry\n",
            "  </h3>\n",
            "  <p>\n",
            "   Salary: $85,000,000\n",
            "  </p>\n",
            "  <h3>\n",
            "   Kevin Durant\n",
            "  </h3>\n",
            "  <p>\n",
            "   Salary: $73,200,000\n",
            "  </p>\n",
            " </body>\n",
            "</html>\n",
            "\n"
          ]
        }
      ],
      "source": [
        "print(soup.prettify())"
      ],
      "execution_count": 7
    },
    {
      "cell_type": "markdown",
      "metadata": {
        "id": "fd604e50-7406-4efe-84a8-6f5f7bf1ccc1"
      },
      "source": [
        "## Tags\n"
      ]
    },
    {
      "cell_type": "markdown",
      "metadata": {
        "id": "83006c4d-1d1d-41e3-9fc2-735952a47a61"
      },
      "source": [
        "Let's say we want the  title of the page and the name of the top paid player. We can use the <code>Tag</code>. The <code>Tag</code> object corresponds to an HTML tag in the original document, for example, the tag title.\n"
      ]
    },
    {
      "cell_type": "code",
      "metadata": {
        "id": "8f0a9956-330a-4b6f-b1ef-7f0dad12f14c",
        "outputId": "ce2c4f57-04e4-4d8e-c864-1bdca2905808",
        "colab": {
          "base_uri": "https://localhost:8080/"
        }
      },
      "outputs": [
        {
          "output_type": "stream",
          "name": "stdout",
          "text": [
            "tag object: <title>Page Title</title>\n"
          ]
        }
      ],
      "source": [
        "tag_object = soup.title\n",
        "print(\"tag object:\", tag_object)"
      ],
      "execution_count": 8
    },
    {
      "cell_type": "markdown",
      "metadata": {
        "id": "30c68af5-2f6a-44ac-85ee-4b44f1981573"
      },
      "source": [
        "we can see the tag type <code>bs4.element.Tag</code>\n"
      ]
    },
    {
      "cell_type": "code",
      "metadata": {
        "id": "8084df29-3570-404f-88d3-cd6a73c2629a",
        "outputId": "3cbfdadc-3fef-4b38-860d-efa2222ae7ef",
        "colab": {
          "base_uri": "https://localhost:8080/"
        }
      },
      "outputs": [
        {
          "output_type": "stream",
          "name": "stdout",
          "text": [
            "tag object type: <class 'bs4.element.Tag'>\n"
          ]
        }
      ],
      "source": [
        "print(\"tag object type:\", type(tag_object))"
      ],
      "execution_count": 9
    },
    {
      "cell_type": "markdown",
      "metadata": {
        "id": "f1c341b7-8678-4dd9-b418-3d528c83a5f0"
      },
      "source": [
        "If there is more than one <code>Tag</code> with the same name, the first element with that <code>Tag</code> name is called. This corresponds to the most paid player:\n"
      ]
    },
    {
      "cell_type": "code",
      "metadata": {
        "id": "2d7774f4-8d7b-420b-9667-d6022e5518e3",
        "outputId": "bf8f0a12-9404-4577-f0af-be84ce616eb9",
        "colab": {
          "base_uri": "https://localhost:8080/"
        }
      },
      "outputs": [
        {
          "output_type": "execute_result",
          "data": {
            "text/plain": [
              "<h3> <b id=\"boldest\">Lebron James</b></h3>"
            ]
          },
          "metadata": {},
          "execution_count": 10
        }
      ],
      "source": [
        "tag_object = soup.h3\n",
        "tag_object"
      ],
      "execution_count": 10
    },
    {
      "cell_type": "markdown",
      "metadata": {
        "id": "96affb1c-675a-4e97-a4ee-d1fb2f98c036"
      },
      "source": [
        "Enclosed in the bold attribute <code>b</code>, it helps to use the tree representation. We can navigate down the tree using the child attribute to get the name.\n"
      ]
    },
    {
      "cell_type": "markdown",
      "metadata": {
        "id": "7fcad643-f93f-46f6-bfbe-6190ffbe8da0"
      },
      "source": [
        "### Children, Parents, and Siblings\n"
      ]
    },
    {
      "cell_type": "markdown",
      "metadata": {
        "id": "fd38776d-57f8-47b1-9937-a0a50f5de475"
      },
      "source": [
        "As stated above, the <code>Tag</code> object is a tree of objects. We can access the child of the tag or navigate down the branch as follows:\n"
      ]
    },
    {
      "cell_type": "code",
      "metadata": {
        "id": "730b8265-53d0-4545-8bc9-c63ced7005fc",
        "outputId": "cc8a7c8d-51d6-46d1-abc5-64154d78fa2e",
        "colab": {
          "base_uri": "https://localhost:8080/"
        }
      },
      "outputs": [
        {
          "output_type": "execute_result",
          "data": {
            "text/plain": [
              "<b id=\"boldest\">Lebron James</b>"
            ]
          },
          "metadata": {},
          "execution_count": 11
        }
      ],
      "source": [
        "tag_child = tag_object.b\n",
        "tag_child"
      ],
      "execution_count": 11
    },
    {
      "cell_type": "markdown",
      "metadata": {
        "id": "08cbfd09-4b6a-4b70-814e-248e1255d630"
      },
      "source": [
        "You can access the parent with the <code>parent</code>.\n"
      ]
    },
    {
      "cell_type": "code",
      "metadata": {
        "id": "82612ebf-b38f-4f2a-a8b0-59f3c06a8481",
        "outputId": "73ff7853-8d68-4cbb-ba17-94fa9b6fdc4b",
        "colab": {
          "base_uri": "https://localhost:8080/"
        }
      },
      "outputs": [
        {
          "output_type": "execute_result",
          "data": {
            "text/plain": [
              "<h3> <b id=\"boldest\">Lebron James</b></h3>"
            ]
          },
          "metadata": {},
          "execution_count": 12
        }
      ],
      "source": [
        "parent_tag = tag_child.parent\n",
        "parent_tag"
      ],
      "execution_count": 12
    },
    {
      "cell_type": "markdown",
      "metadata": {
        "id": "0f2ab849-6a65-48e8-a89d-fb9c623a730e"
      },
      "source": [
        "this is identical to:\n"
      ]
    },
    {
      "cell_type": "code",
      "metadata": {
        "id": "f3def6b4-b78e-49de-8b23-e37559fb2140",
        "outputId": "dda485c6-05f8-4f67-c9ec-9d9da1160eb2",
        "colab": {
          "base_uri": "https://localhost:8080/"
        }
      },
      "outputs": [
        {
          "output_type": "execute_result",
          "data": {
            "text/plain": [
              "<h3> <b id=\"boldest\">Lebron James</b></h3>"
            ]
          },
          "metadata": {},
          "execution_count": 13
        }
      ],
      "source": [
        "tag_object"
      ],
      "execution_count": 13
    },
    {
      "cell_type": "markdown",
      "metadata": {
        "id": "f11abfaf-7f65-45d0-bb81-b737fe82e6a4"
      },
      "source": [
        "<code>tag_object</code> parent is the <code>body</code> element.\n"
      ]
    },
    {
      "cell_type": "code",
      "metadata": {
        "id": "f1969cce-f294-46e5-bc36-63be8c2ba758",
        "outputId": "2cdac1d0-8d63-4c2a-c8af-f0a27349eadb",
        "colab": {
          "base_uri": "https://localhost:8080/"
        }
      },
      "outputs": [
        {
          "output_type": "execute_result",
          "data": {
            "text/plain": [
              "<body><h3> <b id=\"boldest\">Lebron James</b></h3><p> Salary: $ 92,000,000 </p> <h3>Stephen Curry</h3><p> Salary: $85,000,000</p> <h3>Kevin Durant</h3><p> Salary: $73,200,000</p></body>"
            ]
          },
          "metadata": {},
          "execution_count": 14
        }
      ],
      "source": [
        "tag_object.parent"
      ],
      "execution_count": 14
    },
    {
      "cell_type": "markdown",
      "metadata": {
        "id": "65d13020-5cfa-410d-a244-a08fafc097f5"
      },
      "source": [
        "<code>tag_object</code> sibling is the <code>paragraph</code> element.\n"
      ]
    },
    {
      "cell_type": "code",
      "metadata": {
        "id": "1ed73fab-9032-447f-9718-7a661ebff2d1",
        "outputId": "1840f4ed-d5b1-4a80-cc73-17a068a07f4d",
        "colab": {
          "base_uri": "https://localhost:8080/"
        }
      },
      "outputs": [
        {
          "output_type": "execute_result",
          "data": {
            "text/plain": [
              "<p> Salary: $ 92,000,000 </p>"
            ]
          },
          "metadata": {},
          "execution_count": 15
        }
      ],
      "source": [
        "sibling_1 = tag_object.next_sibling\n",
        "sibling_1"
      ],
      "execution_count": 15
    },
    {
      "cell_type": "markdown",
      "metadata": {
        "id": "2dfd60e8-eebe-4cb7-9974-5e79fb2cc0dc"
      },
      "source": [
        "`sibling_2` is the `header` element, which is also a sibling of both `sibling_1` and `tag_object`\n"
      ]
    },
    {
      "cell_type": "code",
      "metadata": {
        "id": "b4b23351-854a-49c3-98bd-d76c50492d48",
        "outputId": "dad24357-d4f2-4a84-fee8-efad263c3d7c",
        "colab": {
          "base_uri": "https://localhost:8080/",
          "height": 35
        }
      },
      "outputs": [
        {
          "output_type": "execute_result",
          "data": {
            "text/plain": [
              "' '"
            ],
            "application/vnd.google.colaboratory.intrinsic+json": {
              "type": "string"
            }
          },
          "metadata": {},
          "execution_count": 16
        }
      ],
      "source": [
        "sibling_2 = sibling_1.next_sibling\n",
        "sibling_2"
      ],
      "execution_count": 16
    },
    {
      "cell_type": "markdown",
      "metadata": {
        "id": "786e4a71-5522-4268-9266-956b8e42e149"
      },
      "source": [
        "<h3 id=\"first_question\">Exercise: <code>next_sibling</code></h3>\n"
      ]
    },
    {
      "cell_type": "markdown",
      "metadata": {
        "id": "27b2a1e1-c795-4241-baa5-2879e3a7c519"
      },
      "source": [
        "Use the object <code>sibling\\_2</code> and the method <code>next_sibling</code> to find the salary of Stephen Curry:\n"
      ]
    },
    {
      "cell_type": "code",
      "metadata": {
        "id": "c60800ea-c9b0-40df-9ba5-08b26a33c38f",
        "outputId": "28fac4b1-1851-4acf-fb20-64b025c4fcfc",
        "colab": {
          "base_uri": "https://localhost:8080/"
        }
      },
      "outputs": [
        {
          "output_type": "execute_result",
          "data": {
            "text/plain": [
              "<p> Salary: $85,000,000</p>"
            ]
          },
          "metadata": {},
          "execution_count": 22
        }
      ],
      "source": [
        "sibling_2.next_sibling.next_sibling"
      ],
      "execution_count": 22
    },
    {
      "cell_type": "markdown",
      "metadata": {
        "id": "4fbf4c33-7472-4dff-9bd1-f4734f48ca94"
      },
      "source": [
        "<details><summary>Click here for the solution</summary>\n",
        "\n",
        "```\n",
        "sibling_2.next_sibling\n",
        "\n",
        "```\n",
        "\n",
        "</details>\n"
      ]
    },
    {
      "cell_type": "markdown",
      "metadata": {
        "id": "62c4d143-314d-4c7b-b407-4451fe372c39"
      },
      "source": [
        "### HTML Attributes\n"
      ]
    },
    {
      "cell_type": "markdown",
      "metadata": {
        "id": "2308f9b9-a6c0-49e1-b237-7f4bb5d2fd11"
      },
      "source": [
        "If the tag has attributes, the tag <code>id=\"boldest\"</code> has an attribute <code>id</code> whose value is <code>boldest</code>. You can access a tag's attributes by treating the tag like a dictionary:\n"
      ]
    },
    {
      "cell_type": "code",
      "metadata": {
        "id": "9286434f-49bd-407c-bacf-a17deffe5f89",
        "outputId": "7de76245-bfc2-428f-b65c-2c6080090186",
        "colab": {
          "base_uri": "https://localhost:8080/",
          "height": 35
        }
      },
      "outputs": [
        {
          "output_type": "execute_result",
          "data": {
            "text/plain": [
              "'boldest'"
            ],
            "application/vnd.google.colaboratory.intrinsic+json": {
              "type": "string"
            }
          },
          "metadata": {},
          "execution_count": 23
        }
      ],
      "source": [
        "tag_child['id']"
      ],
      "execution_count": 23
    },
    {
      "cell_type": "markdown",
      "metadata": {
        "id": "3fe26b97-37fc-4b64-98a3-5481d8601593"
      },
      "source": [
        "You can access that dictionary directly as <code>attrs</code>:\n"
      ]
    },
    {
      "cell_type": "code",
      "metadata": {
        "id": "7e68daab-bf7d-4d1e-a5dc-8c020302175b",
        "outputId": "88540633-8dde-476f-c57c-2f6dc399718f",
        "colab": {
          "base_uri": "https://localhost:8080/"
        }
      },
      "outputs": [
        {
          "output_type": "execute_result",
          "data": {
            "text/plain": [
              "{'id': 'boldest'}"
            ]
          },
          "metadata": {},
          "execution_count": 24
        }
      ],
      "source": [
        "tag_child.attrs"
      ],
      "execution_count": 24
    },
    {
      "cell_type": "markdown",
      "metadata": {
        "id": "f0db4f42-ab9b-4f86-8728-831b8818abcb"
      },
      "source": [
        "You can also work with Multi-valued attributes. Check out <a href=\"https://www.crummy.com/software/BeautifulSoup/bs4/doc/?utm_medium=Exinfluencer&utm_source=Exinfluencer&utm_content=000026UJ&utm_term=10006555&utm_id=NA-SkillsNetwork-Channel-SkillsNetworkCoursesIBMDeveloperSkillsNetworkPY0101ENSkillsNetwork19487395-2021-01-01\">\\[1]</a> for more.\n"
      ]
    },
    {
      "cell_type": "markdown",
      "metadata": {
        "id": "12bcf5e1-1c4f-4a3b-8412-71ac43cda714"
      },
      "source": [
        "We can also obtain the content of the attribute of the <code>tag</code> using the Python <code>get()</code> method.\n"
      ]
    },
    {
      "cell_type": "code",
      "metadata": {
        "id": "fb947745-2d39-49aa-9f14-c840682a53f4",
        "outputId": "0ac265af-69a4-41e3-8b84-d3461f8b43c0",
        "colab": {
          "base_uri": "https://localhost:8080/",
          "height": 35
        }
      },
      "outputs": [
        {
          "output_type": "execute_result",
          "data": {
            "text/plain": [
              "'boldest'"
            ],
            "application/vnd.google.colaboratory.intrinsic+json": {
              "type": "string"
            }
          },
          "metadata": {},
          "execution_count": 25
        }
      ],
      "source": [
        "tag_child.get('id')"
      ],
      "execution_count": 25
    },
    {
      "cell_type": "markdown",
      "metadata": {
        "id": "24c7713b-bc28-4d28-ab2b-f45495555575"
      },
      "source": [
        "### Navigable String\n"
      ]
    },
    {
      "cell_type": "markdown",
      "metadata": {
        "id": "d8cbec6c-bb36-4e3e-a028-27cb855981b3"
      },
      "source": [
        "A string corresponds to a bit of text or content within a tag. Beautiful Soup uses the <code>NavigableString</code> class to contain this text. In our HTML we can obtain the name of the first player by extracting the string of the <code>Tag</code> object <code>tag_child</code> as follows:\n"
      ]
    },
    {
      "cell_type": "code",
      "metadata": {
        "id": "81e4e71b-ff60-4949-a9bb-fb2524876365",
        "outputId": "f3d003ad-2256-4f74-f5ab-3197a6da9cba",
        "colab": {
          "base_uri": "https://localhost:8080/",
          "height": 35
        }
      },
      "outputs": [
        {
          "output_type": "execute_result",
          "data": {
            "text/plain": [
              "'Lebron James'"
            ],
            "application/vnd.google.colaboratory.intrinsic+json": {
              "type": "string"
            }
          },
          "metadata": {},
          "execution_count": 26
        }
      ],
      "source": [
        "tag_string = tag_child.string\n",
        "tag_string"
      ],
      "execution_count": 26
    },
    {
      "cell_type": "markdown",
      "metadata": {
        "id": "c602f63b-7bf3-41f6-a2a4-6df524d6e0aa"
      },
      "source": [
        "we can verify the type is Navigable String\n"
      ]
    },
    {
      "cell_type": "code",
      "metadata": {
        "id": "21480e0f-e783-4935-847b-7b0f4541997a",
        "outputId": "833f7279-e49b-4569-94f8-c6c2019cfea9",
        "colab": {
          "base_uri": "https://localhost:8080/"
        }
      },
      "outputs": [
        {
          "output_type": "execute_result",
          "data": {
            "text/plain": [
              "bs4.element.NavigableString"
            ]
          },
          "metadata": {},
          "execution_count": 27
        }
      ],
      "source": [
        "type(tag_string)"
      ],
      "execution_count": 27
    },
    {
      "cell_type": "markdown",
      "metadata": {
        "id": "8304a56d-b09b-4f6a-b5f4-de69458bfdb5"
      },
      "source": [
        "A NavigableString is similar to a Python string or Unicode string. To be more precise, the main difference is that it also supports some <code>BeautifulSoup</code> features. We can convert it to string object in Python:\n"
      ]
    },
    {
      "cell_type": "code",
      "metadata": {
        "id": "3ff96b9b-7fd5-47f0-a18e-51253e321ee4",
        "outputId": "9d4e8483-2933-42c6-80db-643c7ea135d9",
        "colab": {
          "base_uri": "https://localhost:8080/",
          "height": 35
        }
      },
      "outputs": [
        {
          "output_type": "execute_result",
          "data": {
            "text/plain": [
              "'Lebron James'"
            ],
            "application/vnd.google.colaboratory.intrinsic+json": {
              "type": "string"
            }
          },
          "metadata": {},
          "execution_count": 28
        }
      ],
      "source": [
        "unicode_string = str(tag_string)\n",
        "unicode_string"
      ],
      "execution_count": 28
    },
    {
      "cell_type": "markdown",
      "metadata": {
        "id": "ba76167b-4b77-4208-8c64-77f2afdbe634"
      },
      "source": [
        "## Filter\n"
      ]
    },
    {
      "cell_type": "markdown",
      "metadata": {
        "id": "c6ca60f7-1155-4289-91ea-8aa1190bc97c"
      },
      "source": [
        "Filters allow you to find complex patterns, the simplest filter is a string. In this section we will pass a string to a different filter method and Beautiful Soup will perform a match against that exact string. Consider the following HTML of rocket launches:\n"
      ]
    },
    {
      "cell_type": "code",
      "metadata": {
        "id": "c054cf2a-e85d-40e2-9940-30ca58577fe7",
        "outputId": "1ca59704-8865-4cc3-efcb-c80b9700f99e",
        "colab": {
          "base_uri": "https://localhost:8080/",
          "height": 104
        }
      },
      "outputs": [
        {
          "output_type": "display_data",
          "data": {
            "text/plain": [
              "<IPython.core.display.HTML object>"
            ],
            "text/html": [
              "<table>\n",
              "  <tr>\n",
              "    <td id='flight' >Flight No</td>\n",
              "    <td>Launch site</td> \n",
              "    <td>Payload mass</td>\n",
              "   </tr>\n",
              "  <tr> \n",
              "    <td>1</td>\n",
              "    <td><a href='https://en.wikipedia.org/wiki/Florida'>Florida</a></td>\n",
              "    <td>300 kg</td>\n",
              "  </tr>\n",
              "  <tr>\n",
              "    <td>2</td>\n",
              "    <td><a href='https://en.wikipedia.org/wiki/Texas'>Texas</a></td>\n",
              "    <td>94 kg</td>\n",
              "  </tr>\n",
              "  <tr>\n",
              "    <td>3</td>\n",
              "    <td><a href='https://en.wikipedia.org/wiki/Florida'>Florida<a> </td>\n",
              "    <td>80 kg</td>\n",
              "  </tr>\n",
              "</table>\n"
            ]
          },
          "metadata": {}
        }
      ],
      "source": [
        "%%html\n",
        "<table>\n",
        "  <tr>\n",
        "    <td id='flight' >Flight No</td>\n",
        "    <td>Launch site</td>\n",
        "    <td>Payload mass</td>\n",
        "   </tr>\n",
        "  <tr>\n",
        "    <td>1</td>\n",
        "    <td><a href='https://en.wikipedia.org/wiki/Florida'>Florida</a></td>\n",
        "    <td>300 kg</td>\n",
        "  </tr>\n",
        "  <tr>\n",
        "    <td>2</td>\n",
        "    <td><a href='https://en.wikipedia.org/wiki/Texas'>Texas</a></td>\n",
        "    <td>94 kg</td>\n",
        "  </tr>\n",
        "  <tr>\n",
        "    <td>3</td>\n",
        "    <td><a href='https://en.wikipedia.org/wiki/Florida'>Florida<a> </td>\n",
        "    <td>80 kg</td>\n",
        "  </tr>\n",
        "</table>"
      ],
      "execution_count": 29
    },
    {
      "cell_type": "markdown",
      "metadata": {
        "id": "fc540a03-3add-4587-87e5-1f6d38afe52b"
      },
      "source": [
        "We can store it as a string in the variable <code>table</code>:\n"
      ]
    },
    {
      "cell_type": "code",
      "metadata": {
        "id": "2ddab108-b04a-432b-b212-165f493cf6f3"
      },
      "outputs": [],
      "source": [
        "table = \"<table><tr><td id='flight'>Flight No</td><td>Launch site</td> \\\n",
        "<td>Payload mass</td></tr><tr> <td>1</td> \\\n",
        "<td><a href='https://en.wikipedia.org/wiki/Florida'>Florida<a></td> \\\n",
        "<td>300 kg</td></tr><tr><td>2</td> \\\n",
        "<td><a href='https://en.wikipedia.org/wiki/Texas'>Texas</a></td> \\\n",
        "<td>94 kg</td></tr><tr><td>3</td> \\\n",
        "<td><a href='https://en.wikipedia.org/wiki/Florida'>Florida<a> </td> \\\n",
        "<td>80 kg</td></tr></table>\""
      ],
      "execution_count": 30
    },
    {
      "cell_type": "code",
      "metadata": {
        "id": "0f1e07e2-18a4-4f33-a147-60383c61d5eb"
      },
      "outputs": [],
      "source": [
        "table_bs = BeautifulSoup(table, 'html5lib')"
      ],
      "execution_count": 31
    },
    {
      "cell_type": "markdown",
      "metadata": {
        "id": "6c49d53c-4c39-43e8-9db7-b24d1b9bb946"
      },
      "source": [
        "## find_All\n"
      ]
    },
    {
      "cell_type": "markdown",
      "metadata": {
        "id": "2fca1bc6-cc5d-4b99-8f46-20506fe60273"
      },
      "source": [
        "The <code>find_all()</code> method looks through a tag's descendants and retrieves all descendants that match your filters.\n",
        "\n",
        "<p>\n",
        "The Method signature for <code>find_all(name, attrs, recursive, string, limit, **kwargs)<c/ode>\n",
        "</p>\n"
      ]
    },
    {
      "cell_type": "markdown",
      "metadata": {
        "id": "54ff00d4-964f-4119-9d86-b1e152138332"
      },
      "source": [
        "### Name\n"
      ]
    },
    {
      "cell_type": "markdown",
      "metadata": {
        "id": "248e87f0-980b-4cb8-979a-c5aaabfc4092"
      },
      "source": [
        "When we set the <code>name</code> parameter to a tag name, the method will extract all the tags with that name and its children.\n"
      ]
    },
    {
      "cell_type": "code",
      "metadata": {
        "id": "ed0ac999-54c0-4727-84ae-1f1a8d57cd30",
        "outputId": "38dade01-3137-451d-b04d-31ec76de981d",
        "colab": {
          "base_uri": "https://localhost:8080/"
        }
      },
      "outputs": [
        {
          "output_type": "execute_result",
          "data": {
            "text/plain": [
              "[<tr><td id=\"flight\">Flight No</td><td>Launch site</td> <td>Payload mass</td></tr>,\n",
              " <tr> <td>1</td> <td><a href=\"https://en.wikipedia.org/wiki/Florida\">Florida</a><a></a></td> <td>300 kg</td></tr>,\n",
              " <tr><td>2</td> <td><a href=\"https://en.wikipedia.org/wiki/Texas\">Texas</a></td> <td>94 kg</td></tr>,\n",
              " <tr><td>3</td> <td><a href=\"https://en.wikipedia.org/wiki/Florida\">Florida</a><a> </a></td> <td>80 kg</td></tr>]"
            ]
          },
          "metadata": {},
          "execution_count": 32
        }
      ],
      "source": [
        "table_rows = table_bs.find_all('tr')\n",
        "table_rows"
      ],
      "execution_count": 32
    },
    {
      "cell_type": "markdown",
      "metadata": {
        "id": "522a5b70-3b7a-48ed-90d1-cc1e1546a678"
      },
      "source": [
        "The result is a Python iterable just like a list, each element is a <code>tag</code> object:\n"
      ]
    },
    {
      "cell_type": "code",
      "metadata": {
        "id": "574941fa-add2-443f-aca3-c9bf9bdacfe1",
        "outputId": "798c0840-1522-4ac5-f7c3-cc9109349bb6",
        "colab": {
          "base_uri": "https://localhost:8080/"
        }
      },
      "outputs": [
        {
          "output_type": "execute_result",
          "data": {
            "text/plain": [
              "<tr><td id=\"flight\">Flight No</td><td>Launch site</td> <td>Payload mass</td></tr>"
            ]
          },
          "metadata": {},
          "execution_count": 33
        }
      ],
      "source": [
        "first_row = table_rows[0]\n",
        "first_row"
      ],
      "execution_count": 33
    },
    {
      "cell_type": "markdown",
      "metadata": {
        "id": "e78f75f8-a73b-4159-9b48-7df9f7b2f9e6"
      },
      "source": [
        "The type is <code>tag</code>\n"
      ]
    },
    {
      "cell_type": "code",
      "metadata": {
        "id": "4ed7eb5f-c714-4e6f-9739-98c439ae20e8",
        "outputId": "439c5efb-d5b8-4b49-9b76-e7ae4ce5599f",
        "colab": {
          "base_uri": "https://localhost:8080/"
        }
      },
      "outputs": [
        {
          "output_type": "stream",
          "name": "stdout",
          "text": [
            "<class 'bs4.element.Tag'>\n"
          ]
        }
      ],
      "source": [
        "print(type(first_row))"
      ],
      "execution_count": 34
    },
    {
      "cell_type": "markdown",
      "metadata": {
        "id": "292db24b-fa53-4fe7-adc7-ca07a535c99d"
      },
      "source": [
        "we can obtain the child\n"
      ]
    },
    {
      "cell_type": "code",
      "metadata": {
        "id": "bd59ad4b-e81c-4f9c-8b66-73cec10cd4b5",
        "outputId": "1afd8dc6-b6bf-4583-8632-955acdec1bf9",
        "colab": {
          "base_uri": "https://localhost:8080/"
        }
      },
      "outputs": [
        {
          "output_type": "execute_result",
          "data": {
            "text/plain": [
              "<td id=\"flight\">Flight No</td>"
            ]
          },
          "metadata": {},
          "execution_count": 35
        }
      ],
      "source": [
        "first_row.td"
      ],
      "execution_count": 35
    },
    {
      "cell_type": "markdown",
      "metadata": {
        "id": "9e996317-fe8a-4b91-bdfd-0c54dd846ff7"
      },
      "source": [
        "If we iterate through the list, each element corresponds to a row in the table:\n"
      ]
    },
    {
      "cell_type": "code",
      "metadata": {
        "id": "e7206a9b-a10e-4fe5-8dd9-752c6493fd97",
        "outputId": "ade8599b-ee50-41e0-d9ef-117dfabffdba",
        "colab": {
          "base_uri": "https://localhost:8080/"
        }
      },
      "outputs": [
        {
          "output_type": "stream",
          "name": "stdout",
          "text": [
            "row 0 is <tr><td id=\"flight\">Flight No</td><td>Launch site</td> <td>Payload mass</td></tr>\n",
            "row 1 is <tr> <td>1</td> <td><a href=\"https://en.wikipedia.org/wiki/Florida\">Florida</a><a></a></td> <td>300 kg</td></tr>\n",
            "row 2 is <tr><td>2</td> <td><a href=\"https://en.wikipedia.org/wiki/Texas\">Texas</a></td> <td>94 kg</td></tr>\n",
            "row 3 is <tr><td>3</td> <td><a href=\"https://en.wikipedia.org/wiki/Florida\">Florida</a><a> </a></td> <td>80 kg</td></tr>\n"
          ]
        }
      ],
      "source": [
        "for i, row in enumerate(table_rows):\n",
        "    print(\"row\", i, \"is\", row)"
      ],
      "execution_count": 36
    },
    {
      "cell_type": "markdown",
      "metadata": {
        "id": "47ab42c3-e527-4a2b-8dad-244ce142756a"
      },
      "source": [
        "As <code>row</code> is a <code>cell</code> object, we can apply the method <code>find_all</code> to it and extract table cells in the object <code>cells</code> using the tag <code>td</code>, this is all the children with the name <code>td</code>. The result is a list, each element corresponds to a cell and is a <code>Tag</code> object, we can iterate through this list as well. We can extract the content using the <code>string</code> attribute.\n"
      ]
    },
    {
      "cell_type": "code",
      "metadata": {
        "id": "11cc6e07-2990-42ce-8d3d-cfb922240de7",
        "outputId": "c121a42a-fbc6-4c26-be07-f9ba11412dd9",
        "colab": {
          "base_uri": "https://localhost:8080/"
        }
      },
      "outputs": [
        {
          "output_type": "stream",
          "name": "stdout",
          "text": [
            "row 0\n",
            "colunm 0 cell <td id=\"flight\">Flight No</td>\n",
            "colunm 1 cell <td>Launch site</td>\n",
            "colunm 2 cell <td>Payload mass</td>\n",
            "row 1\n",
            "colunm 0 cell <td>1</td>\n",
            "colunm 1 cell <td><a href=\"https://en.wikipedia.org/wiki/Florida\">Florida</a><a></a></td>\n",
            "colunm 2 cell <td>300 kg</td>\n",
            "row 2\n",
            "colunm 0 cell <td>2</td>\n",
            "colunm 1 cell <td><a href=\"https://en.wikipedia.org/wiki/Texas\">Texas</a></td>\n",
            "colunm 2 cell <td>94 kg</td>\n",
            "row 3\n",
            "colunm 0 cell <td>3</td>\n",
            "colunm 1 cell <td><a href=\"https://en.wikipedia.org/wiki/Florida\">Florida</a><a> </a></td>\n",
            "colunm 2 cell <td>80 kg</td>\n"
          ]
        }
      ],
      "source": [
        "for i, row in enumerate(table_rows):\n",
        "    print(\"row\", i)\n",
        "    cells = row.find_all('td')\n",
        "    for j, cell in enumerate(cells):\n",
        "        print('colunm', j, \"cell\", cell)"
      ],
      "execution_count": 37
    },
    {
      "cell_type": "markdown",
      "metadata": {
        "id": "89b8244e-ccdf-4c86-9337-c3f6ea265def"
      },
      "source": [
        "If we use a list we can match against any item in that list.\n"
      ]
    },
    {
      "cell_type": "code",
      "metadata": {
        "id": "b1b74f0b-e8ef-4b98-9d97-64157ad85f7b",
        "outputId": "34ffaf51-3a83-409d-eee3-af769c1479a2",
        "colab": {
          "base_uri": "https://localhost:8080/"
        }
      },
      "outputs": [
        {
          "output_type": "execute_result",
          "data": {
            "text/plain": [
              "[<tr><td id=\"flight\">Flight No</td><td>Launch site</td> <td>Payload mass</td></tr>,\n",
              " <td id=\"flight\">Flight No</td>,\n",
              " <td>Launch site</td>,\n",
              " <td>Payload mass</td>,\n",
              " <tr> <td>1</td> <td><a href=\"https://en.wikipedia.org/wiki/Florida\">Florida</a><a></a></td> <td>300 kg</td></tr>,\n",
              " <td>1</td>,\n",
              " <td><a href=\"https://en.wikipedia.org/wiki/Florida\">Florida</a><a></a></td>,\n",
              " <td>300 kg</td>,\n",
              " <tr><td>2</td> <td><a href=\"https://en.wikipedia.org/wiki/Texas\">Texas</a></td> <td>94 kg</td></tr>,\n",
              " <td>2</td>,\n",
              " <td><a href=\"https://en.wikipedia.org/wiki/Texas\">Texas</a></td>,\n",
              " <td>94 kg</td>,\n",
              " <tr><td>3</td> <td><a href=\"https://en.wikipedia.org/wiki/Florida\">Florida</a><a> </a></td> <td>80 kg</td></tr>,\n",
              " <td>3</td>,\n",
              " <td><a href=\"https://en.wikipedia.org/wiki/Florida\">Florida</a><a> </a></td>,\n",
              " <td>80 kg</td>]"
            ]
          },
          "metadata": {},
          "execution_count": 38
        }
      ],
      "source": [
        "list_input = table_bs.find_all(name=[\"tr\", \"td\"])\n",
        "list_input"
      ],
      "execution_count": 38
    },
    {
      "cell_type": "markdown",
      "metadata": {
        "id": "f48181c0-026c-41f2-9d5e-b21bf7a2c2ce"
      },
      "source": [
        "### Attributes\n"
      ]
    },
    {
      "cell_type": "markdown",
      "metadata": {
        "id": "a722a7ce-d64c-4e00-a2a4-c955256065fe"
      },
      "source": [
        "If the argument is not recognized it will be turned into a filter on the tag's attributes. For example with the <code>id</code> argument, Beautiful Soup will filter against each tag's <code>id</code> attribute. For example, the first <code>td</code> elements have a value of <code>id</code> of <code>flight</code>, therefore we can filter based on that <code>id</code> value.\n"
      ]
    },
    {
      "cell_type": "code",
      "metadata": {
        "id": "09c9ef0d-ef77-4246-a2af-3cd862c238ca",
        "outputId": "23a9cf2e-1ec4-4ef1-b12f-529149fb7adb",
        "colab": {
          "base_uri": "https://localhost:8080/"
        }
      },
      "outputs": [
        {
          "output_type": "execute_result",
          "data": {
            "text/plain": [
              "[<td id=\"flight\">Flight No</td>]"
            ]
          },
          "metadata": {},
          "execution_count": 39
        }
      ],
      "source": [
        "table_bs.find_all(id=\"flight\")"
      ],
      "execution_count": 39
    },
    {
      "cell_type": "markdown",
      "metadata": {
        "id": "a6bd1f47-2cf8-495d-a286-e0af0ce7d95e"
      },
      "source": [
        "We can find all the elements that have links to the Florida Wikipedia page:\n"
      ]
    },
    {
      "cell_type": "code",
      "metadata": {
        "id": "5da276df-333c-4886-be0b-8eb91b57d333",
        "outputId": "7847e788-63ae-4e23-bfaa-26808f489132",
        "colab": {
          "base_uri": "https://localhost:8080/"
        }
      },
      "outputs": [
        {
          "output_type": "execute_result",
          "data": {
            "text/plain": [
              "[<a href=\"https://en.wikipedia.org/wiki/Florida\">Florida</a>,\n",
              " <a href=\"https://en.wikipedia.org/wiki/Florida\">Florida</a>]"
            ]
          },
          "metadata": {},
          "execution_count": 40
        }
      ],
      "source": [
        "list_input = table_bs.find_all(href=\"https://en.wikipedia.org/wiki/Florida\")\n",
        "list_input"
      ],
      "execution_count": 40
    },
    {
      "cell_type": "markdown",
      "metadata": {
        "id": "0e352fb7-3b79-4510-bde1-5b80d992e08e"
      },
      "source": [
        "If we set the <code>href</code> attribute to True, regardless of what the value is, the code finds all anchor tags with <code>href</code> value:\n"
      ]
    },
    {
      "cell_type": "code",
      "metadata": {
        "id": "1b026bee-3046-40a9-b7da-75f301d74cad",
        "outputId": "7e02b347-1c91-4e31-f121-c335f09acbdf",
        "colab": {
          "base_uri": "https://localhost:8080/"
        }
      },
      "outputs": [
        {
          "output_type": "execute_result",
          "data": {
            "text/plain": [
              "[<a href=\"https://en.wikipedia.org/wiki/Florida\">Florida</a>,\n",
              " <a href=\"https://en.wikipedia.org/wiki/Texas\">Texas</a>,\n",
              " <a href=\"https://en.wikipedia.org/wiki/Florida\">Florida</a>]"
            ]
          },
          "metadata": {},
          "execution_count": 41
        }
      ],
      "source": [
        "table_bs.find_all('a', href=True)"
      ],
      "execution_count": 41
    },
    {
      "cell_type": "markdown",
      "metadata": {
        "id": "f2f23ecd-fb86-4242-936e-ef3ac217ebf4"
      },
      "source": [
        "There are other methods for dealing with attributes and other related methods. Check out the following <a href='https://www.crummy.com/software/BeautifulSoup/bs4/doc/?utm_medium=Exinfluencer&utm_source=Exinfluencer&utm_content=000026UJ&utm_term=10006555&utm_id=NA-SkillsNetwork-Channel-SkillsNetworkCoursesIBMDeveloperSkillsNetworkPY0101ENSkillsNetwork19487395-2021-01-01#css-selectors'>link</a>\n"
      ]
    },
    {
      "cell_type": "markdown",
      "metadata": {
        "id": "09722a2c-dc42-4b49-8506-a8245252b73a"
      },
      "source": [
        "<h3 id=\"exer_type\">Exercise: <code>find_all</code></h3>\n"
      ]
    },
    {
      "cell_type": "markdown",
      "metadata": {
        "id": "cbb306cc-78f8-4eac-8768-75eeddb3c5ba"
      },
      "source": [
        "Using the logic above, find all the anchor tags without <code>href</code> value\n"
      ]
    },
    {
      "cell_type": "code",
      "metadata": {
        "id": "ab7f409c-548a-430e-9ab0-bf1802b23aca",
        "outputId": "32d26e44-e3ad-47f5-d199-78125d2eb1b1",
        "colab": {
          "base_uri": "https://localhost:8080/"
        }
      },
      "outputs": [
        {
          "output_type": "execute_result",
          "data": {
            "text/plain": [
              "[<a></a>, <a> </a>]"
            ]
          },
          "metadata": {},
          "execution_count": 46
        }
      ],
      "source": [
        "# Add response here\n",
        "table_bs.find_all('a',href=False)"
      ],
      "execution_count": 46
    },
    {
      "cell_type": "markdown",
      "metadata": {
        "id": "f4d6652a-661f-43ae-aa76-9caaa15b14ee"
      },
      "source": [
        "<details><summary>Click here for the solution</summary>\n",
        "\n",
        "```\n",
        "table_bs.find_all('a', href=False)\n",
        "\n",
        "```\n",
        "\n",
        "</details>\n"
      ]
    },
    {
      "cell_type": "markdown",
      "metadata": {
        "id": "64619174-a341-421d-8192-900e4707a055"
      },
      "source": [
        "Using the soup object <code>soup</code>, find the element with the <code>id</code> attribute content set to <code>\"boldest\"</code>.\n"
      ]
    },
    {
      "cell_type": "code",
      "metadata": {
        "id": "a09177b8-7e81-4f46-a78a-51fdb169888b",
        "outputId": "49db1de1-81b7-45e8-d920-d77b62b2b6ee",
        "colab": {
          "base_uri": "https://localhost:8080/"
        }
      },
      "outputs": [
        {
          "output_type": "execute_result",
          "data": {
            "text/plain": [
              "[<b id=\"boldest\">Lebron James</b>]"
            ]
          },
          "metadata": {},
          "execution_count": 47
        }
      ],
      "source": [
        "# Add your answer here\n",
        "soup.find_all(id=\"boldest\")"
      ],
      "execution_count": 47
    },
    {
      "cell_type": "markdown",
      "metadata": {
        "id": "e582f918-eb48-4c51-9450-02ba7cf00764"
      },
      "source": [
        "<details><summary>Click here for the solution</summary>\n",
        "\n",
        "```\n",
        "soup.find_all(id=\"boldest\")\n",
        "\n",
        "```\n",
        "\n",
        "</details>\n"
      ]
    },
    {
      "cell_type": "markdown",
      "metadata": {
        "id": "5608fa56-f3ad-46c7-a799-15b0b25f5b18"
      },
      "source": [
        "### string\n"
      ]
    },
    {
      "cell_type": "markdown",
      "metadata": {
        "id": "24bff457-b08f-41de-b5d9-9c68369da5f7"
      },
      "source": [
        "With string you can search for strings instead of tags, where we find all the elments with Florida:\n"
      ]
    },
    {
      "cell_type": "code",
      "metadata": {
        "id": "7b4118ac-21a6-4e0e-9d1f-996db275d2ec",
        "outputId": "fad4e2e0-6f62-4d3e-c973-ee038a7227ce",
        "colab": {
          "base_uri": "https://localhost:8080/"
        }
      },
      "outputs": [
        {
          "output_type": "execute_result",
          "data": {
            "text/plain": [
              "['Florida', 'Florida']"
            ]
          },
          "metadata": {},
          "execution_count": 48
        }
      ],
      "source": [
        "table_bs.find_all(string=\"Florida\")"
      ],
      "execution_count": 48
    },
    {
      "cell_type": "markdown",
      "metadata": {
        "id": "655ff94f-7903-4f57-b78e-b7a02dfc60f8"
      },
      "source": [
        "## find\n"
      ]
    },
    {
      "cell_type": "markdown",
      "metadata": {
        "id": "217caad1-118c-4371-a154-4e9408516880"
      },
      "source": [
        "The <code>find_all()</code> method scans the entire document looking for results. It’s useful if you are looking for one element, as you can use the <code>find()</code> method to find the first element in the document. Consider the following two tables:\n"
      ]
    },
    {
      "cell_type": "code",
      "metadata": {
        "id": "05ae3c0f-afc2-427f-b3eb-f9bf11aab30f",
        "outputId": "7a7be706-6d33-4df4-f2f4-c25f99c84495",
        "colab": {
          "base_uri": "https://localhost:8080/",
          "height": 275
        }
      },
      "outputs": [
        {
          "output_type": "display_data",
          "data": {
            "text/plain": [
              "<IPython.core.display.HTML object>"
            ],
            "text/html": [
              "<h3>Rocket Launch </h3>\n",
              "\n",
              "<p>\n",
              "<table class='rocket'>\n",
              "  <tr>\n",
              "    <td>Flight No</td>\n",
              "    <td>Launch site</td> \n",
              "    <td>Payload mass</td>\n",
              "  </tr>\n",
              "  <tr>\n",
              "    <td>1</td>\n",
              "    <td>Florida</td>\n",
              "    <td>300 kg</td>\n",
              "  </tr>\n",
              "  <tr>\n",
              "    <td>2</td>\n",
              "    <td>Texas</td>\n",
              "    <td>94 kg</td>\n",
              "  </tr>\n",
              "  <tr>\n",
              "    <td>3</td>\n",
              "    <td>Florida </td>\n",
              "    <td>80 kg</td>\n",
              "  </tr>\n",
              "</table>\n",
              "</p>\n",
              "<p>\n",
              "\n",
              "<h3>Pizza Party</h3>\n",
              "  \n",
              "    \n",
              "<table class='pizza'>\n",
              "  <tr>\n",
              "    <td>Pizza Place</td>\n",
              "    <td>Orders</td> \n",
              "    <td>Slices </td>\n",
              "   </tr>\n",
              "  <tr>\n",
              "    <td>Domino's Pizza</td>\n",
              "    <td>10</td>\n",
              "    <td>100</td>\n",
              "  </tr>\n",
              "  <tr>\n",
              "    <td>Little Caesars</td>\n",
              "    <td>12</td>\n",
              "    <td >144 </td>\n",
              "  </tr>\n",
              "  <tr>\n",
              "    <td>Papa John's </td>\n",
              "    <td>15 </td>\n",
              "    <td>165</td>\n",
              "  </tr>\n"
            ]
          },
          "metadata": {}
        }
      ],
      "source": [
        "%%html\n",
        "<h3>Rocket Launch </h3>\n",
        "\n",
        "<p>\n",
        "<table class='rocket'>\n",
        "  <tr>\n",
        "    <td>Flight No</td>\n",
        "    <td>Launch site</td>\n",
        "    <td>Payload mass</td>\n",
        "  </tr>\n",
        "  <tr>\n",
        "    <td>1</td>\n",
        "    <td>Florida</td>\n",
        "    <td>300 kg</td>\n",
        "  </tr>\n",
        "  <tr>\n",
        "    <td>2</td>\n",
        "    <td>Texas</td>\n",
        "    <td>94 kg</td>\n",
        "  </tr>\n",
        "  <tr>\n",
        "    <td>3</td>\n",
        "    <td>Florida </td>\n",
        "    <td>80 kg</td>\n",
        "  </tr>\n",
        "</table>\n",
        "</p>\n",
        "<p>\n",
        "\n",
        "<h3>Pizza Party</h3>\n",
        "\n",
        "\n",
        "<table class='pizza'>\n",
        "  <tr>\n",
        "    <td>Pizza Place</td>\n",
        "    <td>Orders</td>\n",
        "    <td>Slices </td>\n",
        "   </tr>\n",
        "  <tr>\n",
        "    <td>Domino's Pizza</td>\n",
        "    <td>10</td>\n",
        "    <td>100</td>\n",
        "  </tr>\n",
        "  <tr>\n",
        "    <td>Little Caesars</td>\n",
        "    <td>12</td>\n",
        "    <td >144 </td>\n",
        "  </tr>\n",
        "  <tr>\n",
        "    <td>Papa John's </td>\n",
        "    <td>15 </td>\n",
        "    <td>165</td>\n",
        "  </tr>\n"
      ],
      "execution_count": 49
    },
    {
      "cell_type": "markdown",
      "metadata": {
        "id": "7cced1b3-1176-4203-a2ab-7785575b3f84"
      },
      "source": [
        "We store the HTML as a Python string and assign <code>two_tables</code>:\n"
      ]
    },
    {
      "cell_type": "code",
      "metadata": {
        "id": "60c827e8-74da-4c7e-b1d6-8fd86ffd5ef2"
      },
      "outputs": [],
      "source": [
        "two_tables=\"<h3>Rocket Launch </h3> \\\n",
        "<p><table class='rocket'> \\\n",
        "<tr><td>Flight No</td><td>Launch site</td><td>Payload mass</td></tr> \\\n",
        "<tr><td>1</td><td>Florida</td><td>300 kg</td></tr> \\\n",
        "<tr><td>2</td><td>Texas</td><td>94 kg</td></tr> \\\n",
        "<tr><td>3</td><td>Florida </td><td>80 kg</td></tr></table></p>\\\n",
        "<p><h3>Pizza Party</h3> \\\n",
        "<table class='pizza'> \\\n",
        "<tr><td>Pizza Place</td><td>Orders</td><td>Slices </td></tr> \\\n",
        "<tr><td>Domino's Pizza</td><td>10</td><td>100</td></tr> \\\n",
        "<tr><td>Little Caesars</td><td>12</td><td >144 </td></tr> \\\n",
        "<tr><td>Papa John's</td><td>15 </td><td>165</td></tr>\""
      ],
      "execution_count": 50
    },
    {
      "cell_type": "markdown",
      "metadata": {
        "id": "c28c2fbd-561c-423f-9dcd-6e3176754834"
      },
      "source": [
        "We create a <code>BeautifulSoup</code> object  <code>two_tables_bs</code>\n"
      ]
    },
    {
      "cell_type": "code",
      "metadata": {
        "id": "b346024e-ec95-4a2b-a79e-4f067c20e9a1"
      },
      "outputs": [],
      "source": [
        "two_tables_bs = BeautifulSoup(two_tables, 'html.parser')"
      ],
      "execution_count": 51
    },
    {
      "cell_type": "markdown",
      "metadata": {
        "id": "0de4f4f7-25c6-425b-83b1-09733172e8ed"
      },
      "source": [
        "We can find the first table using the tag name table\n"
      ]
    },
    {
      "cell_type": "code",
      "metadata": {
        "id": "08a8f4b1-f82a-419f-8b01-bce28a1fdb5a",
        "outputId": "b3c5c719-c683-40b5-8b78-b2f37b506ff2",
        "colab": {
          "base_uri": "https://localhost:8080/"
        }
      },
      "outputs": [
        {
          "output_type": "execute_result",
          "data": {
            "text/plain": [
              "<table class=\"rocket\"> <tr><td>Flight No</td><td>Launch site</td><td>Payload mass</td></tr> <tr><td>1</td><td>Florida</td><td>300 kg</td></tr> <tr><td>2</td><td>Texas</td><td>94 kg</td></tr> <tr><td>3</td><td>Florida </td><td>80 kg</td></tr></table>"
            ]
          },
          "metadata": {},
          "execution_count": 71
        }
      ],
      "source": [
        "two_tables_bs.find(\"table\")"
      ],
      "execution_count": 71
    },
    {
      "cell_type": "markdown",
      "metadata": {
        "id": "ff76cc20-4eb7-4e91-a80b-b5faea21b2bb"
      },
      "source": [
        "We can filter on the class attribute to find the second table, but because class is a keyword in Python, we add an underscore to differentiate them.\n"
      ]
    },
    {
      "cell_type": "code",
      "metadata": {
        "id": "484ad172-91c0-4762-9a07-16de9585865f",
        "outputId": "0ad3b1df-fc05-436e-e576-a9dc43aaffb7",
        "colab": {
          "base_uri": "https://localhost:8080/"
        }
      },
      "outputs": [
        {
          "output_type": "execute_result",
          "data": {
            "text/plain": [
              "<table class=\"pizza\"> <tr><td>Pizza Place</td><td>Orders</td><td>Slices </td></tr> <tr><td>Domino's Pizza</td><td>10</td><td>100</td></tr> <tr><td>Little Caesars</td><td>12</td><td>144 </td></tr> <tr><td>Papa John's</td><td>15 </td><td>165</td></tr></table>"
            ]
          },
          "metadata": {},
          "execution_count": 72
        }
      ],
      "source": [
        "two_tables_bs.find(\"table\", class_='pizza')"
      ],
      "execution_count": 72
    },
    {
      "cell_type": "code",
      "source": [
        "# alternatively, the filter in cell the cell above is a simplified version of the 3-line combination of tag branch tracing\n",
        "table1 = two_tables_bs.table\n",
        "table2 = table1.parent\n",
        "table2.next_sibling.table"
      ],
      "metadata": {
        "id": "MdRLTA0lB-TE",
        "outputId": "446ee1c9-7d07-4bfc-ed67-4ad8078c58d3",
        "colab": {
          "base_uri": "https://localhost:8080/"
        }
      },
      "execution_count": 73,
      "outputs": [
        {
          "output_type": "execute_result",
          "data": {
            "text/plain": [
              "<table class=\"pizza\"> <tr><td>Pizza Place</td><td>Orders</td><td>Slices </td></tr> <tr><td>Domino's Pizza</td><td>10</td><td>100</td></tr> <tr><td>Little Caesars</td><td>12</td><td>144 </td></tr> <tr><td>Papa John's</td><td>15 </td><td>165</td></tr></table>"
            ]
          },
          "metadata": {},
          "execution_count": 73
        }
      ]
    },
    {
      "cell_type": "markdown",
      "metadata": {
        "id": "208fb5db-3fe4-4754-868c-a7abbd64c6c1"
      },
      "source": [
        "<h2 id=\"DSCW\">Downloading And Scraping The Contents Of A Web Page</h2>\n"
      ]
    },
    {
      "cell_type": "markdown",
      "metadata": {
        "id": "cf96418b-8b07-4319-a32e-c703b93dc8d5"
      },
      "source": [
        "We Download the contents of the web page:\n"
      ]
    },
    {
      "cell_type": "code",
      "metadata": {
        "id": "4ddef28f-6ffa-4df7-8736-7f1fffc2e70b"
      },
      "outputs": [],
      "source": [
        "url = \"http://www.ibm.com\""
      ],
      "execution_count": 100
    },
    {
      "cell_type": "markdown",
      "metadata": {
        "id": "ce45c5b7-d1bd-422c-9ba0-147a76ced11c"
      },
      "source": [
        "We use <code>get</code> to download the contents of the webpage in text format and store in a variable called <code>data</code>:\n"
      ]
    },
    {
      "cell_type": "code",
      "metadata": {
        "id": "17e2154d-011e-413f-a4f4-279c218ed2e0"
      },
      "outputs": [],
      "source": [
        "data = requests.get(url).text"
      ],
      "execution_count": 101
    },
    {
      "cell_type": "markdown",
      "metadata": {
        "id": "73ed9491-5f09-4902-943a-43f9d2b1f05e"
      },
      "source": [
        "We create a <code>BeautifulSoup</code> object using the <code>BeautifulSoup</code> constructor\n"
      ]
    },
    {
      "cell_type": "code",
      "metadata": {
        "id": "3e2ce968-6021-48eb-adde-db112b38d64a"
      },
      "outputs": [],
      "source": [
        "soup = BeautifulSoup(data, \"html5lib\")  # create a soup object using the variable 'data'"
      ],
      "execution_count": 102
    },
    {
      "cell_type": "markdown",
      "metadata": {
        "id": "f6fde09f-50dc-48b2-9c0b-390e795ebc2b"
      },
      "source": [
        "Scrape all links\n"
      ]
    },
    {
      "cell_type": "code",
      "metadata": {
        "id": "ab8303a0-c5e6-4589-9527-01259de029db",
        "outputId": "adde6c9f-df07-498c-c3b3-d4beb58bc66e",
        "colab": {
          "base_uri": "https://localhost:8080/"
        }
      },
      "outputs": [
        {
          "output_type": "stream",
          "name": "stdout",
          "text": [
            "https://www.ibm.com/cloud?lnk=hpUSbt1\n"
          ]
        }
      ],
      "source": [
        "for link in soup.find_all('a', href=True):  # in html anchor/link is represented by the tag <a>\n",
        "    print(link.get('href'))"
      ],
      "execution_count": 103
    },
    {
      "cell_type": "code",
      "source": [
        "# list of all script tags, usually js\n",
        "list_script = soup.find_all('script')\n",
        "list_script"
      ],
      "metadata": {
        "id": "a1r1Up3iHDZe",
        "outputId": "c1151fa6-9503-4ea1-89ad-cc4843c1a35b",
        "colab": {
          "base_uri": "https://localhost:8080/"
        }
      },
      "execution_count": 124,
      "outputs": [
        {
          "output_type": "execute_result",
          "data": {
            "text/plain": [
              "[<script id=\"anti-flicker-script\" type=\"text/javascript\">\n",
              "         (async () => {\n",
              "           await customElements.whenDefined('dds-masthead-container');\n",
              "           document.getElementById('anti-flicker-style').remove();\n",
              "           document.getElementById('anti-flicker-script').remove();\n",
              "         })()\n",
              "     </script>,\n",
              " <script type=\"text/javascript\">\n",
              "         window.searchKey = {\n",
              "             templateName: 'full\\u002Dwidth\\u002Dlayout',\n",
              "             taxonomylist: '',\n",
              "             L0Tag: 'CMaaS Focus Areas,Topics,Brands,Industries,Geography,Compliance Entities,Products',\n",
              "         }\n",
              "     </script>,\n",
              " <script type=\"text/javascript\">\n",
              "         window.antiFlicker = {\n",
              "             active: true,\n",
              "             timeout: 3000\n",
              "         }\n",
              "     </script>,\n",
              " <script type=\"text/javascript\">\n",
              "         var languageCode = document.getElementsByName('languageCode')[0].content;\n",
              "         var countryCode = document.getElementsByName('countryCode')[0].content;\n",
              "         var focusArea = document.getElementsByName('focusArea')[0].content;\n",
              "         /* Define digital data object based on _appInfo object */\n",
              "         window.digitalData = {\n",
              "             page: {\n",
              "                 category: {\n",
              "                     primaryCategory: '',\n",
              "                 },\n",
              "                 pageInfo: {\n",
              "                     language: languageCode + '-' + countryCode,\n",
              "                     ibm: {\n",
              "                         siteID: 'MarketingAEM',\n",
              "                         country: countryCode,\n",
              "                         messaging: {\n",
              "                             routing: {\n",
              "                                 focusArea: focusArea,\n",
              "                                 languageCode: languageCode,\n",
              "                                 regionCode: countryCode\n",
              "                             },\n",
              "                             translation: {\n",
              "                                 languageCode: languageCode,\n",
              "                                 regionCode: countryCode\n",
              "                             }\n",
              "                         },\n",
              "                         sections: 0,\n",
              "                         patterns: 0\n",
              "                     }\n",
              "                 }\n",
              "             }\n",
              "         };\n",
              "     </script>,\n",
              " <script async=\"async\" src=\"https://1.www.s81c.com/common/stats/ibm-common.js\" type=\"text/javascript\"></script>,\n",
              " <script src=\"https://hybrid-cloud-widgets-production.s3.us.cloud-object-storage.appdomain.cloud/loader.js\" type=\"application/javascript\"></script>,\n",
              " <script src=\"https://1.www.s81c.com/common/carbon-for-ibm-dotcom/version/2.0.0.alpha.8178198249/masthead.min.js\" type=\"module\"></script>,\n",
              " <script type=\"text/javascript\">\n",
              "     if(window.location.href.includes(\"/careers\")){\n",
              "        document.querySelector('dds-masthead-container').setAttribute(\"has-search\",\"false\");\n",
              "        document.querySelector('dds-masthead-container').setAttribute(\"has-profile\",\"false\");\n",
              "     } \n",
              " </script>,\n",
              " <script src=\"https://1.www.s81c.com/common/carbon/web-components/version/v1.38.0/tag.min.js\" type=\"module\"></script>,\n",
              " <script src=\"https://1.www.s81c.com/common/carbon/carbon-for-aem/version/v0.12.0/link-list-item.min.js\" type=\"module\"></script>,\n",
              " <script src=\"https://1.www.s81c.com/common/carbon/web-components/version/v1.38.0/tag.min.js\" type=\"module\"></script>,\n",
              " <script src=\"https://1.www.s81c.com/common/carbon/carbon-for-aem/version/v0.12.0/link-list-item.min.js\" type=\"module\"></script>,\n",
              " <script src=\"https://1.www.s81c.com/common/carbon/carbon-for-aem/version/v0.12.0/paragraph.min.js\" type=\"module\"></script>,\n",
              " <script src=\"https://1.www.s81c.com/common/carbon/carbon-for-aem/version/v0.12.0/heading.min.js\" type=\"module\"></script>,\n",
              " <script src=\"https://1.www.s81c.com/common/carbon/carbon-for-aem/version/v0.12.0/heading.min.js\" type=\"module\"></script>,\n",
              " <script src=\"https://1.www.s81c.com/common/carbon/web-components/version/v1.38.0/tag.min.js\" type=\"module\"></script>,\n",
              " <script src=\"https://1.www.s81c.com/common/carbon/carbon-for-aem/version/v0.12.0/tile.min.js\" type=\"module\"></script>,\n",
              " <script src=\"https://1.www.s81c.com/common/carbon/web-components/version/v1.38.0/tag.min.js\" type=\"module\"></script>,\n",
              " <script src=\"https://1.www.s81c.com/common/carbon/carbon-for-aem/version/v0.12.0/tile.min.js\" type=\"module\"></script>,\n",
              " <script src=\"https://1.www.s81c.com/common/carbon/web-components/version/v1.38.0/tag.min.js\" type=\"module\"></script>,\n",
              " <script src=\"https://1.www.s81c.com/common/carbon/carbon-for-aem/version/v0.12.0/tile.min.js\" type=\"module\"></script>,\n",
              " <script src=\"https://1.www.s81c.com/common/carbon/web-components/version/v1.38.0/tag.min.js\" type=\"module\"></script>,\n",
              " <script src=\"https://1.www.s81c.com/common/carbon/carbon-for-aem/version/v0.12.0/tile.min.js\" type=\"module\"></script>,\n",
              " <script src=\"https://1.www.s81c.com/common/carbon/carbon-for-aem/version/v0.12.0/tile.min.js\" type=\"module\"></script>,\n",
              " <script src=\"https://1.www.s81c.com/common/carbon/carbon-for-aem/version/v0.12.0/paragraph.min.js\" type=\"module\"></script>,\n",
              " <script src=\"https://1.www.s81c.com/common/carbon/carbon-for-aem/version/v0.12.0/heading.min.js\" type=\"module\"></script>,\n",
              " <script src=\"https://1.www.s81c.com/common/carbon/carbon-for-aem/version/v0.12.0/intro-section.min.js\" type=\"module\"></script>,\n",
              " <script src=\"https://1.www.s81c.com/common/carbon/carbon-for-aem/version/v0.12.0/brand-cta-section.min.js\" type=\"module\"></script>,\n",
              " <script src=\"https://1.www.s81c.com/common/carbon/carbon-for-aem/version/v0.12.0/card.min.js\" type=\"module\"></script>,\n",
              " <script src=\"https://1.www.s81c.com/common/carbon/carbon-for-aem/version/v0.12.0/card.min.js\" type=\"module\"></script>,\n",
              " <script src=\"https://1.www.s81c.com/common/carbon/carbon-for-aem/version/v0.12.0/card.min.js\" type=\"module\"></script>,\n",
              " <script src=\"https://1.www.s81c.com/common/carbon/carbon-for-aem/version/v0.12.0/card.min.js\" type=\"module\"></script>,\n",
              " <script src=\"https://1.www.s81c.com/common/carbon/carbon-for-aem/version/v0.12.0/card.min.js\" type=\"module\"></script>,\n",
              " <script src=\"https://1.www.s81c.com/common/carbon/carbon-for-aem/version/v0.12.0/card.min.js\" type=\"module\"></script>,\n",
              " <script src=\"https://1.www.s81c.com/common/carbon/carbon-for-aem/version/v0.12.0/card.min.js\" type=\"module\"></script>,\n",
              " <script src=\"https://1.www.s81c.com/common/carbon/carbon-for-aem/version/v0.12.0/card.min.js\" type=\"module\"></script>,\n",
              " <script src=\"https://1.www.s81c.com/common/carbon/carbon-for-aem/version/v0.12.0/card-group.min.js\" type=\"module\"></script>,\n",
              " <script src=\"https://1.www.s81c.com/common/carbon/carbon-for-aem/version/v0.12.0/paragraph.min.js\" type=\"module\"></script>,\n",
              " <script src=\"https://1.www.s81c.com/common/carbon/carbon-for-aem/version/v0.12.0/heading.min.js\" type=\"module\"></script>,\n",
              " <script src=\"https://1.www.s81c.com/common/carbon/carbon-for-aem/version/v0.12.0/intro-section.min.js\" type=\"module\"></script>,\n",
              " <script src=\"https://1.www.s81c.com/common/carbon/carbon-for-aem/version/v0.12.0/brand-cta-section.min.js\" type=\"module\"></script>,\n",
              " <script src=\"https://1.www.s81c.com/common/carbon/carbon-for-aem/version/v0.12.0/video-player.min.js\" type=\"module\"></script>,\n",
              " <script src=\"https://1.www.s81c.com/common/carbon/carbon-for-aem/version/v0.12.0/paragraph.min.js\" type=\"module\"></script>,\n",
              " <script src=\"https://1.www.s81c.com/common/carbon/carbon-for-aem/version/v0.12.0/heading.min.js\" type=\"module\"></script>,\n",
              " <script src=\"https://1.www.s81c.com/common/carbon/carbon-for-aem/version/v0.12.0/intro-section.min.js\" type=\"module\"></script>,\n",
              " <script src=\"https://1.www.s81c.com/common/carbon/carbon-for-aem/version/v0.12.0/brand-cta-section.min.js\" type=\"module\"></script>,\n",
              " <script src=\"/etc.clientlibs/adobe-cms/clientlibs/clientlib-idlBundle.lc-4bae31b99537c2ee96cf1ed43fafeebd-lc.min.js\"></script>,\n",
              " <script src=\"/etc.clientlibs/adobe-cms/clientlibs/clientlib-target-antiflicker.lc-36a1efb28e947b5873f4a28c2cf9d5eb-lc.min.js\"></script>,\n",
              " <script src=\"/etc.clientlibs/adobe-cms/clientlibs/clientlib-idlWebComponents.lc-1634c1c7703d696b654eafb73690274c-lc.min.js\"></script>,\n",
              " <script src=\"/etc.clientlibs/adobe-cms/clientlibs/clientlib-idlStyles.lc-bc0a2deb8de4742631d91b2ec0afdd03-lc.min.js\"></script>,\n",
              " <script async=\"\" defer=\"\" src=\"https://www.ibm.com/common/digitaladvisor/cm-app/latest/cm-app.min.js\"></script>,\n",
              " <script src=\"https://1.www.s81c.com/common/carbon-for-ibm-dotcom/version/v1.42.0/footer.min.js\" type=\"module\"></script>,\n",
              " <script src=\"https://1.www.s81c.com/common/carbon-for-ibm-dotcom/version/v1.42.0/card.min.js\" type=\"module\"></script>,\n",
              " <script src=\"https://1.www.s81c.com/common/carbon-for-ibm-dotcom/version/v1.42.0/card-group.min.js\" type=\"module\"></script>,\n",
              " <script src=\"https://1.www.s81c.com/common/carbon-for-ibm-dotcom/version/v1.42.0/image.min.js\" type=\"module\"></script>,\n",
              " <script src=\"https://1.www.s81c.com/common/carbon-for-ibm-dotcom/version/v1.42.0/content-block.min.js\" type=\"module\"></script>,\n",
              " <script src=\"https://1.www.s81c.com/common/carbon-for-ibm-dotcom/version/v1.42.0/link-list.min.js\" type=\"module\"></script>,\n",
              " <script src=\"https://1.www.s81c.com/common/carbon-for-ibm-dotcom/version/v1.42.0/link-list-item-cta.js\" type=\"module\"></script>,\n",
              " <script src=\"https://1.www.s81c.com/common/carbon-for-ibm-dotcom/version/v1.42.0/table-of-contents.min.js\" type=\"module\"></script>,\n",
              " <script src=\"https://1.www.s81c.com/common/carbon-for-ibm-dotcom/version/v1.42.0/card-in-card.min.js\" type=\"module\"></script>,\n",
              " <script src=\"https://1.www.s81c.com/common/carbon-for-ibm-dotcom/version/v1.42.0/card-cta-footer.js\" type=\"module\"></script>,\n",
              " <script src=\"https://1.www.s81c.com/common/carbon-for-ibm-dotcom/version/v1.42.0/tag-group.min.js\" type=\"module\"></script>,\n",
              " <script src=\"https://1.www.s81c.com/common/carbon-for-ibm-dotcom/version/v1.42.0/button-cta.js\" type=\"module\"></script>,\n",
              " <script src=\"https://1.www.s81c.com/common/carbon-for-ibm-dotcom/version/v1.42.0/content-group-heading.js\" type=\"module\"></script>,\n",
              " <script src=\"https://1.www.s81c.com/common/carbon-for-ibm-dotcom/version/v1.42.0/link-list.js\" type=\"module\"></script>,\n",
              " <script src=\"https://1.www.s81c.com/common/carbon-for-ibm-dotcom/version/v1.42.0/lightbox-video-player.min.js\" type=\"module\"></script>,\n",
              " <script src=\"https://1.www.s81c.com/common/carbon-for-ibm-dotcom/version/v1.42.0/feature-section.min.js\" type=\"module\"></script>,\n",
              " <script src=\"https://1.www.s81c.com/common/carbon-for-ibm-dotcom/version/v1.42.0/content-block-cards.min.js\" type=\"module\"></script>,\n",
              " <script src=\"https://1.www.s81c.com/common/carbon-for-ibm-dotcom/version/v1.42.0/content-group.min.js\" type=\"module\"></script>,\n",
              " <script src=\"https://1.www.s81c.com/common/carbon-for-ibm-dotcom/version/v1.42.0/video-cta-container.min.js\" type=\"module\"></script>,\n",
              " <script src=\"https://1.www.s81c.com/common/carbon/carbon-for-aem/version/v0.12.0/leadspace.min.js\" type=\"module\"></script>,\n",
              " <script src=\"/jYGG0D/rUbO/B/Y/Xa5oh9r2gBFEXvo/f7rY6NmfDkmY/GSkCcA/OxovOG/gfRDc\" type=\"text/javascript\"></script>,\n",
              " <script async=\"\" defer=\"\" src=\"/_sec/cp_challenge/sec-cpt-4-4.js\"></script>]"
            ]
          },
          "metadata": {},
          "execution_count": 124
        }
      ]
    },
    {
      "cell_type": "markdown",
      "metadata": {
        "id": "5689d706-6a61-4638-95e2-16ec91a83c13"
      },
      "source": [
        "### Scrape all images Tags\n"
      ]
    },
    {
      "cell_type": "code",
      "metadata": {
        "id": "91ada420-f7a1-47b4-a11a-4ea77cb3d967"
      },
      "outputs": [],
      "source": [
        "for link in soup.find_all('img'):  # in html image is represented by the tag <img>\n",
        "    print(link)\n",
        "    print(link.get('src'))"
      ],
      "execution_count": 93
    },
    {
      "cell_type": "markdown",
      "metadata": {
        "id": "805d8f70-1982-4c83-b38e-87cf8cd72e44"
      },
      "source": [
        "### Scrape data from HTML tables\n"
      ]
    },
    {
      "cell_type": "code",
      "metadata": {
        "id": "69cb823f-a6d2-4282-b283-5d0840346397"
      },
      "outputs": [],
      "source": [
        "# The below url contains an html table with data about colors and color codes.\n",
        "url = \"https://cf-courses-data.s3.us.cloud-object-storage.appdomain.cloud/IBM-DA0321EN-SkillsNetwork/labs/datasets/HTMLColorCodes.html\""
      ],
      "execution_count": 81
    },
    {
      "cell_type": "markdown",
      "metadata": {
        "id": "a333df2c-61c0-49e3-b908-e2f68a926de2"
      },
      "source": [
        "Before proceeding to scrape a web site, you need to examine the contents and the way data is organized on the website. Open the above url in your browser and check how many rows and columns there are in the color table.\n"
      ]
    },
    {
      "cell_type": "code",
      "metadata": {
        "id": "f7faed60-b200-452b-994a-f7b0c9ed5ccd"
      },
      "outputs": [],
      "source": [
        "# get the contents of the webpage in text format and store in a variable called data\n",
        "data = requests.get(url).text"
      ],
      "execution_count": 82
    },
    {
      "cell_type": "code",
      "metadata": {
        "id": "1f6e2def-94c7-442a-afe4-4561b34ac062"
      },
      "outputs": [],
      "source": [
        "soup = BeautifulSoup(data, \"html5lib\")"
      ],
      "execution_count": 83
    },
    {
      "cell_type": "code",
      "metadata": {
        "id": "1bba8b70-9e07-4ec2-a860-9e0dc04ed77e"
      },
      "outputs": [],
      "source": [
        "# find a html table in the web page\n",
        "table = soup.find('table')  # in html table is represented by the tag <table>"
      ],
      "execution_count": 84
    },
    {
      "cell_type": "code",
      "source": [
        "# check against the webpage\n",
        "print(table)"
      ],
      "metadata": {
        "id": "JJCCiqahFTJf",
        "outputId": "9f447999-8378-4b27-9b03-201b839ee57d",
        "colab": {
          "base_uri": "https://localhost:8080/"
        }
      },
      "execution_count": 87,
      "outputs": [
        {
          "output_type": "stream",
          "name": "stdout",
          "text": [
            "<table border=\"1\" class=\"main-table\">\n",
            "   <tbody><tr>\n",
            "      <td>Number </td>\n",
            "      <td>Color</td>\n",
            "      <td>Color Name</td>\n",
            "      <td>Hex Code<br/>#RRGGBB</td>\n",
            "      <td>Decimal Code<br/>(R,G,B)</td>\n",
            "   </tr>\n",
            "   <tr>\n",
            "      <td>1</td>\n",
            "      <td style=\"background:lightsalmon;\"> </td>\n",
            "      <td>lightsalmon</td>\n",
            "      <td>#FFA07A</td>\n",
            "      <td>rgb(255,160,122)</td>\n",
            "   </tr>\n",
            "   <tr>\n",
            "      <td>2</td>\n",
            "      <td style=\"background:salmon;\"> </td>\n",
            "      <td>salmon</td>\n",
            "      <td>#FA8072</td>\n",
            "      <td>rgb(250,128,114)</td>\n",
            "   </tr>\n",
            "   <tr>\n",
            "      <td>3</td>\n",
            "      <td style=\"background:darksalmon;\"> </td>\n",
            "      <td>darksalmon</td>\n",
            "      <td>#E9967A</td>\n",
            "      <td>rgb(233,150,122)</td>\n",
            "   </tr>\n",
            "   <tr>\n",
            "      <td>4</td>\n",
            "      <td style=\"background:lightcoral;\"> </td>\n",
            "      <td>lightcoral</td>\n",
            "      <td>#F08080</td>\n",
            "      <td>rgb(240,128,128)</td>\n",
            "   </tr>\n",
            "   <tr>\n",
            "      <td>5</td>\n",
            "      <td style=\"background:coral;\"> </td>\n",
            "      <td>coral</td>\n",
            "      <td>#FF7F50</td>\n",
            "      <td>rgb(255,127,80)</td>\n",
            "   </tr>\n",
            "   <tr>\n",
            "      <td>6</td>\n",
            "      <td style=\"background:tomato;\"> </td>\n",
            "      <td>tomato</td>\n",
            "      <td>#FF6347</td>\n",
            "      <td>rgb(255,99,71)</td>\n",
            "   </tr>\n",
            "   <tr>\n",
            "      <td>7</td>\n",
            "      <td style=\"background:orangered;\"> </td>\n",
            "      <td>orangered</td>\n",
            "      <td>#FF4500</td>\n",
            "      <td>rgb(255,69,0)</td>\n",
            "   </tr>\n",
            "   <tr>\n",
            "      <td>8</td>\n",
            "      <td style=\"background:gold;\"> </td>\n",
            "      <td>gold</td>\n",
            "      <td>#FFD700</td>\n",
            "      <td>rgb(255,215,0)</td>\n",
            "   </tr>\n",
            "   <tr>\n",
            "      <td>9</td>\n",
            "      <td style=\"background:orange;\"> </td>\n",
            "      <td>orange</td>\n",
            "      <td>#FFA500</td>\n",
            "      <td>rgb(255,165,0)</td>\n",
            "   </tr>\n",
            "   <tr>\n",
            "      <td>10</td>\n",
            "      <td style=\"background:darkorange;\"> </td>\n",
            "      <td>darkorange</td>\n",
            "      <td>#FF8C00</td>\n",
            "      <td>rgb(255,140,0)</td>\n",
            "   </tr>\n",
            "   <tr>\n",
            "      <td>11</td>\n",
            "      <td style=\"background:lightyellow;\"> </td>\n",
            "      <td>lightyellow</td>\n",
            "      <td>#FFFFE0</td>\n",
            "      <td>rgb(255,255,224)</td>\n",
            "   </tr>\n",
            "   <tr>\n",
            "      <td>12</td>\n",
            "      <td style=\"background:lemonchiffon;\"> </td>\n",
            "      <td>lemonchiffon</td>\n",
            "      <td>#FFFACD</td>\n",
            "      <td>rgb(255,250,205)</td>\n",
            "   </tr>\n",
            "   <tr>\n",
            "      <td>13</td>\n",
            "      <td style=\"background:papayawhip;\"> </td>\n",
            "      <td>papayawhip</td>\n",
            "      <td>#FFEFD5</td>\n",
            "      <td>rgb(255,239,213)</td>\n",
            "   </tr>\n",
            "   <tr>\n",
            "      <td>14</td>\n",
            "      <td style=\"background:moccasin;\"> </td>\n",
            "      <td>moccasin</td>\n",
            "      <td>#FFE4B5</td>\n",
            "      <td>rgb(255,228,181)</td>\n",
            "   </tr>\n",
            "   <tr>\n",
            "      <td>15</td>\n",
            "      <td style=\"background:peachpuff;\"> </td>\n",
            "      <td>peachpuff</td>\n",
            "      <td>#FFDAB9</td>\n",
            "      <td>rgb(255,218,185)</td>\n",
            "   </tr>\n",
            "   <tr>\n",
            "      <td>16</td>\n",
            "      <td style=\"background:palegoldenrod;\"> </td>\n",
            "      <td>palegoldenrod</td>\n",
            "      <td>#EEE8AA</td>\n",
            "      <td>rgb(238,232,170)</td>\n",
            "   </tr>\n",
            "   <tr>\n",
            "      <td>17</td>\n",
            "      <td style=\"background:khaki;\"> </td>\n",
            "      <td>khaki</td>\n",
            "      <td>#F0E68C</td>\n",
            "      <td>rgb(240,230,140)</td>\n",
            "   </tr>\n",
            "   <tr>\n",
            "      <td>18</td>\n",
            "      <td style=\"background:darkkhaki;\"> </td>\n",
            "      <td>darkkhaki</td>\n",
            "      <td>#BDB76B</td>\n",
            "      <td>rgb(189,183,107)</td>\n",
            "   </tr>\n",
            "   <tr>\n",
            "      <td>19</td>\n",
            "      <td style=\"background:yellow;\"> </td>\n",
            "      <td>yellow</td>\n",
            "      <td>#FFFF00</td>\n",
            "      <td>rgb(255,255,0)</td>\n",
            "   </tr>\n",
            "   <tr>\n",
            "      <td>20</td>\n",
            "      <td style=\"background:lawngreen;\"> </td>\n",
            "      <td>lawngreen</td>\n",
            "      <td>#7CFC00</td>\n",
            "      <td>rgb(124,252,0)</td>\n",
            "   </tr>\n",
            "   <tr>\n",
            "      <td>21</td>\n",
            "      <td style=\"background:chartreuse;\"> </td>\n",
            "      <td>chartreuse</td>\n",
            "      <td>#7FFF00</td>\n",
            "      <td>rgb(127,255,0)</td>\n",
            "   </tr>\n",
            "   <tr>\n",
            "      <td>22</td>\n",
            "      <td style=\"background:limegreen;\"> </td>\n",
            "      <td>limegreen</td>\n",
            "      <td>#32CD32</td>\n",
            "      <td>rgb(50,205,50)</td>\n",
            "   </tr>\n",
            "   <tr>\n",
            "      <td>23</td>\n",
            "      <td style=\"background:lime;\"> </td>\n",
            "      <td>lime</td>\n",
            "      <td>#00FF00</td>\n",
            "      <td>rgb(0.255.0)</td>\n",
            "   </tr>\n",
            "   <tr>\n",
            "      <td>24</td>\n",
            "      <td style=\"background:forestgreen;\"> </td>\n",
            "      <td>forestgreen</td>\n",
            "      <td>#228B22</td>\n",
            "      <td>rgb(34,139,34)</td>\n",
            "   </tr>\n",
            "   <tr>\n",
            "      <td>25</td>\n",
            "      <td style=\"background:green;\"> </td>\n",
            "      <td>green</td>\n",
            "      <td>#008000</td>\n",
            "      <td>rgb(0,128,0)</td>\n",
            "   </tr>\n",
            "   <tr>\n",
            "      <td>26</td>\n",
            "      <td style=\"background:powderblue;\"> </td>\n",
            "      <td>powderblue</td>\n",
            "      <td>#B0E0E6</td>\n",
            "      <td>rgb(176,224,230)</td>\n",
            "   </tr>\n",
            "   <tr>\n",
            "      <td>27</td>\n",
            "      <td style=\"background:lightblue;\"> </td>\n",
            "      <td>lightblue</td>\n",
            "      <td>#ADD8E6</td>\n",
            "      <td>rgb(173,216,230)</td>\n",
            "   </tr>\n",
            "   <tr>\n",
            "      <td>28</td>\n",
            "      <td style=\"background:lightskyblue;\"> </td>\n",
            "      <td>lightskyblue</td>\n",
            "      <td>#87CEFA</td>\n",
            "      <td>rgb(135,206,250)</td>\n",
            "   </tr>\n",
            "   <tr>\n",
            "      <td>29</td>\n",
            "      <td style=\"background:skyblue;\"> </td>\n",
            "      <td>skyblue</td>\n",
            "      <td>#87CEEB</td>\n",
            "      <td>rgb(135,206,235)</td>\n",
            "   </tr>\n",
            "   <tr>\n",
            "      <td>30</td>\n",
            "      <td style=\"background:deepskyblue;\"> </td>\n",
            "      <td>deepskyblue</td>\n",
            "      <td>#00BFFF</td>\n",
            "      <td>rgb(0,191,255)</td>\n",
            "   </tr>\n",
            "   <tr>\n",
            "      <td>31</td>\n",
            "      <td style=\"background:lightsteelblue;\"> </td>\n",
            "      <td>lightsteelblue</td>\n",
            "      <td>#B0C4DE</td>\n",
            "      <td>rgb(176,196,222)</td>\n",
            "   </tr>\n",
            "   <tr>\n",
            "      <td>32</td>\n",
            "      <td style=\"background:dodgerblue;\"> </td>\n",
            "      <td>dodgerblue</td>\n",
            "      <td>#1E90FF</td>\n",
            "      <td>rgb(30,144,255)</td>\n",
            "   </tr>\n",
            "</tbody></table>\n"
          ]
        }
      ]
    },
    {
      "cell_type": "code",
      "metadata": {
        "id": "d95da277-5f8b-4d54-9131-14d52f283167",
        "outputId": "481d7c39-6d27-4f8d-94fb-54c1818d5b2f",
        "colab": {
          "base_uri": "https://localhost:8080/"
        }
      },
      "outputs": [
        {
          "output_type": "stream",
          "name": "stdout",
          "text": [
            "Color Name--->Hex Code#RRGGBB\n",
            "lightsalmon--->#FFA07A\n",
            "salmon--->#FA8072\n",
            "darksalmon--->#E9967A\n",
            "lightcoral--->#F08080\n",
            "coral--->#FF7F50\n",
            "tomato--->#FF6347\n",
            "orangered--->#FF4500\n",
            "gold--->#FFD700\n",
            "orange--->#FFA500\n",
            "darkorange--->#FF8C00\n",
            "lightyellow--->#FFFFE0\n",
            "lemonchiffon--->#FFFACD\n",
            "papayawhip--->#FFEFD5\n",
            "moccasin--->#FFE4B5\n",
            "peachpuff--->#FFDAB9\n",
            "palegoldenrod--->#EEE8AA\n",
            "khaki--->#F0E68C\n",
            "darkkhaki--->#BDB76B\n",
            "yellow--->#FFFF00\n",
            "lawngreen--->#7CFC00\n",
            "chartreuse--->#7FFF00\n",
            "limegreen--->#32CD32\n",
            "lime--->#00FF00\n",
            "forestgreen--->#228B22\n",
            "green--->#008000\n",
            "powderblue--->#B0E0E6\n",
            "lightblue--->#ADD8E6\n",
            "lightskyblue--->#87CEFA\n",
            "skyblue--->#87CEEB\n",
            "deepskyblue--->#00BFFF\n",
            "lightsteelblue--->#B0C4DE\n",
            "dodgerblue--->#1E90FF\n"
          ]
        }
      ],
      "source": [
        "# Get all rows from the table\n",
        "for row in table.find_all('tr'):  # in html table row represented by tag <tr>\n",
        "    # Get all columns in each row.\n",
        "    cols = row.find_all('td')  # in html a column is represented by tag <td>\n",
        "    color_name = cols[2].string  # store the value in column 3 as color_name\n",
        "    color_code = cols[3].text  # store the value in column 4 as color_code\n",
        "    print(\"{}--->{}\".format(color_name, color_code))"
      ],
      "execution_count": 85
    },
    {
      "cell_type": "markdown",
      "metadata": {
        "id": "a130b502-3880-49c0-aff5-f226fa692f5a"
      },
      "source": [
        "## Scraping tables from a Web page using Pandas\n"
      ]
    },
    {
      "cell_type": "markdown",
      "metadata": {
        "id": "0265e0d7-4296-45ba-83be-8a9bf540ac30"
      },
      "source": [
        "Particularly for extracting tabular data from a web page, you may also use the `read_html()` method of the Pandas library.\n"
      ]
    },
    {
      "cell_type": "code",
      "metadata": {
        "id": "a59fe0e2-afb1-4a56-b616-03ad20976295"
      },
      "outputs": [],
      "source": [
        "# The below url contains an html table with data about colors and color codes.\n",
        "url = \"https://cf-courses-data.s3.us.cloud-object-storage.appdomain.cloud/IBM-DA0321EN-SkillsNetwork/labs/datasets/HTMLColorCodes.html\""
      ],
      "execution_count": 88
    },
    {
      "cell_type": "markdown",
      "metadata": {
        "id": "0bbb95b4-d992-4a6e-b752-ce78d5e7208e"
      },
      "source": [
        "You may extract all the tables from the given webpage simply by using the following commands.\n"
      ]
    },
    {
      "cell_type": "code",
      "metadata": {
        "id": "d0963c14-2bf5-4260-9963-02e1686b50e6",
        "outputId": "37f3b29c-7433-460c-8097-d7140321338c",
        "colab": {
          "base_uri": "https://localhost:8080/"
        }
      },
      "outputs": [
        {
          "output_type": "execute_result",
          "data": {
            "text/plain": [
              "[         0      1               2                 3                     4\n",
              " 0   Number  Color      Color Name  Hex Code #RRGGBB  Decimal Code (R,G,B)\n",
              " 1        1    NaN     lightsalmon           #FFA07A      rgb(255,160,122)\n",
              " 2        2    NaN          salmon           #FA8072      rgb(250,128,114)\n",
              " 3        3    NaN      darksalmon           #E9967A      rgb(233,150,122)\n",
              " 4        4    NaN      lightcoral           #F08080      rgb(240,128,128)\n",
              " 5        5    NaN           coral           #FF7F50       rgb(255,127,80)\n",
              " 6        6    NaN          tomato           #FF6347        rgb(255,99,71)\n",
              " 7        7    NaN       orangered           #FF4500         rgb(255,69,0)\n",
              " 8        8    NaN            gold           #FFD700        rgb(255,215,0)\n",
              " 9        9    NaN          orange           #FFA500        rgb(255,165,0)\n",
              " 10      10    NaN      darkorange           #FF8C00        rgb(255,140,0)\n",
              " 11      11    NaN     lightyellow           #FFFFE0      rgb(255,255,224)\n",
              " 12      12    NaN    lemonchiffon           #FFFACD      rgb(255,250,205)\n",
              " 13      13    NaN      papayawhip           #FFEFD5      rgb(255,239,213)\n",
              " 14      14    NaN        moccasin           #FFE4B5      rgb(255,228,181)\n",
              " 15      15    NaN       peachpuff           #FFDAB9      rgb(255,218,185)\n",
              " 16      16    NaN   palegoldenrod           #EEE8AA      rgb(238,232,170)\n",
              " 17      17    NaN           khaki           #F0E68C      rgb(240,230,140)\n",
              " 18      18    NaN       darkkhaki           #BDB76B      rgb(189,183,107)\n",
              " 19      19    NaN          yellow           #FFFF00        rgb(255,255,0)\n",
              " 20      20    NaN       lawngreen           #7CFC00        rgb(124,252,0)\n",
              " 21      21    NaN      chartreuse           #7FFF00        rgb(127,255,0)\n",
              " 22      22    NaN       limegreen           #32CD32        rgb(50,205,50)\n",
              " 23      23    NaN            lime           #00FF00          rgb(0.255.0)\n",
              " 24      24    NaN     forestgreen           #228B22        rgb(34,139,34)\n",
              " 25      25    NaN           green           #008000          rgb(0,128,0)\n",
              " 26      26    NaN      powderblue           #B0E0E6      rgb(176,224,230)\n",
              " 27      27    NaN       lightblue           #ADD8E6      rgb(173,216,230)\n",
              " 28      28    NaN    lightskyblue           #87CEFA      rgb(135,206,250)\n",
              " 29      29    NaN         skyblue           #87CEEB      rgb(135,206,235)\n",
              " 30      30    NaN     deepskyblue           #00BFFF        rgb(0,191,255)\n",
              " 31      31    NaN  lightsteelblue           #B0C4DE      rgb(176,196,222)\n",
              " 32      32    NaN      dodgerblue           #1E90FF       rgb(30,144,255)]"
            ]
          },
          "metadata": {},
          "execution_count": 89
        }
      ],
      "source": [
        "import pandas as pd\n",
        "\n",
        "tables = pd.read_html(url)\n",
        "tables"
      ],
      "execution_count": 89
    },
    {
      "cell_type": "markdown",
      "metadata": {
        "id": "feaee2b7-b239-44ba-9931-85587f711b9f"
      },
      "source": [
        "`tables` is now a list of dataframes representing the tables from the web page, in the sequence of their appearance. In the current  URL, there is only a single table, so the same can be accessed as shown below.\n"
      ]
    },
    {
      "cell_type": "code",
      "metadata": {
        "id": "c31900a5-6d2c-4317-b80e-bfc20a84dbd6",
        "outputId": "e4c5fb27-3871-4f61-ec58-6906c7b5b081",
        "colab": {
          "base_uri": "https://localhost:8080/",
          "height": 1000
        }
      },
      "outputs": [
        {
          "output_type": "execute_result",
          "data": {
            "text/plain": [
              "         0      1               2                 3                     4\n",
              "0   Number  Color      Color Name  Hex Code #RRGGBB  Decimal Code (R,G,B)\n",
              "1        1    NaN     lightsalmon           #FFA07A      rgb(255,160,122)\n",
              "2        2    NaN          salmon           #FA8072      rgb(250,128,114)\n",
              "3        3    NaN      darksalmon           #E9967A      rgb(233,150,122)\n",
              "4        4    NaN      lightcoral           #F08080      rgb(240,128,128)\n",
              "5        5    NaN           coral           #FF7F50       rgb(255,127,80)\n",
              "6        6    NaN          tomato           #FF6347        rgb(255,99,71)\n",
              "7        7    NaN       orangered           #FF4500         rgb(255,69,0)\n",
              "8        8    NaN            gold           #FFD700        rgb(255,215,0)\n",
              "9        9    NaN          orange           #FFA500        rgb(255,165,0)\n",
              "10      10    NaN      darkorange           #FF8C00        rgb(255,140,0)\n",
              "11      11    NaN     lightyellow           #FFFFE0      rgb(255,255,224)\n",
              "12      12    NaN    lemonchiffon           #FFFACD      rgb(255,250,205)\n",
              "13      13    NaN      papayawhip           #FFEFD5      rgb(255,239,213)\n",
              "14      14    NaN        moccasin           #FFE4B5      rgb(255,228,181)\n",
              "15      15    NaN       peachpuff           #FFDAB9      rgb(255,218,185)\n",
              "16      16    NaN   palegoldenrod           #EEE8AA      rgb(238,232,170)\n",
              "17      17    NaN           khaki           #F0E68C      rgb(240,230,140)\n",
              "18      18    NaN       darkkhaki           #BDB76B      rgb(189,183,107)\n",
              "19      19    NaN          yellow           #FFFF00        rgb(255,255,0)\n",
              "20      20    NaN       lawngreen           #7CFC00        rgb(124,252,0)\n",
              "21      21    NaN      chartreuse           #7FFF00        rgb(127,255,0)\n",
              "22      22    NaN       limegreen           #32CD32        rgb(50,205,50)\n",
              "23      23    NaN            lime           #00FF00          rgb(0.255.0)\n",
              "24      24    NaN     forestgreen           #228B22        rgb(34,139,34)\n",
              "25      25    NaN           green           #008000          rgb(0,128,0)\n",
              "26      26    NaN      powderblue           #B0E0E6      rgb(176,224,230)\n",
              "27      27    NaN       lightblue           #ADD8E6      rgb(173,216,230)\n",
              "28      28    NaN    lightskyblue           #87CEFA      rgb(135,206,250)\n",
              "29      29    NaN         skyblue           #87CEEB      rgb(135,206,235)\n",
              "30      30    NaN     deepskyblue           #00BFFF        rgb(0,191,255)\n",
              "31      31    NaN  lightsteelblue           #B0C4DE      rgb(176,196,222)\n",
              "32      32    NaN      dodgerblue           #1E90FF       rgb(30,144,255)"
            ],
            "text/html": [
              "\n",
              "  <div id=\"df-5c158c7f-ad83-4d5d-b055-48c8990e0d01\" class=\"colab-df-container\">\n",
              "    <div>\n",
              "<style scoped>\n",
              "    .dataframe tbody tr th:only-of-type {\n",
              "        vertical-align: middle;\n",
              "    }\n",
              "\n",
              "    .dataframe tbody tr th {\n",
              "        vertical-align: top;\n",
              "    }\n",
              "\n",
              "    .dataframe thead th {\n",
              "        text-align: right;\n",
              "    }\n",
              "</style>\n",
              "<table border=\"1\" class=\"dataframe\">\n",
              "  <thead>\n",
              "    <tr style=\"text-align: right;\">\n",
              "      <th></th>\n",
              "      <th>0</th>\n",
              "      <th>1</th>\n",
              "      <th>2</th>\n",
              "      <th>3</th>\n",
              "      <th>4</th>\n",
              "    </tr>\n",
              "  </thead>\n",
              "  <tbody>\n",
              "    <tr>\n",
              "      <th>0</th>\n",
              "      <td>Number</td>\n",
              "      <td>Color</td>\n",
              "      <td>Color Name</td>\n",
              "      <td>Hex Code #RRGGBB</td>\n",
              "      <td>Decimal Code (R,G,B)</td>\n",
              "    </tr>\n",
              "    <tr>\n",
              "      <th>1</th>\n",
              "      <td>1</td>\n",
              "      <td>NaN</td>\n",
              "      <td>lightsalmon</td>\n",
              "      <td>#FFA07A</td>\n",
              "      <td>rgb(255,160,122)</td>\n",
              "    </tr>\n",
              "    <tr>\n",
              "      <th>2</th>\n",
              "      <td>2</td>\n",
              "      <td>NaN</td>\n",
              "      <td>salmon</td>\n",
              "      <td>#FA8072</td>\n",
              "      <td>rgb(250,128,114)</td>\n",
              "    </tr>\n",
              "    <tr>\n",
              "      <th>3</th>\n",
              "      <td>3</td>\n",
              "      <td>NaN</td>\n",
              "      <td>darksalmon</td>\n",
              "      <td>#E9967A</td>\n",
              "      <td>rgb(233,150,122)</td>\n",
              "    </tr>\n",
              "    <tr>\n",
              "      <th>4</th>\n",
              "      <td>4</td>\n",
              "      <td>NaN</td>\n",
              "      <td>lightcoral</td>\n",
              "      <td>#F08080</td>\n",
              "      <td>rgb(240,128,128)</td>\n",
              "    </tr>\n",
              "    <tr>\n",
              "      <th>5</th>\n",
              "      <td>5</td>\n",
              "      <td>NaN</td>\n",
              "      <td>coral</td>\n",
              "      <td>#FF7F50</td>\n",
              "      <td>rgb(255,127,80)</td>\n",
              "    </tr>\n",
              "    <tr>\n",
              "      <th>6</th>\n",
              "      <td>6</td>\n",
              "      <td>NaN</td>\n",
              "      <td>tomato</td>\n",
              "      <td>#FF6347</td>\n",
              "      <td>rgb(255,99,71)</td>\n",
              "    </tr>\n",
              "    <tr>\n",
              "      <th>7</th>\n",
              "      <td>7</td>\n",
              "      <td>NaN</td>\n",
              "      <td>orangered</td>\n",
              "      <td>#FF4500</td>\n",
              "      <td>rgb(255,69,0)</td>\n",
              "    </tr>\n",
              "    <tr>\n",
              "      <th>8</th>\n",
              "      <td>8</td>\n",
              "      <td>NaN</td>\n",
              "      <td>gold</td>\n",
              "      <td>#FFD700</td>\n",
              "      <td>rgb(255,215,0)</td>\n",
              "    </tr>\n",
              "    <tr>\n",
              "      <th>9</th>\n",
              "      <td>9</td>\n",
              "      <td>NaN</td>\n",
              "      <td>orange</td>\n",
              "      <td>#FFA500</td>\n",
              "      <td>rgb(255,165,0)</td>\n",
              "    </tr>\n",
              "    <tr>\n",
              "      <th>10</th>\n",
              "      <td>10</td>\n",
              "      <td>NaN</td>\n",
              "      <td>darkorange</td>\n",
              "      <td>#FF8C00</td>\n",
              "      <td>rgb(255,140,0)</td>\n",
              "    </tr>\n",
              "    <tr>\n",
              "      <th>11</th>\n",
              "      <td>11</td>\n",
              "      <td>NaN</td>\n",
              "      <td>lightyellow</td>\n",
              "      <td>#FFFFE0</td>\n",
              "      <td>rgb(255,255,224)</td>\n",
              "    </tr>\n",
              "    <tr>\n",
              "      <th>12</th>\n",
              "      <td>12</td>\n",
              "      <td>NaN</td>\n",
              "      <td>lemonchiffon</td>\n",
              "      <td>#FFFACD</td>\n",
              "      <td>rgb(255,250,205)</td>\n",
              "    </tr>\n",
              "    <tr>\n",
              "      <th>13</th>\n",
              "      <td>13</td>\n",
              "      <td>NaN</td>\n",
              "      <td>papayawhip</td>\n",
              "      <td>#FFEFD5</td>\n",
              "      <td>rgb(255,239,213)</td>\n",
              "    </tr>\n",
              "    <tr>\n",
              "      <th>14</th>\n",
              "      <td>14</td>\n",
              "      <td>NaN</td>\n",
              "      <td>moccasin</td>\n",
              "      <td>#FFE4B5</td>\n",
              "      <td>rgb(255,228,181)</td>\n",
              "    </tr>\n",
              "    <tr>\n",
              "      <th>15</th>\n",
              "      <td>15</td>\n",
              "      <td>NaN</td>\n",
              "      <td>peachpuff</td>\n",
              "      <td>#FFDAB9</td>\n",
              "      <td>rgb(255,218,185)</td>\n",
              "    </tr>\n",
              "    <tr>\n",
              "      <th>16</th>\n",
              "      <td>16</td>\n",
              "      <td>NaN</td>\n",
              "      <td>palegoldenrod</td>\n",
              "      <td>#EEE8AA</td>\n",
              "      <td>rgb(238,232,170)</td>\n",
              "    </tr>\n",
              "    <tr>\n",
              "      <th>17</th>\n",
              "      <td>17</td>\n",
              "      <td>NaN</td>\n",
              "      <td>khaki</td>\n",
              "      <td>#F0E68C</td>\n",
              "      <td>rgb(240,230,140)</td>\n",
              "    </tr>\n",
              "    <tr>\n",
              "      <th>18</th>\n",
              "      <td>18</td>\n",
              "      <td>NaN</td>\n",
              "      <td>darkkhaki</td>\n",
              "      <td>#BDB76B</td>\n",
              "      <td>rgb(189,183,107)</td>\n",
              "    </tr>\n",
              "    <tr>\n",
              "      <th>19</th>\n",
              "      <td>19</td>\n",
              "      <td>NaN</td>\n",
              "      <td>yellow</td>\n",
              "      <td>#FFFF00</td>\n",
              "      <td>rgb(255,255,0)</td>\n",
              "    </tr>\n",
              "    <tr>\n",
              "      <th>20</th>\n",
              "      <td>20</td>\n",
              "      <td>NaN</td>\n",
              "      <td>lawngreen</td>\n",
              "      <td>#7CFC00</td>\n",
              "      <td>rgb(124,252,0)</td>\n",
              "    </tr>\n",
              "    <tr>\n",
              "      <th>21</th>\n",
              "      <td>21</td>\n",
              "      <td>NaN</td>\n",
              "      <td>chartreuse</td>\n",
              "      <td>#7FFF00</td>\n",
              "      <td>rgb(127,255,0)</td>\n",
              "    </tr>\n",
              "    <tr>\n",
              "      <th>22</th>\n",
              "      <td>22</td>\n",
              "      <td>NaN</td>\n",
              "      <td>limegreen</td>\n",
              "      <td>#32CD32</td>\n",
              "      <td>rgb(50,205,50)</td>\n",
              "    </tr>\n",
              "    <tr>\n",
              "      <th>23</th>\n",
              "      <td>23</td>\n",
              "      <td>NaN</td>\n",
              "      <td>lime</td>\n",
              "      <td>#00FF00</td>\n",
              "      <td>rgb(0.255.0)</td>\n",
              "    </tr>\n",
              "    <tr>\n",
              "      <th>24</th>\n",
              "      <td>24</td>\n",
              "      <td>NaN</td>\n",
              "      <td>forestgreen</td>\n",
              "      <td>#228B22</td>\n",
              "      <td>rgb(34,139,34)</td>\n",
              "    </tr>\n",
              "    <tr>\n",
              "      <th>25</th>\n",
              "      <td>25</td>\n",
              "      <td>NaN</td>\n",
              "      <td>green</td>\n",
              "      <td>#008000</td>\n",
              "      <td>rgb(0,128,0)</td>\n",
              "    </tr>\n",
              "    <tr>\n",
              "      <th>26</th>\n",
              "      <td>26</td>\n",
              "      <td>NaN</td>\n",
              "      <td>powderblue</td>\n",
              "      <td>#B0E0E6</td>\n",
              "      <td>rgb(176,224,230)</td>\n",
              "    </tr>\n",
              "    <tr>\n",
              "      <th>27</th>\n",
              "      <td>27</td>\n",
              "      <td>NaN</td>\n",
              "      <td>lightblue</td>\n",
              "      <td>#ADD8E6</td>\n",
              "      <td>rgb(173,216,230)</td>\n",
              "    </tr>\n",
              "    <tr>\n",
              "      <th>28</th>\n",
              "      <td>28</td>\n",
              "      <td>NaN</td>\n",
              "      <td>lightskyblue</td>\n",
              "      <td>#87CEFA</td>\n",
              "      <td>rgb(135,206,250)</td>\n",
              "    </tr>\n",
              "    <tr>\n",
              "      <th>29</th>\n",
              "      <td>29</td>\n",
              "      <td>NaN</td>\n",
              "      <td>skyblue</td>\n",
              "      <td>#87CEEB</td>\n",
              "      <td>rgb(135,206,235)</td>\n",
              "    </tr>\n",
              "    <tr>\n",
              "      <th>30</th>\n",
              "      <td>30</td>\n",
              "      <td>NaN</td>\n",
              "      <td>deepskyblue</td>\n",
              "      <td>#00BFFF</td>\n",
              "      <td>rgb(0,191,255)</td>\n",
              "    </tr>\n",
              "    <tr>\n",
              "      <th>31</th>\n",
              "      <td>31</td>\n",
              "      <td>NaN</td>\n",
              "      <td>lightsteelblue</td>\n",
              "      <td>#B0C4DE</td>\n",
              "      <td>rgb(176,196,222)</td>\n",
              "    </tr>\n",
              "    <tr>\n",
              "      <th>32</th>\n",
              "      <td>32</td>\n",
              "      <td>NaN</td>\n",
              "      <td>dodgerblue</td>\n",
              "      <td>#1E90FF</td>\n",
              "      <td>rgb(30,144,255)</td>\n",
              "    </tr>\n",
              "  </tbody>\n",
              "</table>\n",
              "</div>\n",
              "    <div class=\"colab-df-buttons\">\n",
              "\n",
              "  <div class=\"colab-df-container\">\n",
              "    <button class=\"colab-df-convert\" onclick=\"convertToInteractive('df-5c158c7f-ad83-4d5d-b055-48c8990e0d01')\"\n",
              "            title=\"Convert this dataframe to an interactive table.\"\n",
              "            style=\"display:none;\">\n",
              "\n",
              "  <svg xmlns=\"http://www.w3.org/2000/svg\" height=\"24px\" viewBox=\"0 -960 960 960\">\n",
              "    <path d=\"M120-120v-720h720v720H120Zm60-500h600v-160H180v160Zm220 220h160v-160H400v160Zm0 220h160v-160H400v160ZM180-400h160v-160H180v160Zm440 0h160v-160H620v160ZM180-180h160v-160H180v160Zm440 0h160v-160H620v160Z\"/>\n",
              "  </svg>\n",
              "    </button>\n",
              "\n",
              "  <style>\n",
              "    .colab-df-container {\n",
              "      display:flex;\n",
              "      gap: 12px;\n",
              "    }\n",
              "\n",
              "    .colab-df-convert {\n",
              "      background-color: #E8F0FE;\n",
              "      border: none;\n",
              "      border-radius: 50%;\n",
              "      cursor: pointer;\n",
              "      display: none;\n",
              "      fill: #1967D2;\n",
              "      height: 32px;\n",
              "      padding: 0 0 0 0;\n",
              "      width: 32px;\n",
              "    }\n",
              "\n",
              "    .colab-df-convert:hover {\n",
              "      background-color: #E2EBFA;\n",
              "      box-shadow: 0px 1px 2px rgba(60, 64, 67, 0.3), 0px 1px 3px 1px rgba(60, 64, 67, 0.15);\n",
              "      fill: #174EA6;\n",
              "    }\n",
              "\n",
              "    .colab-df-buttons div {\n",
              "      margin-bottom: 4px;\n",
              "    }\n",
              "\n",
              "    [theme=dark] .colab-df-convert {\n",
              "      background-color: #3B4455;\n",
              "      fill: #D2E3FC;\n",
              "    }\n",
              "\n",
              "    [theme=dark] .colab-df-convert:hover {\n",
              "      background-color: #434B5C;\n",
              "      box-shadow: 0px 1px 3px 1px rgba(0, 0, 0, 0.15);\n",
              "      filter: drop-shadow(0px 1px 2px rgba(0, 0, 0, 0.3));\n",
              "      fill: #FFFFFF;\n",
              "    }\n",
              "  </style>\n",
              "\n",
              "    <script>\n",
              "      const buttonEl =\n",
              "        document.querySelector('#df-5c158c7f-ad83-4d5d-b055-48c8990e0d01 button.colab-df-convert');\n",
              "      buttonEl.style.display =\n",
              "        google.colab.kernel.accessAllowed ? 'block' : 'none';\n",
              "\n",
              "      async function convertToInteractive(key) {\n",
              "        const element = document.querySelector('#df-5c158c7f-ad83-4d5d-b055-48c8990e0d01');\n",
              "        const dataTable =\n",
              "          await google.colab.kernel.invokeFunction('convertToInteractive',\n",
              "                                                    [key], {});\n",
              "        if (!dataTable) return;\n",
              "\n",
              "        const docLinkHtml = 'Like what you see? Visit the ' +\n",
              "          '<a target=\"_blank\" href=https://colab.research.google.com/notebooks/data_table.ipynb>data table notebook</a>'\n",
              "          + ' to learn more about interactive tables.';\n",
              "        element.innerHTML = '';\n",
              "        dataTable['output_type'] = 'display_data';\n",
              "        await google.colab.output.renderOutput(dataTable, element);\n",
              "        const docLink = document.createElement('div');\n",
              "        docLink.innerHTML = docLinkHtml;\n",
              "        element.appendChild(docLink);\n",
              "      }\n",
              "    </script>\n",
              "  </div>\n",
              "\n",
              "\n",
              "<div id=\"df-cb521ec3-b169-4be8-9fe2-90cd59b95740\">\n",
              "  <button class=\"colab-df-quickchart\" onclick=\"quickchart('df-cb521ec3-b169-4be8-9fe2-90cd59b95740')\"\n",
              "            title=\"Suggest charts\"\n",
              "            style=\"display:none;\">\n",
              "\n",
              "<svg xmlns=\"http://www.w3.org/2000/svg\" height=\"24px\"viewBox=\"0 0 24 24\"\n",
              "     width=\"24px\">\n",
              "    <g>\n",
              "        <path d=\"M19 3H5c-1.1 0-2 .9-2 2v14c0 1.1.9 2 2 2h14c1.1 0 2-.9 2-2V5c0-1.1-.9-2-2-2zM9 17H7v-7h2v7zm4 0h-2V7h2v10zm4 0h-2v-4h2v4z\"/>\n",
              "    </g>\n",
              "</svg>\n",
              "  </button>\n",
              "\n",
              "<style>\n",
              "  .colab-df-quickchart {\n",
              "      --bg-color: #E8F0FE;\n",
              "      --fill-color: #1967D2;\n",
              "      --hover-bg-color: #E2EBFA;\n",
              "      --hover-fill-color: #174EA6;\n",
              "      --disabled-fill-color: #AAA;\n",
              "      --disabled-bg-color: #DDD;\n",
              "  }\n",
              "\n",
              "  [theme=dark] .colab-df-quickchart {\n",
              "      --bg-color: #3B4455;\n",
              "      --fill-color: #D2E3FC;\n",
              "      --hover-bg-color: #434B5C;\n",
              "      --hover-fill-color: #FFFFFF;\n",
              "      --disabled-bg-color: #3B4455;\n",
              "      --disabled-fill-color: #666;\n",
              "  }\n",
              "\n",
              "  .colab-df-quickchart {\n",
              "    background-color: var(--bg-color);\n",
              "    border: none;\n",
              "    border-radius: 50%;\n",
              "    cursor: pointer;\n",
              "    display: none;\n",
              "    fill: var(--fill-color);\n",
              "    height: 32px;\n",
              "    padding: 0;\n",
              "    width: 32px;\n",
              "  }\n",
              "\n",
              "  .colab-df-quickchart:hover {\n",
              "    background-color: var(--hover-bg-color);\n",
              "    box-shadow: 0 1px 2px rgba(60, 64, 67, 0.3), 0 1px 3px 1px rgba(60, 64, 67, 0.15);\n",
              "    fill: var(--button-hover-fill-color);\n",
              "  }\n",
              "\n",
              "  .colab-df-quickchart-complete:disabled,\n",
              "  .colab-df-quickchart-complete:disabled:hover {\n",
              "    background-color: var(--disabled-bg-color);\n",
              "    fill: var(--disabled-fill-color);\n",
              "    box-shadow: none;\n",
              "  }\n",
              "\n",
              "  .colab-df-spinner {\n",
              "    border: 2px solid var(--fill-color);\n",
              "    border-color: transparent;\n",
              "    border-bottom-color: var(--fill-color);\n",
              "    animation:\n",
              "      spin 1s steps(1) infinite;\n",
              "  }\n",
              "\n",
              "  @keyframes spin {\n",
              "    0% {\n",
              "      border-color: transparent;\n",
              "      border-bottom-color: var(--fill-color);\n",
              "      border-left-color: var(--fill-color);\n",
              "    }\n",
              "    20% {\n",
              "      border-color: transparent;\n",
              "      border-left-color: var(--fill-color);\n",
              "      border-top-color: var(--fill-color);\n",
              "    }\n",
              "    30% {\n",
              "      border-color: transparent;\n",
              "      border-left-color: var(--fill-color);\n",
              "      border-top-color: var(--fill-color);\n",
              "      border-right-color: var(--fill-color);\n",
              "    }\n",
              "    40% {\n",
              "      border-color: transparent;\n",
              "      border-right-color: var(--fill-color);\n",
              "      border-top-color: var(--fill-color);\n",
              "    }\n",
              "    60% {\n",
              "      border-color: transparent;\n",
              "      border-right-color: var(--fill-color);\n",
              "    }\n",
              "    80% {\n",
              "      border-color: transparent;\n",
              "      border-right-color: var(--fill-color);\n",
              "      border-bottom-color: var(--fill-color);\n",
              "    }\n",
              "    90% {\n",
              "      border-color: transparent;\n",
              "      border-bottom-color: var(--fill-color);\n",
              "    }\n",
              "  }\n",
              "</style>\n",
              "\n",
              "  <script>\n",
              "    async function quickchart(key) {\n",
              "      const quickchartButtonEl =\n",
              "        document.querySelector('#' + key + ' button');\n",
              "      quickchartButtonEl.disabled = true;  // To prevent multiple clicks.\n",
              "      quickchartButtonEl.classList.add('colab-df-spinner');\n",
              "      try {\n",
              "        const charts = await google.colab.kernel.invokeFunction(\n",
              "            'suggestCharts', [key], {});\n",
              "      } catch (error) {\n",
              "        console.error('Error during call to suggestCharts:', error);\n",
              "      }\n",
              "      quickchartButtonEl.classList.remove('colab-df-spinner');\n",
              "      quickchartButtonEl.classList.add('colab-df-quickchart-complete');\n",
              "    }\n",
              "    (() => {\n",
              "      let quickchartButtonEl =\n",
              "        document.querySelector('#df-cb521ec3-b169-4be8-9fe2-90cd59b95740 button');\n",
              "      quickchartButtonEl.style.display =\n",
              "        google.colab.kernel.accessAllowed ? 'block' : 'none';\n",
              "    })();\n",
              "  </script>\n",
              "</div>\n",
              "    </div>\n",
              "  </div>\n"
            ],
            "application/vnd.google.colaboratory.intrinsic+json": {
              "type": "dataframe",
              "summary": "{\n  \"name\": \"tables[0]\",\n  \"rows\": 33,\n  \"fields\": [\n    {\n      \"column\": 0,\n      \"properties\": {\n        \"dtype\": \"string\",\n        \"num_unique_values\": 33,\n        \"samples\": [\n          \"31\",\n          \"15\",\n          \"26\"\n        ],\n        \"semantic_type\": \"\",\n        \"description\": \"\"\n      }\n    },\n    {\n      \"column\": 1,\n      \"properties\": {\n        \"dtype\": \"category\",\n        \"num_unique_values\": 1,\n        \"samples\": [\n          \"Color\"\n        ],\n        \"semantic_type\": \"\",\n        \"description\": \"\"\n      }\n    },\n    {\n      \"column\": 2,\n      \"properties\": {\n        \"dtype\": \"string\",\n        \"num_unique_values\": 33,\n        \"samples\": [\n          \"lightsteelblue\"\n        ],\n        \"semantic_type\": \"\",\n        \"description\": \"\"\n      }\n    },\n    {\n      \"column\": 3,\n      \"properties\": {\n        \"dtype\": \"string\",\n        \"num_unique_values\": 33,\n        \"samples\": [\n          \"#B0C4DE\"\n        ],\n        \"semantic_type\": \"\",\n        \"description\": \"\"\n      }\n    },\n    {\n      \"column\": 4,\n      \"properties\": {\n        \"dtype\": \"string\",\n        \"num_unique_values\": 33,\n        \"samples\": [\n          \"rgb(176,196,222)\"\n        ],\n        \"semantic_type\": \"\",\n        \"description\": \"\"\n      }\n    }\n  ]\n}"
            }
          },
          "metadata": {},
          "execution_count": 92
        }
      ],
      "source": [
        "tables[0]"
      ],
      "execution_count": 92
    },
    {
      "cell_type": "markdown",
      "metadata": {
        "id": "c8f3b516-8f37-458d-b066-40a09d7822f1"
      },
      "source": [
        "## Authors\n"
      ]
    },
    {
      "cell_type": "markdown",
      "metadata": {
        "id": "5bb8bc84-1aac-4657-816e-eba48b63c714"
      },
      "source": [
        "Ramesh Sannareddy\n"
      ]
    },
    {
      "cell_type": "markdown",
      "metadata": {
        "id": "d72bf321-85c4-4266-98c2-711f254f5fc8"
      },
      "source": [
        "### Other Contributors\n"
      ]
    },
    {
      "cell_type": "markdown",
      "metadata": {
        "id": "64f3d111-cb4e-48f0-8d48-f14b127d0086"
      },
      "source": [
        "Rav Ahuja\n",
        "\n",
        "Abhishek Gagneja\n"
      ]
    },
    {
      "cell_type": "markdown",
      "metadata": {
        "id": "004b12d1-23f2-4825-8bae-f10f9d938b65"
      },
      "source": [
        "## Change Log\n"
      ]
    },
    {
      "cell_type": "markdown",
      "metadata": {
        "id": "b4666504-a363-43b0-a074-1b0d3730821f"
      },
      "source": [
        "| Date (YYYY-MM-DD) | Version | Changed By            |          Change Description         |\n",
        "| ----------------- | ------- | ----------------------| ----------------------------------- |\n",
        "| 2024-05-01 | 1.1a | Martin Borja | Added responses and extensions to code facilitating knowledge capture and practice operations related to webscraping webpage content |\n",
        "| 2023-11-02 | 1.1 | Abhishek Gagneja | Updated instructions, added web scraping using Pandas |\n",
        "| 2023-06-11        | 1.0     | Akansha Yadav         |   Spell check                       |\n",
        "| 2020-10-17        | 0.1     | Joseph Santarcangelo  |  Created initial version of the lab |\n"
      ]
    },
    {
      "cell_type": "markdown",
      "metadata": {
        "id": "870cd452-60e2-4b89-93c3-b381756818e2"
      },
      "source": [
        "Copyright © 2023 IBM Corporation. This notebook and its source code are released under the terms of the [MIT License](https://cognitiveclass.ai/mit-license/?utm_medium=Exinfluencer&utm_source=Exinfluencer&utm_content=000026UJ&utm_term=10006555&utm_id=NA-SkillsNetwork-Channel-SkillsNetworkCoursesIBMDeveloperSkillsNetworkPY0101ENSkillsNetwork19487395-2021-01-01).\n"
      ]
    }
  ],
  "metadata": {
    "kernelspec": {
      "display_name": "Python",
      "language": "python",
      "name": "conda-env-python-py"
    },
    "language_info": {
      "name": ""
    },
    "colab": {
      "provenance": [],
      "include_colab_link": true
    }
  },
  "nbformat": 4,
  "nbformat_minor": 0
}
