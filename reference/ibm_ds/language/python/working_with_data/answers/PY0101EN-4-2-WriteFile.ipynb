{
  "cells": [
    {
      "cell_type": "markdown",
      "metadata": {
        "colab_type": "text",
        "id": "view-in-github"
      },
      "source": [
        "<a href=\"https://colab.research.google.com/github/solver-Mart1n/data-science/blob/main/reference/ibm_ds/language/python/working_with_data/answers/PY0101EN-4-2-WriteFile.ipynb\" target=\"_parent\"><img src=\"https://colab.research.google.com/assets/colab-badge.svg\" alt=\"Open In Colab\"/></a>"
      ]
    },
    {
      "cell_type": "markdown",
      "metadata": {
        "id": "797a878a-08cb-4009-88cc-2edf242e9a62"
      },
      "source": [
        "<p style=\"text-align:center\">\n",
        "    <a href=\"https://skills.network\" target=\"_blank\">\n",
        "    <img src=\"https://cf-courses-data.s3.us.cloud-object-storage.appdomain.cloud/assets/logos/SN_web_lightmode.png\" width=\"200\" alt=\"Skills Network Logo\">\n",
        "    </a>\n",
        "</p>\n",
        "\n",
        "\n",
        "# Write and Save Files in Python\n",
        "\n",
        "\n",
        "Estimated time needed: **25** minutes\n",
        "    \n",
        "\n",
        "## Objectives\n",
        "\n",
        "After completing this lab you will be able to:\n",
        "\n",
        "* Write to files using Python libraries\n"
      ]
    },
    {
      "cell_type": "markdown",
      "metadata": {
        "id": "d8e1f070-1047-482d-ae49-dffd564cd14e"
      },
      "source": [
        "<h2>Table of Contents</h2>\n",
        "<div class=\"alert alert-block alert-info\" style=\"margin-top: 20px\">\n",
        "    <ul>\n",
        "        <li><a href=\"write\">Writing Files</a></li>\n",
        "        <li><a href=\"Append\">Appending Files</a></li>\n",
        "        <li><a href=\"add\">Additional File modes</a></li>\n",
        "        <li><a href=\"copy\">Copy a File</a></li>\n",
        "    </ul>\n",
        "\n",
        "</div>\n",
        "\n",
        "<hr>\n"
      ]
    },
    {
      "cell_type": "markdown",
      "metadata": {
        "id": "452a6a38-54ab-463b-a95d-9e6e02ed5ac9"
      },
      "source": [
        "<h2 id=\"write\">Writing Files</h2>\n"
      ]
    },
    {
      "cell_type": "markdown",
      "metadata": {
        "id": "ddb0f761-92f6-427d-842d-a3f06a96e057"
      },
      "source": [
        " We can open a file object using the method <code>write()</code> to save the text file to a list. To write to a file, the mode argument must be set to **w**. Let’s write a file **Example2.txt** with the line: **“This is line A”**\n"
      ]
    },
    {
      "cell_type": "code",
      "execution_count": 58,
      "metadata": {
        "id": "35e31add-adce-40e6-9175-f8ecbe1b4aa3",
        "vscode": {
          "languageId": "python"
        }
      },
      "outputs": [],
      "source": [
        "# Write line to file\n",
        "exmp2 = 'Example2.txt'\n",
        "with open(exmp2, 'w') as writefile:\n",
        "    writefile.write(\"This is line A\")"
      ]
    },
    {
      "cell_type": "markdown",
      "metadata": {
        "id": "7006da31-ece9-4519-8397-18da2534271c"
      },
      "source": [
        " We can read the file to see if it worked:\n"
      ]
    },
    {
      "cell_type": "code",
      "execution_count": 59,
      "metadata": {
        "colab": {
          "base_uri": "https://localhost:8080/"
        },
        "id": "427d2285-ed1d-4b9e-acc9-e11ba2f044a5",
        "outputId": "a5a11a3b-b9d3-4864-df85-6aed18054530",
        "vscode": {
          "languageId": "python"
        }
      },
      "outputs": [
        {
          "name": "stdout",
          "output_type": "stream",
          "text": [
            "This is line A\n"
          ]
        }
      ],
      "source": [
        "# Read file\n",
        "\n",
        "with open(exmp2, 'r') as testwritefile:\n",
        "    print(testwritefile.read())"
      ]
    },
    {
      "cell_type": "markdown",
      "metadata": {
        "id": "af29e3d1-283f-4352-8787-8923e619ad22"
      },
      "source": [
        "We can write multiple lines:\n"
      ]
    },
    {
      "cell_type": "code",
      "execution_count": 60,
      "metadata": {
        "id": "89fcb3f5-2b43-4257-9426-cb3b8334fcbf",
        "vscode": {
          "languageId": "python"
        }
      },
      "outputs": [],
      "source": [
        "# Write lines to file\n",
        "\n",
        "with open(exmp2, 'w') as writefile:\n",
        "    writefile.write(\"This is line A\\n\")\n",
        "    writefile.write(\"This is line B\\n\")"
      ]
    },
    {
      "cell_type": "markdown",
      "metadata": {
        "id": "a3021a93-e83a-4f76-8194-e2fe44c19b83"
      },
      "source": [
        "The method <code>.write()</code> works similarly to the method <code>.readline()</code>, except instead of reading a new line it writes a new line. The process is illustrated in the figure. The different colour coding of the grid represents a new line added to the file after each method call.\n"
      ]
    },
    {
      "cell_type": "markdown",
      "metadata": {
        "id": "94f143e7-7fbf-48c1-b41a-41795eb46095"
      },
      "source": [
        "<img src=\"https://cf-courses-data.s3.us.cloud-object-storage.appdomain.cloud/IBMDeveloperSkillsNetwork-PY0101EN-SkillsNetwork/labs/Module%204/images/WriteLine.png\" width=\"500\">\n"
      ]
    },
    {
      "cell_type": "markdown",
      "metadata": {
        "id": "42d4af75-ed8d-4a8f-bb7b-a3e6eef3accc"
      },
      "source": [
        "You can check the file to see if your results are correct.\n"
      ]
    },
    {
      "cell_type": "code",
      "execution_count": 61,
      "metadata": {
        "colab": {
          "base_uri": "https://localhost:8080/"
        },
        "id": "40a2df5e-e9f8-45f6-8083-fee0fd9270c0",
        "outputId": "058f82c6-a32e-45f8-aab2-f771d9157c0b",
        "vscode": {
          "languageId": "python"
        }
      },
      "outputs": [
        {
          "name": "stdout",
          "output_type": "stream",
          "text": [
            "This is line A\n",
            "This is line B\n",
            "\n"
          ]
        }
      ],
      "source": [
        "# Check whether write to file\n",
        "\n",
        "with open(exmp2, 'r') as testwritefile:\n",
        "    print(testwritefile.read())"
      ]
    },
    {
      "cell_type": "markdown",
      "metadata": {
        "id": "22f238e2-9be8-4352-b2ca-ac24e75525e7"
      },
      "source": [
        " We write a list to a **.txt** file  as follows:\n"
      ]
    },
    {
      "cell_type": "code",
      "execution_count": 62,
      "metadata": {
        "colab": {
          "base_uri": "https://localhost:8080/"
        },
        "id": "40537774-e98d-490f-b1a0-a50ffc01d521",
        "outputId": "06591e0d-c9c2-4d62-beda-d324c29f9bd1",
        "vscode": {
          "languageId": "python"
        }
      },
      "outputs": [
        {
          "data": {
            "text/plain": [
              "['This is line A\\n', 'This is line B\\n', 'This is line C\\n']"
            ]
          },
          "execution_count": 62,
          "metadata": {},
          "output_type": "execute_result"
        }
      ],
      "source": [
        "# Sample list of text\n",
        "\n",
        "Lines = [\"This is line A\\n\", \"This is line B\\n\", \"This is line C\\n\"]\n",
        "Lines"
      ]
    },
    {
      "cell_type": "code",
      "execution_count": 63,
      "metadata": {
        "colab": {
          "base_uri": "https://localhost:8080/"
        },
        "id": "3e4c5849-b5b9-46e7-98c1-a7edcbe0f87b",
        "outputId": "6df6dd94-40f1-41bf-ec26-f6ba99d77001",
        "vscode": {
          "languageId": "python"
        }
      },
      "outputs": [
        {
          "name": "stdout",
          "output_type": "stream",
          "text": [
            "This is line A\n",
            "\n",
            "This is line B\n",
            "\n",
            "This is line C\n",
            "\n"
          ]
        }
      ],
      "source": [
        "# Write the strings in the list to text file\n",
        "\n",
        "with open('Example2.txt', 'w') as writefile:\n",
        "    for line in Lines:\n",
        "        print(line)\n",
        "        writefile.write(line)"
      ]
    },
    {
      "cell_type": "markdown",
      "metadata": {
        "id": "f08c2259-5283-4a13-9b70-77d26bcbc64a"
      },
      "source": [
        " We can verify the file is written by reading it and printing out the values:  \n"
      ]
    },
    {
      "cell_type": "code",
      "execution_count": 64,
      "metadata": {
        "colab": {
          "base_uri": "https://localhost:8080/"
        },
        "id": "f62730df-5144-41cd-8eaa-3f88eb606a5e",
        "outputId": "5c618039-903c-4a14-de00-8fa274552125",
        "vscode": {
          "languageId": "python"
        }
      },
      "outputs": [
        {
          "name": "stdout",
          "output_type": "stream",
          "text": [
            "This is line A\n",
            "This is line B\n",
            "This is line C\n",
            "\n"
          ]
        }
      ],
      "source": [
        "# Verify if writing to file is successfully executed\n",
        "\n",
        "with open('Example2.txt', 'r') as testwritefile:\n",
        "    print(testwritefile.read())"
      ]
    },
    {
      "cell_type": "markdown",
      "metadata": {
        "id": "e7123448-8fd9-49e2-b372-b340721c1ae5"
      },
      "source": [
        "However, note that setting the mode to __w__ overwrites all the existing data in the file.\n"
      ]
    },
    {
      "cell_type": "code",
      "execution_count": 65,
      "metadata": {
        "colab": {
          "base_uri": "https://localhost:8080/"
        },
        "id": "fbf84f9b-8df6-4743-b0d5-515394067723",
        "outputId": "b8ccde6f-c13c-4687-9c43-0aa054e31b94",
        "vscode": {
          "languageId": "python"
        }
      },
      "outputs": [
        {
          "name": "stdout",
          "output_type": "stream",
          "text": [
            "Overwrite\n",
            "\n"
          ]
        }
      ],
      "source": [
        "with open('Example2.txt', 'w') as writefile:\n",
        "    writefile.write(\"Overwrite\\n\")\n",
        "with open('Example2.txt', 'r') as testwritefile:\n",
        "    print(testwritefile.read())"
      ]
    },
    {
      "cell_type": "markdown",
      "metadata": {
        "id": "81f1dfa6-3645-489b-868c-1bf7a6eb591c"
      },
      "source": [
        "<hr>\n",
        "<h2 id=\"Append\">Appending Files</h2>\n"
      ]
    },
    {
      "cell_type": "markdown",
      "metadata": {
        "id": "42e09469-bdcf-428d-a1fe-7be6a0b10c88"
      },
      "source": [
        " We can write to files without losing any of the existing data as follows by setting the mode argument to append: **a**.  You can append a new line as follows:\n"
      ]
    },
    {
      "cell_type": "code",
      "execution_count": 66,
      "metadata": {
        "id": "644e30d1-1842-4e58-a0e5-359b9b0c0e2b",
        "vscode": {
          "languageId": "python"
        }
      },
      "outputs": [],
      "source": [
        "# Write a new line to text file\n",
        "\n",
        "with open('Example2.txt', 'a') as testwritefile:\n",
        "    testwritefile.write(\"This is line C\\n\")\n",
        "    testwritefile.write(\"This is line D\\n\")\n",
        "    testwritefile.write(\"This is line E\\n\")"
      ]
    },
    {
      "cell_type": "markdown",
      "metadata": {
        "id": "f28f0500-7157-46bd-bf45-b10127802215"
      },
      "source": [
        " You can verify the file has changed by running the following cell:\n"
      ]
    },
    {
      "cell_type": "code",
      "execution_count": 67,
      "metadata": {
        "colab": {
          "base_uri": "https://localhost:8080/"
        },
        "id": "71b4b1b5-f8f8-4613-8307-f4d1195601e1",
        "outputId": "0f1724e3-c9cb-4149-e6e3-51a2961b7cdd",
        "vscode": {
          "languageId": "python"
        }
      },
      "outputs": [
        {
          "name": "stdout",
          "output_type": "stream",
          "text": [
            "Overwrite\n",
            "This is line C\n",
            "This is line D\n",
            "This is line E\n",
            "\n"
          ]
        }
      ],
      "source": [
        "# Verify if the new line is in the text file\n",
        "\n",
        "with open('Example2.txt', 'r') as testwritefile:\n",
        "    print(testwritefile.read())"
      ]
    },
    {
      "cell_type": "markdown",
      "metadata": {
        "id": "af50f45e-67ce-454b-9c2b-6e8951a68b0b"
      },
      "source": [
        "<hr>\n",
        "<h2 id=\"add\">Additional modes</h2>\n"
      ]
    },
    {
      "cell_type": "markdown",
      "metadata": {
        "id": "37c76c7d-21d9-49cf-a003-37b354d88ac4"
      },
      "source": [
        "It's fairly inefficient to open the file in **a** or **w** and then reopen it in **r** to read any lines. Luckily we can access the file in the following modes:\n",
        "- **r+** : Reading and writing. Cannot truncate the file.\n",
        "- **w+** : Writing and reading. Truncates the file.\n",
        "- **a+** : Appending and Reading. Creates a new file, if none exists.\n",
        "You dont have to dwell on the specifics of each mode for this lab.\n"
      ]
    },
    {
      "cell_type": "markdown",
      "metadata": {
        "id": "f086768d-e6d1-480e-93a4-550547ee4fd1"
      },
      "source": [
        "Let's try out the __a+__ mode:\n"
      ]
    },
    {
      "cell_type": "code",
      "execution_count": 68,
      "metadata": {
        "colab": {
          "base_uri": "https://localhost:8080/"
        },
        "id": "90441963-d913-4291-8645-12b623c82d70",
        "outputId": "c84af431-a969-4405-9776-6b0cd238742c",
        "vscode": {
          "languageId": "python"
        }
      },
      "outputs": [
        {
          "name": "stdout",
          "output_type": "stream",
          "text": [
            "\n"
          ]
        }
      ],
      "source": [
        "with open('Example2.txt', 'a+') as testwritefile:\n",
        "    testwritefile.write(\"This is line E\\n\")\n",
        "    print(testwritefile.read())"
      ]
    },
    {
      "cell_type": "markdown",
      "metadata": {
        "id": "6d123ecc-604d-49af-937d-63e5dc6ec67a"
      },
      "source": [
        "There were no errors but <code>read()</code> also did not output anything. This is because of our location in the file.\n"
      ]
    },
    {
      "cell_type": "markdown",
      "metadata": {
        "id": "32e9a0be-68e0-4322-a369-63a88c406fe4"
      },
      "source": [
        "Most of the file methods we've looked at work in a certain location in the file. <code>.write() </code> writes at a certain location in the file. <code>.read()</code> reads at a certain location in the file and so on. You can think of this as moving your pointer around in the notepad to make changes at a specific location.\n"
      ]
    },
    {
      "cell_type": "markdown",
      "metadata": {
        "id": "9192e144-e919-4032-9e4f-700733fd0453"
      },
      "source": [
        "Opening the file in **w** is akin to opening the .txt file, moving your cursor to the beginning of the text file, writing new text and deleting everything that follows.\n",
        "Whereas opening the file in **a** is similar to opening the .txt file, moving your cursor to the very end and then adding the new pieces of text. <br>\n",
        "It is often very useful to know where the 'cursor' is in a file and be able to control it. The following methods allow us to do precisely this -\n",
        "- <code>.tell()</code> - returns the current position in bytes\n",
        "- <code>.seek(offset,from)</code> - changes the position by 'offset' bytes with respect to 'from'. From can take the value of 0,1,2 corresponding to the beginning, relative to current position and end\n"
      ]
    },
    {
      "cell_type": "markdown",
      "metadata": {
        "id": "791e6013-c886-46fa-874a-ba2e2f8db911"
      },
      "source": [
        "Now lets revisit **a+**\n"
      ]
    },
    {
      "cell_type": "code",
      "execution_count": 69,
      "metadata": {
        "colab": {
          "base_uri": "https://localhost:8080/"
        },
        "id": "4e2f082b-660a-4def-827b-d28640c92920",
        "outputId": "912be494-1443-4283-ad6b-3ee99c501c65",
        "vscode": {
          "languageId": "python"
        }
      },
      "outputs": [
        {
          "name": "stdout",
          "output_type": "stream",
          "text": [
            "Initial Location: 70\n",
            "Read nothing\n",
            "\n",
            "New Location : 0\n",
            "Overwrite\n",
            "This is line C\n",
            "This is line D\n",
            "This is line E\n",
            "This is line E\n",
            "\n",
            "Location after read: 70\n"
          ]
        }
      ],
      "source": [
        "with open('Example2.txt', 'a+') as testwritefile:\n",
        "    print(\"Initial Location: {}\".format(testwritefile.tell()))\n",
        "\n",
        "    data = testwritefile.read()\n",
        "    if (not data):  #empty strings return false in python\n",
        "            print('Read nothing')\n",
        "    else:\n",
        "            print(testwritefile.read())\n",
        "\n",
        "    testwritefile.seek(0,0) # move 0 bytes from beginning.\n",
        "\n",
        "    print(\"\\nNew Location : {}\".format(testwritefile.tell()))\n",
        "    data = testwritefile.read()\n",
        "    if (not data):\n",
        "            print('Read nothing')\n",
        "    else:\n",
        "            print(data)\n",
        "\n",
        "    print(\"Location after read: {}\".format(testwritefile.tell()) )"
      ]
    },
    {
      "cell_type": "markdown",
      "metadata": {
        "id": "33935fea-1417-4b5d-9d38-1301db901b75"
      },
      "source": [
        "Finally, a note on the difference between **w+** and **r+**. Both of these modes allow access to read and write methods; however, opening a file in **w+** overwrites it and deletes all pre-existing data. <br>\n"
      ]
    },
    {
      "cell_type": "code",
      "execution_count": 70,
      "metadata": {
        "colab": {
          "base_uri": "https://localhost:8080/"
        },
        "id": "0d9871f0-ef6c-4c9d-af5a-f3a0b99ba90b",
        "outputId": "fdfed541-9b16-4c97-9bac-a4334d89bc8c",
        "vscode": {
          "languageId": "python"
        }
      },
      "outputs": [
        {
          "name": "stdout",
          "output_type": "stream",
          "text": [
            "Line 1\n",
            "Line 2\n",
            "Line 3\n",
            "Line 4\n",
            "finished\n",
            " D\n",
            "This is line E\n",
            "This is line E\n",
            "\n"
          ]
        }
      ],
      "source": [
        "with open('Example2.txt', 'r+') as testwritefile:\n",
        "    testwritefile.seek(0,0) #write at beginning of file\n",
        "\n",
        "    testwritefile.write(\"Line 1\" + \"\\n\")\n",
        "    testwritefile.write(\"Line 2\" + \"\\n\")\n",
        "    testwritefile.write(\"Line 3\" + \"\\n\")\n",
        "    testwritefile.write(\"Line 4\" + \"\\n\")\n",
        "    testwritefile.write(\"finished\\n\")\n",
        "    testwritefile.seek(0,0)\n",
        "    print(testwritefile.read())"
      ]
    },
    {
      "cell_type": "markdown",
      "metadata": {
        "id": "c1c724af-9f6e-4e67-8468-2627e9292d8b"
      },
      "source": [
        "To work with a file on existing data, use **r+** and **a+**. While using **r+**, it can be useful to add a <code>.truncate()</code> method at the end of your data. This will reduce the file to your data and delete everything that follows. <br>\n"
      ]
    },
    {
      "cell_type": "code",
      "execution_count": 71,
      "metadata": {
        "colab": {
          "base_uri": "https://localhost:8080/"
        },
        "id": "a9665fa2-09cf-4da9-8e6d-d24d7ebc50c6",
        "outputId": "b5b1252f-98b4-4fba-b686-b4fd24c6ae66",
        "vscode": {
          "languageId": "python"
        }
      },
      "outputs": [
        {
          "name": "stdout",
          "output_type": "stream",
          "text": [
            "Line 1\n",
            "Line 2\n",
            "Line 3\n",
            "Line 4\n",
            "finished\n",
            "\n"
          ]
        }
      ],
      "source": [
        "with open('Example2.txt', 'r+') as testwritefile:\n",
        "    testwritefile.seek(0,0) #write at beginning of file\n",
        "\n",
        "    testwritefile.write(\"Line 1\" + \"\\n\")\n",
        "    testwritefile.write(\"Line 2\" + \"\\n\")\n",
        "    testwritefile.write(\"Line 3\" + \"\\n\")\n",
        "    testwritefile.write(\"Line 4\" + \"\\n\")\n",
        "    testwritefile.write(\"finished\\n\")\n",
        "    testwritefile.truncate()\n",
        "    testwritefile.seek(0,0)\n",
        "    print(testwritefile.read())\n"
      ]
    },
    {
      "cell_type": "markdown",
      "metadata": {
        "id": "f78991f2-d3d9-4a74-b8b5-8556942288ff"
      },
      "source": [
        "<hr>\n"
      ]
    },
    {
      "cell_type": "markdown",
      "metadata": {
        "id": "3e4c33d1-390d-48e5-8fe5-fb08cae63a9f"
      },
      "source": [
        "<h2 id=\"copy\">Copy a File</h2>\n"
      ]
    },
    {
      "cell_type": "markdown",
      "metadata": {
        "id": "9f31a38d-f2fb-4786-8a16-2d8b202a0fd7"
      },
      "source": [
        "Let's copy the file **Example2.txt** to the file **Example3.txt**:\n"
      ]
    },
    {
      "cell_type": "code",
      "execution_count": 72,
      "metadata": {
        "id": "3f53fc09-de21-4ab5-93b3-6f0f07667309",
        "vscode": {
          "languageId": "python"
        }
      },
      "outputs": [],
      "source": [
        "# Copy file to another\n",
        "\n",
        "with open('Example2.txt','r') as readfile:\n",
        "    with open('Example3.txt','w') as writefile:\n",
        "          for line in readfile:\n",
        "                writefile.write(line)"
      ]
    },
    {
      "cell_type": "markdown",
      "metadata": {
        "id": "0ff282b4-3f11-4343-9ddd-59ca1c2cf6b5"
      },
      "source": [
        "We can read the file to see if everything works:\n"
      ]
    },
    {
      "cell_type": "code",
      "execution_count": 73,
      "metadata": {
        "colab": {
          "base_uri": "https://localhost:8080/"
        },
        "id": "fc0834bb-078c-4e75-b4d9-f22a93f564fb",
        "outputId": "6ac3808b-a454-451c-ae21-c770a570a6c9",
        "vscode": {
          "languageId": "python"
        }
      },
      "outputs": [
        {
          "name": "stdout",
          "output_type": "stream",
          "text": [
            "Line 1\n",
            "Line 2\n",
            "Line 3\n",
            "Line 4\n",
            "finished\n",
            "\n"
          ]
        }
      ],
      "source": [
        "# Verify if the copy is successfully executed\n",
        "\n",
        "with open('Example3.txt','r') as testwritefile:\n",
        "    print(testwritefile.read())"
      ]
    },
    {
      "cell_type": "markdown",
      "metadata": {
        "id": "bd7e5f1a-624f-4768-9ff6-d3073b6edf52"
      },
      "source": [
        " After reading files, we can also write data into files and save them in different file formats like **.txt, .csv, .xls (for excel files) etc**. You will come across these in further examples\n"
      ]
    },
    {
      "cell_type": "markdown",
      "metadata": {
        "id": "3692afc8-09d2-4f28-83dd-50a34ee90b49"
      },
      "source": [
        "**NOTE:** If you wish to open and view the `example3.txt` file, download this lab [here](https://cf-courses-data.s3.us.cloud-object-storage.appdomain.cloud/IBMDeveloperSkillsNetwork-PY0101EN-SkillsNetwork/labs/Module%204/PY0101EN-4-2-WriteFile.ipynb) and run it locally on your machine. Then go to the working directory to ensure the `example3.txt` file exists and contains the summary data that we wrote.\n"
      ]
    },
    {
      "cell_type": "markdown",
      "metadata": {
        "id": "d18b0ed1-6d85-4fb1-8422-882884e6c146"
      },
      "source": [
        "<hr>\n"
      ]
    },
    {
      "cell_type": "markdown",
      "metadata": {
        "id": "a3c9eabd-2e1d-465f-b41a-42e7f7364d3e"
      },
      "source": [
        "<h2> Exercise </h2>\n"
      ]
    },
    {
      "cell_type": "markdown",
      "metadata": {
        "id": "4bdfbf43-7635-4347-b758-76e0301bfcbc"
      },
      "source": [
        "Your local university's Raptors fan club maintains a register of its active members on a .txt document. Every month they update the file by removing the members who are not active. You have been tasked with automating this with your Python skills. <br>\n",
        "Given the file `currentMem`, Remove each member with a 'no' in their Active column. Keep track of each of the removed members and append them to the `exMem` file. Make sure that the format of the original files in preserved.   (*Hint: Do this by reading/writing whole lines and ensuring the header remains* )\n",
        "<br>\n",
        "Run the code block below prior to starting the exercise. The skeleton code has been provided for you. Edit only the `cleanFiles` function.\n"
      ]
    },
    {
      "cell_type": "code",
      "execution_count": 54,
      "metadata": {
        "id": "f97c51a0-e79b-4ef7-a17f-d39a17a03a27",
        "vscode": {
          "languageId": "python"
        }
      },
      "outputs": [],
      "source": [
        "#Run this prior to starting the exercise\n",
        "from random import randint as rnd\n",
        "\n",
        "memReg = 'members.txt'\n",
        "exReg = 'inactive.txt'\n",
        "fee =('yes','no')\n",
        "\n",
        "def genFiles(current,old):\n",
        "    with open(current,'w') as writefile:\n",
        "        writefile.write('Membership No  Date Joined  Active  \\n')\n",
        "        data = \"{:^13}  {:<11}  {:<6}\\n\"\n",
        "\n",
        "        for rowno in range(20):\n",
        "            date = str(rnd(2015,2020))+ '-' + str(rnd(1,12))+'-'+str(rnd(1,25))\n",
        "            writefile.write(data.format(rnd(10000,99999),date,fee[rnd(0,1)]))\n",
        "\n",
        "\n",
        "    with open(old,'w') as writefile:\n",
        "        writefile.write('Membership No  Date Joined  Active  \\n')\n",
        "        data = \"{:^13}  {:<11}  {:<6}\\n\"\n",
        "        for rowno in range(3):\n",
        "            date = str(rnd(2015,2020))+ '-' + str(rnd(1,12))+'-'+str(rnd(1,25))\n",
        "            writefile.write(data.format(rnd(10000,99999),date,fee[1]))\n",
        "\n",
        "\n",
        "genFiles(memReg,exReg)\n"
      ]
    },
    {
      "cell_type": "code",
      "execution_count": 55,
      "metadata": {
        "colab": {
          "base_uri": "https://localhost:8080/"
        },
        "id": "FI4bjXD3DU3y",
        "outputId": "de7565ef-7cdb-4f89-8685-e26c3d4e40bb",
        "vscode": {
          "languageId": "python"
        }
      },
      "outputs": [
        {
          "name": "stdout",
          "output_type": "stream",
          "text": [
            "members\n",
            "Membership No  Date Joined  Active  \n",
            "\n",
            "    82421      2020-1-18    no    \n",
            "\n",
            "    22622      2015-10-18   no    \n",
            "\n",
            "    76488      2019-1-7     no    \n",
            "\n",
            "    74145      2020-8-2     yes   \n",
            "\n",
            "    45580      2020-5-25    yes   \n",
            "\n",
            "    46556      2018-11-3    no    \n",
            "\n",
            "    78814      2016-10-23   no    \n",
            "\n",
            "    19210      2019-7-21    no    \n",
            "\n",
            "    83683      2016-7-5     no    \n",
            "\n",
            "    96912      2018-4-13    yes   \n",
            "\n",
            "    97017      2020-4-6     no    \n",
            "\n",
            "    39075      2015-7-4     yes   \n",
            "\n",
            "    53457      2020-2-6     no    \n",
            "\n",
            "    10157      2017-8-23    yes   \n",
            "\n",
            "    78495      2015-9-18    no    \n",
            "\n",
            "    59788      2017-2-16    yes   \n",
            "\n",
            "    70618      2020-2-23    no    \n",
            "\n",
            "    17292      2018-12-20   no    \n",
            "\n",
            "    21293      2018-3-5     no    \n",
            "\n",
            "    59845      2019-4-2     no    \n",
            "\n",
            "inactive\n",
            "Membership No  Date Joined  Active  \n",
            "\n",
            "    29578      2017-6-16    no    \n",
            "\n",
            "    85570      2019-1-24    no    \n",
            "\n",
            "    96456      2017-6-10    no    \n",
            "\n"
          ]
        }
      ],
      "source": [
        "print('members')\n",
        "with open(memReg,'r') as memFile:\n",
        "    for line in memFile:\n",
        "        print(line)\n",
        "\n",
        "print('inactive')\n",
        "with open(exReg,'r') as exFile:\n",
        "    for line in exFile:\n",
        "        print(line)"
      ]
    },
    {
      "cell_type": "markdown",
      "metadata": {
        "id": "6f922d4e-aad7-45cd-8e6e-f293128f44f4"
      },
      "source": [
        "Now that you've run the prerequisite code cell above, which prepared the files for this exercise, you are ready to move on to the implementation.\n",
        "\n",
        "#### **Exercise:** Implement the cleanFiles function in the code cell below.\n"
      ]
    },
    {
      "cell_type": "code",
      "execution_count": 56,
      "metadata": {
        "colab": {
          "base_uri": "https://localhost:8080/"
        },
        "id": "7476e437-e11d-4097-ae7b-46fc226ded45",
        "outputId": "79fd9dfe-0c32-4999-fc10-372db54a7727",
        "vscode": {
          "languageId": "python"
        }
      },
      "outputs": [
        {
          "name": "stdout",
          "output_type": "stream",
          "text": [
            "Active Members: \n",
            "\n",
            "\n",
            "Membership No  Date Joined  Active  \n",
            "    74145      2020-8-2     yes   \n",
            "    45580      2020-5-25    yes   \n",
            "    96912      2018-4-13    yes   \n",
            "    39075      2015-7-4     yes   \n",
            "    10157      2017-8-23    yes   \n",
            "    59788      2017-2-16    yes   \n",
            "\n",
            "Inactive Members: \n",
            "\n",
            "\n",
            "Membership No  Date Joined  Active  \n",
            "    29578      2017-6-16    no    \n",
            "    85570      2019-1-24    no    \n",
            "    96456      2017-6-10    no    \n",
            "    82421      2020-1-18    no    \n",
            "    22622      2015-10-18   no    \n",
            "    76488      2019-1-7     no    \n",
            "    46556      2018-11-3    no    \n",
            "    78814      2016-10-23   no    \n",
            "    19210      2019-7-21    no    \n",
            "    83683      2016-7-5     no    \n",
            "    97017      2020-4-6     no    \n",
            "    53457      2020-2-6     no    \n",
            "    78495      2015-9-18    no    \n",
            "    70618      2020-2-23    no    \n",
            "    17292      2018-12-20   no    \n",
            "    21293      2018-3-5     no    \n",
            "    59845      2019-4-2     no    \n",
            "\n"
          ]
        }
      ],
      "source": [
        "\n",
        "'''\n",
        "The two arguments for this function are the files:\n",
        "    - currentMem: File containing list of current members\n",
        "    - exMem: File containing list of old members\n",
        "\n",
        "    This function should remove all rows from currentMem containing 'no'\n",
        "    in the 'Active' column and appends them to exMem.\n",
        "    '''\n",
        "def cleanFiles(currentMem, exMem):\n",
        "    # 1.) Open the currentMem file as in r+ mode\n",
        "    with open(currentMem,'r+') as currentFile:\n",
        "        # 2.) Open the exMem file in a+ mode\n",
        "        with open(exMem,'a+') as exFile:\n",
        "            currentFile.seek(0)\n",
        "            members = []\n",
        "            # 3.) Read each member in the currentMem (1 member per row) file into a list.\n",
        "            for line in currentFile:\n",
        "                members.append(line)\n",
        "            # 4.) Recall that the first line in the file is the header.\n",
        "            header = members[0]\n",
        "            members.pop(0) # Mart1n: removes the header line from the members list\n",
        "            inactive = []\n",
        "            # 5.) iterate through the members and create a new list of the innactive members\n",
        "            for member in members:\n",
        "                if \"no\" in member:\n",
        "                    inactive.append(member)\n",
        "            # 6.) Go to the beginning of the currentMem file\n",
        "            currentFile.seek(0)\n",
        "            currentFile.write(header)\n",
        "            # 7.) Iterate through the members list.\n",
        "            for member in members:\n",
        "                # 8.) If a member is inactive, add them to exMem, otherwise write them into currentMem\n",
        "                if member in inactive:\n",
        "                    exFile.write(member)\n",
        "                else:\n",
        "                    currentFile.write(member)\n",
        "            # Mart1n: truncate extra lines in currentFile after overwriting\n",
        "            currentFile.truncate()\n",
        "\n",
        "\n",
        "# The code below is to help you view the files.\n",
        "# Do not modify this code for this exercise.\n",
        "memReg = 'members.txt'\n",
        "exReg = 'inactive.txt'\n",
        "cleanFiles(memReg,exReg)\n",
        "\n",
        "\n",
        "headers = \"Membership No  Date Joined  Active  \\n\"\n",
        "with open(memReg,'r') as readFile:\n",
        "    print(\"Active Members: \\n\\n\")\n",
        "    print(readFile.read())\n",
        "\n",
        "with open(exReg,'r') as readFile:\n",
        "    print(\"Inactive Members: \\n\\n\")\n",
        "    print(readFile.read())\n",
        "\n"
      ]
    },
    {
      "cell_type": "markdown",
      "metadata": {
        "id": "091f25e1-f631-4de4-a963-276f2e30a2a5"
      },
      "source": [
        "The code cell below is to verify your solution. Please do not modify the code and run it to test your implementation of `cleanFiles`.\n"
      ]
    },
    {
      "cell_type": "code",
      "execution_count": 57,
      "metadata": {
        "colab": {
          "base_uri": "https://localhost:8080/"
        },
        "id": "8c8da530-7230-4116-90d7-7aaa3960f517",
        "outputId": "dc688af8-b600-4337-d115-c511b9bb9a6c",
        "vscode": {
          "languageId": "python"
        }
      },
      "outputs": [
        {
          "name": "stdout",
          "output_type": "stream",
          "text": [
            "Test Passed\n"
          ]
        }
      ],
      "source": [
        "def testMsg(passed):\n",
        "    if passed:\n",
        "       return 'Test Passed'\n",
        "    else :\n",
        "       return 'Test Failed'\n",
        "\n",
        "testWrite = \"testWrite.txt\"\n",
        "testAppend = \"testAppend.txt\"\n",
        "passed = True\n",
        "\n",
        "genFiles(testWrite,testAppend)\n",
        "\n",
        "with open(testWrite,'r') as file:\n",
        "    ogWrite = file.readlines()\n",
        "\n",
        "with open(testAppend,'r') as file:\n",
        "    ogAppend = file.readlines()\n",
        "\n",
        "try:\n",
        "    cleanFiles(testWrite,testAppend)\n",
        "except:\n",
        "    print('Error')\n",
        "\n",
        "with open(testWrite,'r') as file:\n",
        "    clWrite = file.readlines()\n",
        "\n",
        "with open(testAppend,'r') as file:\n",
        "    clAppend = file.readlines()\n",
        "\n",
        "# checking if total no of rows is same, including headers\n",
        "\n",
        "if (len(ogWrite) + len(ogAppend) != len(clWrite) + len(clAppend)):\n",
        "    print(\"The number of rows do not add up. Make sure your final files have the same header and format.\")\n",
        "    passed = False\n",
        "\n",
        "for line in clWrite:\n",
        "    if  'no' in line:\n",
        "        passed = False\n",
        "        print(\"Inactive members in file\")\n",
        "        break\n",
        "    else:\n",
        "        if line not in ogWrite:\n",
        "            print(\"Data in file does not match original file\")\n",
        "            passed = False\n",
        "print (\"{}\".format(testMsg(passed)))\n",
        "\n",
        "\n"
      ]
    },
    {
      "cell_type": "markdown",
      "metadata": {
        "id": "9e894093-450c-4d94-8f6b-1c00b25122dc"
      },
      "source": [
        "<details><summary>Click here for the solution</summary>\n",
        "\n",
        "```python\n",
        "def cleanFiles(currentMem,exMem):\n",
        "    with open(currentMem,'r+') as writeFile:\n",
        "        with open(exMem,'a+') as appendFile:\n",
        "            #get the data\n",
        "            writeFile.seek(0)\n",
        "            members = writeFile.readlines()\n",
        "            #remove header\n",
        "            header = members[0]\n",
        "            members.pop(0)\n",
        "                \n",
        "            inactive = [member for member in members if ('no' in member)]\n",
        "            '''\n",
        "            The above is the same as\n",
        "\n",
        "            for member in members:\n",
        "            if 'no' in member:\n",
        "                inactive.append(member)\n",
        "            '''\n",
        "            #go to the beginning of the write file\n",
        "            writeFile.seek(0)\n",
        "            writeFile.write(header)\n",
        "            for member in members:\n",
        "                if (member in inactive):\n",
        "                    appendFile.write(member)\n",
        "                else:\n",
        "                    writeFile.write(member)      \n",
        "            writeFile.truncate()\n",
        "                \n",
        "memReg = 'members.txt'\n",
        "exReg = 'inactive.txt'\n",
        "cleanFiles(memReg,exReg)\n",
        "\n",
        "# code to help you see the files\n",
        "\n",
        "headers = \"Membership No  Date Joined  Active  \\n\"\n",
        "\n",
        "with open(memReg,'r') as readFile:\n",
        "    print(\"Active Members: \\n\\n\")\n",
        "    print(readFile.read())\n",
        "    \n",
        "with open(exReg,'r') as readFile:\n",
        "    print(\"Inactive Members: \\n\\n\")\n",
        "    print(readFile.read())\n",
        "    \n",
        "```\n",
        "\n",
        "</details>\n",
        "\n",
        "    \n"
      ]
    },
    {
      "cell_type": "markdown",
      "metadata": {
        "id": "d2ca4838-e809-4cd5-9b4e-687f342edc3a"
      },
      "source": [
        "<hr>\n",
        "<h2>The last exercise!</h2>\n",
        "<p>Congratulations, you have completed this lesson and hands-on lab in Python.\n",
        "<hr>\n"
      ]
    },
    {
      "cell_type": "markdown",
      "metadata": {
        "id": "a3292cd9-9d47-426b-b252-993fc0436fa5"
      },
      "source": [
        "## Author\n",
        "\n",
        "<a href=\"https://www.linkedin.com/in/joseph-s-50398b136/\" target=\"_blank\">Joseph Santarcangelo</a>\n",
        "\n",
        "\n",
        "### Other Contributors\n",
        "<a href=\"www.linkedin.com/in/jiahui-mavis-zhou-a4537814a\">Mavis Zhou</a>\n",
        "\n",
        "\n",
        "## Change Log\n",
        "\n",
        "\n",
        "|  Date (YYYY-MM-DD) |  Version | Changed By  |  Change Description |\n",
        "|---|---|---|---|\n",
        "| 2024-04-29 | 2.2a | Martin Borja | Added responses to exercises |\n",
        "| 2023-11-02 | 2.2 | Abhishek Gagneja | Updated instructions |\n",
        "| 2022-01-10  | 2.1  | Malika  | Removed the readme for GitShare|\n",
        "| 2020-10-16  | 1.3  | Arjun Swani  |  Added exercise |\n",
        "| 2020-10-16  | 1.2  | Arjun Swani  |  Added section additional file modes |\n",
        "| 2020-10-16  | 1.1  | Arjun Swani |  Made append a different section |\n",
        "| 2020-08-28  | 0.2  | Lavanya  |  Moved lab to course repo in GitLab |\n",
        "\n",
        "\n",
        "\n",
        "<hr>\n",
        "\n",
        "## <h3 align=\"center\"> © IBM Corporation 2020. All rights reserved. <h3/>\n"
      ]
    },
    {
      "cell_type": "code",
      "execution_count": null,
      "metadata": {
        "id": "54543715-b558-4432-a425-fd4ac9be7e24",
        "vscode": {
          "languageId": "python"
        }
      },
      "outputs": [],
      "source": []
    }
  ],
  "metadata": {
    "colab": {
      "include_colab_link": true,
      "provenance": []
    },
    "kernelspec": {
      "display_name": "Python",
      "language": "python",
      "name": "conda-env-python-py"
    },
    "language_info": {
      "name": ""
    }
  },
  "nbformat": 4,
  "nbformat_minor": 0
}
